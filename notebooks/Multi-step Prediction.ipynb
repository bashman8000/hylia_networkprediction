{
 "cells": [
  {
   "cell_type": "markdown",
   "metadata": {},
   "source": [
    "# Multistep Prediction"
   ]
  },
  {
   "cell_type": "code",
   "execution_count": 1,
   "metadata": {},
   "outputs": [
    {
     "name": "stdout",
     "output_type": "stream",
     "text": [
      "[name: \"/cpu:0\"\n",
      "device_type: \"CPU\"\n",
      "memory_limit: 268435456\n",
      "locality {\n",
      "}\n",
      "incarnation: 17111282281214948882\n",
      ", name: \"/gpu:0\"\n",
      "device_type: \"GPU\"\n",
      "memory_limit: 11311375975\n",
      "locality {\n",
      "  bus_id: 1\n",
      "}\n",
      "incarnation: 6339868775629569925\n",
      "physical_device_desc: \"device: 0, name: Tesla K80, pci bus id: 0000:00:04.0\"\n",
      ", name: \"/gpu:1\"\n",
      "device_type: \"GPU\"\n",
      "memory_limit: 11324388148\n",
      "locality {\n",
      "  bus_id: 1\n",
      "}\n",
      "incarnation: 4519594579225757558\n",
      "physical_device_desc: \"device: 1, name: Tesla K80, pci bus id: 0000:00:05.0\"\n",
      "]\n"
     ]
    }
   ],
   "source": [
    "from tensorflow.python.client import device_lib\n",
    "print(device_lib.list_local_devices())"
   ]
  },
  {
   "cell_type": "markdown",
   "metadata": {},
   "source": [
    "## Loading Data"
   ]
  },
  {
   "cell_type": "code",
   "execution_count": 4,
   "metadata": {},
   "outputs": [],
   "source": [
    "import json\n",
    "import requests\n",
    "import pandas as pd"
   ]
  },
  {
   "cell_type": "code",
   "execution_count": 5,
   "metadata": {},
   "outputs": [],
   "source": [
    "def run_query(query): # A simple function to use requests to make the API call. Returns json content from query.\n",
    "    request = requests.post('https://my.es.net/graphql', json={'query': query})\n",
    "    if request.status_code == 200:\n",
    "        return request.json()\n",
    "    else:\n",
    "        raise Exception(\"Query failed to run by returning code of {}. {}\".format(request.status_code, query))"
   ]
  },
  {
   "cell_type": "code",
   "execution_count": 6,
   "metadata": {},
   "outputs": [],
   "source": [
    "def query_edge(edge_id, beginTime, endTime):\n",
    "    query = '''\n",
    "    {\n",
    "      mapTopologyEdge(id: \"%s\") {\n",
    "            name\n",
    "        traffic(beginTime: \"%s\", endTime: \"%s\")\n",
    "      }\n",
    "    }\n",
    "    ''' % (edge_id, beginTime, endTime)\n",
    "    \n",
    "    return  run_query(query)"
   ]
  },
  {
   "cell_type": "code",
   "execution_count": 22,
   "metadata": {},
   "outputs": [
    {
     "ename": "Exception",
     "evalue": "Query failed to run by returning code of 403. \n    {\n      mapTopologyEdge(id: \"1896\") {\n            name\n        traffic(beginTime: \"2018-05-20T18:22:53.253Z\", endTime: \"2018-05-21T19:22:53.253Z\")\n      }\n    }\n    ",
     "output_type": "error",
     "traceback": [
      "\u001b[0;31m---------------------------------------------------------------------------\u001b[0m",
      "\u001b[0;31mException\u001b[0m                                 Traceback (most recent call last)",
      "\u001b[0;32m<ipython-input-22-38ed4db66977>\u001b[0m in \u001b[0;36m<module>\u001b[0;34m()\u001b[0m\n\u001b[0;32m----> 1\u001b[0;31m \u001b[0medge_1767\u001b[0m \u001b[0;34m=\u001b[0m \u001b[0mquery_edge\u001b[0m\u001b[0;34m(\u001b[0m\u001b[0;34m\"1896\"\u001b[0m\u001b[0;34m,\u001b[0m \u001b[0;34m\"2018-05-20T18:22:53.253Z\"\u001b[0m\u001b[0;34m,\u001b[0m \u001b[0;34m\"2018-05-21T19:22:53.253Z\"\u001b[0m\u001b[0;34m)\u001b[0m\u001b[0;34m\u001b[0m\u001b[0m\n\u001b[0m",
      "\u001b[0;32m<ipython-input-20-6997de6a0d1d>\u001b[0m in \u001b[0;36mquery_edge\u001b[0;34m(edge_id, beginTime, endTime)\u001b[0m\n\u001b[1;32m      9\u001b[0m     ''' % (edge_id, beginTime, endTime)\n\u001b[1;32m     10\u001b[0m \u001b[0;34m\u001b[0m\u001b[0m\n\u001b[0;32m---> 11\u001b[0;31m     \u001b[0;32mreturn\u001b[0m  \u001b[0mrun_query\u001b[0m\u001b[0;34m(\u001b[0m\u001b[0mquery\u001b[0m\u001b[0;34m)\u001b[0m\u001b[0;34m\u001b[0m\u001b[0m\n\u001b[0m",
      "\u001b[0;32m<ipython-input-19-4c23b176f394>\u001b[0m in \u001b[0;36mrun_query\u001b[0;34m(query)\u001b[0m\n\u001b[1;32m      4\u001b[0m         \u001b[0;32mreturn\u001b[0m \u001b[0mrequest\u001b[0m\u001b[0;34m.\u001b[0m\u001b[0mjson\u001b[0m\u001b[0;34m(\u001b[0m\u001b[0;34m)\u001b[0m\u001b[0;34m\u001b[0m\u001b[0m\n\u001b[1;32m      5\u001b[0m     \u001b[0;32melse\u001b[0m\u001b[0;34m:\u001b[0m\u001b[0;34m\u001b[0m\u001b[0m\n\u001b[0;32m----> 6\u001b[0;31m         \u001b[0;32mraise\u001b[0m \u001b[0mException\u001b[0m\u001b[0;34m(\u001b[0m\u001b[0;34m\"Query failed to run by returning code of {}. {}\"\u001b[0m\u001b[0;34m.\u001b[0m\u001b[0mformat\u001b[0m\u001b[0;34m(\u001b[0m\u001b[0mrequest\u001b[0m\u001b[0;34m.\u001b[0m\u001b[0mstatus_code\u001b[0m\u001b[0;34m,\u001b[0m \u001b[0mquery\u001b[0m\u001b[0;34m)\u001b[0m\u001b[0;34m)\u001b[0m\u001b[0;34m\u001b[0m\u001b[0m\n\u001b[0m",
      "\u001b[0;31mException\u001b[0m: Query failed to run by returning code of 403. \n    {\n      mapTopologyEdge(id: \"1896\") {\n            name\n        traffic(beginTime: \"2018-05-20T18:22:53.253Z\", endTime: \"2018-05-21T19:22:53.253Z\")\n      }\n    }\n    "
     ]
    }
   ],
   "source": [
    "edge_1767 = query_edge(\"1896\", \"2018-05-20T18:22:53.253Z\", \"2018-05-21T19:22:53.253Z\")"
   ]
  },
  {
   "cell_type": "code",
   "execution_count": 15,
   "metadata": {},
   "outputs": [],
   "source": []
  },
  {
   "cell_type": "markdown",
   "metadata": {},
   "source": [
    "## Clean Data"
   ]
  },
  {
   "cell_type": "code",
   "execution_count": 6,
   "metadata": {},
   "outputs": [],
   "source": [
    "from __future__ import print_function\n",
    "import numpy as np\n",
    "import matplotlib.pyplot as plt\n",
    "from datetime import datetime\n",
    "import re\n",
    "%matplotlib inline"
   ]
  },
  {
   "cell_type": "code",
   "execution_count": 7,
   "metadata": {},
   "outputs": [],
   "source": [
    "#Clean data for single edge\n",
    "\n",
    "def clean_edge_data(json_data):\n",
    "    #get \"traffic\" label from json data\n",
    "    traffic = str(json_data['data']['mapTopologyEdge']['traffic'])\n",
    "\n",
    "    #get index of \"points\" label\n",
    "    index = traffic.find(\"points\")\n",
    "\n",
    "    #get \"points\" data\n",
    "    in_out = traffic[index+len(\"points: \"):].split(\"],\")\n",
    "    points = [str(item).strip().replace(\"[\", \"\").replace(\"]\", \"\").replace(\",\", \"\").split() for item in in_out]\n",
    "    points = points[0:len(points)-1]\n",
    "\n",
    "    #get labels of points data (ex. CHIC--STAR, STAR--CHIC)\n",
    "    labels = traffic[traffic.find(\"labels\")+len(\"labels: \"):].split(\"],\")[0].replace(\"[\", \n",
    "                                            \"\").replace(\"]\", \"\").replace(\",\", \"\").replace('\"', \"\").strip().split()\n",
    "    #Add \"Time\" to list for header in DataFrame\n",
    "    labels = [\"Time\"] + labels\n",
    "    \n",
    "    #Create DataFrame\n",
    "    df = pd.DataFrame(points, columns=labels)\n",
    "    df = df.astype('float')\n",
    "    df['Time'] = df['Time'].apply(lambda x: datetime.fromtimestamp(x/1000.))\n",
    "    \n",
    "    return df"
   ]
  },
  {
   "cell_type": "code",
   "execution_count": 8,
   "metadata": {},
   "outputs": [
    {
     "data": {
      "text/html": [
       "<div>\n",
       "<style scoped>\n",
       "    .dataframe tbody tr th:only-of-type {\n",
       "        vertical-align: middle;\n",
       "    }\n",
       "\n",
       "    .dataframe tbody tr th {\n",
       "        vertical-align: top;\n",
       "    }\n",
       "\n",
       "    .dataframe thead th {\n",
       "        text-align: right;\n",
       "    }\n",
       "</style>\n",
       "<table border=\"1\" class=\"dataframe\">\n",
       "  <thead>\n",
       "    <tr style=\"text-align: right;\">\n",
       "      <th></th>\n",
       "      <th>Time</th>\n",
       "      <th>CHIC--STAR</th>\n",
       "      <th>STAR--CHIC</th>\n",
       "    </tr>\n",
       "  </thead>\n",
       "  <tbody>\n",
       "    <tr>\n",
       "      <th>0</th>\n",
       "      <td>2018-04-01 18:22:30</td>\n",
       "      <td>1.351156e+10</td>\n",
       "      <td>5.171229e+10</td>\n",
       "    </tr>\n",
       "    <tr>\n",
       "      <th>1</th>\n",
       "      <td>2018-04-01 18:23:00</td>\n",
       "      <td>1.150464e+10</td>\n",
       "      <td>4.579439e+10</td>\n",
       "    </tr>\n",
       "    <tr>\n",
       "      <th>2</th>\n",
       "      <td>2018-04-01 18:23:30</td>\n",
       "      <td>1.094079e+10</td>\n",
       "      <td>4.590426e+10</td>\n",
       "    </tr>\n",
       "    <tr>\n",
       "      <th>3</th>\n",
       "      <td>2018-04-01 18:24:00</td>\n",
       "      <td>1.109229e+10</td>\n",
       "      <td>4.263118e+10</td>\n",
       "    </tr>\n",
       "    <tr>\n",
       "      <th>4</th>\n",
       "      <td>2018-04-01 18:24:30</td>\n",
       "      <td>1.092547e+10</td>\n",
       "      <td>5.861116e+10</td>\n",
       "    </tr>\n",
       "  </tbody>\n",
       "</table>\n",
       "</div>"
      ],
      "text/plain": [
       "                 Time    CHIC--STAR    STAR--CHIC\n",
       "0 2018-04-01 18:22:30  1.351156e+10  5.171229e+10\n",
       "1 2018-04-01 18:23:00  1.150464e+10  4.579439e+10\n",
       "2 2018-04-01 18:23:30  1.094079e+10  4.590426e+10\n",
       "3 2018-04-01 18:24:00  1.109229e+10  4.263118e+10\n",
       "4 2018-04-01 18:24:30  1.092547e+10  5.861116e+10"
      ]
     },
     "execution_count": 8,
     "metadata": {},
     "output_type": "execute_result"
    }
   ],
   "source": [
    "#Create DataFrame\n",
    "points_1767 = clean_edge_data(edge_1767)\n",
    "points_1767.head()"
   ]
  },
  {
   "cell_type": "markdown",
   "metadata": {},
   "source": [
    "## Feature Extraction"
   ]
  },
  {
   "cell_type": "code",
   "execution_count": 9,
   "metadata": {},
   "outputs": [],
   "source": [
    "def edge_features(df, pathway):\n",
    "    #Get only one pathway (CHIC--STAR)\n",
    "    single_pathway = df[['Time', pathway]]\n",
    "\n",
    "    #Convert times to datetime objects\n",
    "    times = single_pathway['Time']\n",
    "\n",
    "    #Is date weekend?\n",
    "    weekends = times.apply(lambda x: x.weekday() >= 5)*1\n",
    "    single_pathway['Weekend'] = weekends\n",
    "\n",
    "    #Add day of the week\n",
    "    days = times.apply(lambda x: x.weekday())\n",
    "    single_pathway['Day'] = days\n",
    "\n",
    "    #Add hours, minutes\n",
    "    hours = times.apply(lambda x: x.hour)\n",
    "    minutes = times.apply(lambda x: x.minute + x.second/60.)\n",
    "    single_pathway['Hour'] = hours\n",
    "    single_pathway['Minute'] = minutes\n",
    "\n",
    "    return single_pathway"
   ]
  },
  {
   "cell_type": "code",
   "execution_count": 10,
   "metadata": {},
   "outputs": [
    {
     "data": {
      "text/html": [
       "<div>\n",
       "<style scoped>\n",
       "    .dataframe tbody tr th:only-of-type {\n",
       "        vertical-align: middle;\n",
       "    }\n",
       "\n",
       "    .dataframe tbody tr th {\n",
       "        vertical-align: top;\n",
       "    }\n",
       "\n",
       "    .dataframe thead th {\n",
       "        text-align: right;\n",
       "    }\n",
       "</style>\n",
       "<table border=\"1\" class=\"dataframe\">\n",
       "  <thead>\n",
       "    <tr style=\"text-align: right;\">\n",
       "      <th></th>\n",
       "      <th>Time</th>\n",
       "      <th>CHIC--STAR</th>\n",
       "      <th>Weekend</th>\n",
       "      <th>Day</th>\n",
       "      <th>Hour</th>\n",
       "      <th>Minute</th>\n",
       "    </tr>\n",
       "  </thead>\n",
       "  <tbody>\n",
       "    <tr>\n",
       "      <th>0</th>\n",
       "      <td>2018-04-01 18:22:30</td>\n",
       "      <td>1.351156e+10</td>\n",
       "      <td>1</td>\n",
       "      <td>6</td>\n",
       "      <td>18</td>\n",
       "      <td>22.5</td>\n",
       "    </tr>\n",
       "    <tr>\n",
       "      <th>1</th>\n",
       "      <td>2018-04-01 18:23:00</td>\n",
       "      <td>1.150464e+10</td>\n",
       "      <td>1</td>\n",
       "      <td>6</td>\n",
       "      <td>18</td>\n",
       "      <td>23.0</td>\n",
       "    </tr>\n",
       "    <tr>\n",
       "      <th>2</th>\n",
       "      <td>2018-04-01 18:23:30</td>\n",
       "      <td>1.094079e+10</td>\n",
       "      <td>1</td>\n",
       "      <td>6</td>\n",
       "      <td>18</td>\n",
       "      <td>23.5</td>\n",
       "    </tr>\n",
       "    <tr>\n",
       "      <th>3</th>\n",
       "      <td>2018-04-01 18:24:00</td>\n",
       "      <td>1.109229e+10</td>\n",
       "      <td>1</td>\n",
       "      <td>6</td>\n",
       "      <td>18</td>\n",
       "      <td>24.0</td>\n",
       "    </tr>\n",
       "    <tr>\n",
       "      <th>4</th>\n",
       "      <td>2018-04-01 18:24:30</td>\n",
       "      <td>1.092547e+10</td>\n",
       "      <td>1</td>\n",
       "      <td>6</td>\n",
       "      <td>18</td>\n",
       "      <td>24.5</td>\n",
       "    </tr>\n",
       "  </tbody>\n",
       "</table>\n",
       "</div>"
      ],
      "text/plain": [
       "                 Time    CHIC--STAR  Weekend  Day  Hour  Minute\n",
       "0 2018-04-01 18:22:30  1.351156e+10        1    6    18    22.5\n",
       "1 2018-04-01 18:23:00  1.150464e+10        1    6    18    23.0\n",
       "2 2018-04-01 18:23:30  1.094079e+10        1    6    18    23.5\n",
       "3 2018-04-01 18:24:00  1.109229e+10        1    6    18    24.0\n",
       "4 2018-04-01 18:24:30  1.092547e+10        1    6    18    24.5"
      ]
     },
     "execution_count": 10,
     "metadata": {},
     "output_type": "execute_result"
    }
   ],
   "source": [
    "points_1767_chicstar = edge_features(points_1767, 'CHIC--STAR')\n",
    "points_1767_chicstar.head()"
   ]
  },
  {
   "cell_type": "markdown",
   "metadata": {},
   "source": [
    "## Model"
   ]
  },
  {
   "cell_type": "code",
   "execution_count": 11,
   "metadata": {},
   "outputs": [
    {
     "name": "stderr",
     "output_type": "stream",
     "text": [
      "Using TensorFlow backend.\n"
     ]
    }
   ],
   "source": [
    "from sklearn.preprocessing import MinMaxScaler\n",
    "from keras.models import Sequential, model_from_json, Model\n",
    "from keras.layers import Dense, LSTM, Activation, Dropout, Bidirectional, TimeDistributed, RepeatVector, Input, GRU, Lambda\n",
    "#from keras.utils.vis_utils import plot_model\n",
    "from keras.optimizers import SGD\n",
    "#from keras.utils import multi_gpu_model\n",
    "import keras\n",
    "from random import uniform\n",
    "import json\n",
    "# Fix AttributeError: 'module' object has no attribute 'control_flow_ops'\n",
    "import tensorflow\n",
    "from tensorflow.python.ops import control_flow_ops\n",
    "tensorflow.control_flow_ops = control_flow_ops"
   ]
  },
  {
   "cell_type": "code",
   "execution_count": 12,
   "metadata": {},
   "outputs": [],
   "source": [
    "def inverse_transform(pred, traffic_scaler):    \n",
    "    return traffic_scaler.inverse_transform(pred)"
   ]
  },
  {
   "cell_type": "code",
   "execution_count": 13,
   "metadata": {},
   "outputs": [],
   "source": [
    "from tsfresh.feature_extraction import feature_calculators"
   ]
  },
  {
   "cell_type": "code",
   "execution_count": 14,
   "metadata": {},
   "outputs": [],
   "source": [
    "def train_test_multistep(df, pathway, split_proportion, seq_len_x, seq_len_y, scaler, \n",
    "                         traffic_scaler, print_shapes = True):\n",
    "    \"\"\"Returns training and test data from Pandas DataFrame of data\n",
    "\n",
    "    Args:\n",
    "        df (DataFrame): A Pandas DataFrame containing the data for one site to another site\n",
    "                        the dataframe should contain time, features (ex. Day, Month, Weekend) \n",
    "                        and the response variable.\n",
    "        pathway (str): The names of the two sites separated by a double dash (ex. \"CHIC--STAR\")\n",
    "        split_proportion (float): Proportion (from 0 to 1) of data to be allocated to training data\n",
    "        seq_len_x (int): Number of time series observations to be included per training window\n",
    "        seq_len_y (int): Number of time series observations to predict\n",
    "        scaler (MinMaxScaler): scaler for features\n",
    "        traffic_scaler (MinMaxScaler): scaler for response variable\n",
    "        print_shapes (bool): True (default) to print shapes of the training and test data\n",
    "                             False to turn off printing\n",
    "        \n",
    "        \"\"\"\n",
    "    \n",
    "    #Split features from response variable\n",
    "    X = df[[pathway]].as_matrix()\n",
    "    X = scaler.fit_transform(X)\n",
    "    \n",
    "    result_X = []\n",
    "    result_Y = []\n",
    "\n",
    "    for index in range(0, X.shape[0] - (seq_len_x + seq_len_y + 1), seq_len_x + seq_len_y):\n",
    "        result_X.append(X[index: index + seq_len_x]) #adding CHIC--STAR\n",
    "        result_Y.append(X[index + seq_len_x: index + seq_len_x + seq_len_y])\n",
    "    \n",
    "#     for index in range(X.shape[0] - (seq_len_x + seq_len_y + 1)):\n",
    "#         X_seq = X[index: index + seq_len_x]\n",
    "#         X_seq = np.vstack((X_seq, [np.mean(X_seq)])) #mean\n",
    "#         X_seq = np.vstack((X_seq, [np.std(X_seq)**2])) #variance\n",
    "#         X_seq = np.vstack((X_seq, [np.max(X_seq)])) #max\n",
    "#         X_seq = np.vstack((X_seq, [np.min(X_seq)])) #min\n",
    "#         X_seq = np.vstack((X_seq, [feature_calculators.skewness(pd.Series(X_seq.reshape(X_seq.shape[0])))])) #skewness\n",
    "#         X_seq = np.vstack((X_seq, [feature_calculators.autocorrelation(pd.Series(X_seq.reshape(X_seq.shape[0])), 1)])) #1st order autocorr\n",
    "#         result_X.append(X_seq)\n",
    "\n",
    "#         result_Y.append(X[index + seq_len_x: index + seq_len_x + seq_len_y])\n",
    "\n",
    "    result_X = np.array(result_X)\n",
    "    result_X = result_X.reshape(result_X.shape[0], result_X[0].shape[0])\n",
    "    result_Y = np.array(result_Y)\n",
    "    result_Y = result_Y.reshape(result_Y.shape[0], result_Y[0].shape[0])\n",
    "\n",
    "    #Normalize\n",
    "    #result_X = scaler.fit_transform(result_X)\n",
    "    #result_Y = traffic_scaler.fit_transform(result_Y)\n",
    "\n",
    "    #Train-test split\n",
    "    row = int(round(split_proportion * result_X.shape[0]))\n",
    "    X_train = result_X[:row]\n",
    "    Y_train = result_Y[:row]\n",
    "    X_test = result_X[row:]\n",
    "    Y_test = result_Y[row:]\n",
    "\n",
    "    X_train = np.reshape(X_train, (X_train.shape[0], X_train.shape[1], 1))\n",
    "    X_test = np.reshape(X_test, (X_test.shape[0], X_test.shape[1], 1))\n",
    "    #X_train = X_train.reshape(X_train.shape[0], 1, X_train.shape[1])\n",
    "    #X_test = X_test.reshape(X_test.shape[0], 1, X_test.shape[1])\n",
    "\n",
    "    Y_train = np.reshape(Y_train, (Y_train.shape[0], Y_train.shape[1], 1))\n",
    "    Y_test = np.reshape(Y_test, (Y_test.shape[0], Y_test.shape[1], 1))\n",
    "    #Y_train = Y_train.reshape(Y_train.shape[0], 1, Y_train.shape[1])\n",
    "    #Y_test = Y_test.reshape(Y_test.shape[0], 1, Y_test.shape[1])\n",
    "\n",
    "    if print_shapes:\n",
    "        print(\"X_train shape: \", X_train.shape)\n",
    "        print(\"Y_train shape: \", Y_train.shape)\n",
    "        print(\"X_test shape: \", X_test.shape)\n",
    "        print(\"Y_test shape: \", Y_test.shape)\n",
    "    \n",
    "    return X_train, Y_train, X_test, Y_test"
   ]
  },
  {
   "cell_type": "code",
   "execution_count": 15,
   "metadata": {},
   "outputs": [
    {
     "name": "stdout",
     "output_type": "stream",
     "text": [
      "X_train shape:  (8358, 10, 1)\n",
      "Y_train shape:  (8358, 5, 1)\n",
      "X_test shape:  (1249, 10, 1)\n",
      "Y_test shape:  (1249, 5, 1)\n"
     ]
    },
    {
     "name": "stderr",
     "output_type": "stream",
     "text": [
      "/home/kvsingh/anaconda2/envs/carnd-term1/lib/python2.7/site-packages/ipykernel_launcher.py:21: FutureWarning: Method .as_matrix will be removed in a future version. Use .values instead.\n"
     ]
    }
   ],
   "source": [
    "scaler = MinMaxScaler(feature_range=(0,1))\n",
    "traffic_scaler = MinMaxScaler(feature_range=(0,1))\n",
    "X_train, Y_train, X_test, Y_test = train_test_multistep(points_1767_chicstar, \n",
    "                                                            \"CHIC--STAR\", 0.87, 10, 5, scaler, traffic_scaler)"
   ]
  },
  {
   "cell_type": "markdown",
   "metadata": {},
   "source": [
    "### Encoder/Decoder"
   ]
  },
  {
   "cell_type": "code",
   "execution_count": null,
   "metadata": {},
   "outputs": [],
   "source": [
    "batch_size = 24\n",
    "nb_epoch = 500\n",
    "\n",
    "model_multiple_10min = Sequential()\n",
    "model_multiple_10min.add(LSTM(128, batch_input_shape=(batch_size, X_train.shape[1], X_train.shape[2]), \n",
    "                              return_sequences = True))\n",
    "model_multiple_10min.add(TimeDistributed(Dense(1, activation = 'relu'))) "
   ]
  },
  {
   "cell_type": "code",
   "execution_count": 96,
   "metadata": {},
   "outputs": [
    {
     "name": "stderr",
     "output_type": "stream",
     "text": [
      "/home/kvsingh/anaconda2/envs/carnd-term1/lib/python2.7/site-packages/ipykernel_launcher.py:5: UserWarning: The `input_dim` and `input_length` arguments in recurrent layers are deprecated. Use `input_shape` instead.\n",
      "  \"\"\"\n",
      "/home/kvsingh/anaconda2/envs/carnd-term1/lib/python2.7/site-packages/ipykernel_launcher.py:5: UserWarning: Update your `LSTM` call to the Keras 2 API: `LSTM(units=150, return_sequences=False, input_shape=(None, 1))`\n",
      "  \"\"\"\n",
      "/home/kvsingh/anaconda2/envs/carnd-term1/lib/python2.7/site-packages/ipykernel_launcher.py:7: UserWarning: Update your `LSTM` call to the Keras 2 API: `LSTM(units=150, return_sequences=True)`\n",
      "  import sys\n",
      "/home/kvsingh/anaconda2/envs/carnd-term1/lib/python2.7/site-packages/ipykernel_launcher.py:8: UserWarning: Update your `LSTM` call to the Keras 2 API: `LSTM(units=150, return_sequences=True)`\n",
      "  \n"
     ]
    }
   ],
   "source": [
    "batch_size = 24\n",
    "nb_epoch = 150\n",
    "\n",
    "model_multiple_10min = Sequential()\n",
    "model_multiple_10min.add(LSTM(input_dim = 1, output_dim=150, return_sequences=False))\n",
    "model_multiple_10min.add(RepeatVector(20)) #seq_len_y\n",
    "model_multiple_10min.add(LSTM(output_dim=150, return_sequences=True))\n",
    "model_multiple_10min.add(LSTM(output_dim=150, return_sequences=True))\n",
    "model_multiple_10min.add(TimeDistributed(Dense(1))) "
   ]
  },
  {
   "cell_type": "code",
   "execution_count": 21,
   "metadata": {},
   "outputs": [
    {
     "name": "stderr",
     "output_type": "stream",
     "text": [
      "/home/kvsingh/anaconda2/envs/carnd-term1/lib/python2.7/site-packages/ipykernel_launcher.py:5: UserWarning: The `input_dim` and `input_length` arguments in recurrent layers are deprecated. Use `input_shape` instead.\n",
      "  \"\"\"\n",
      "/home/kvsingh/anaconda2/envs/carnd-term1/lib/python2.7/site-packages/ipykernel_launcher.py:5: UserWarning: Update your `LSTM` call to the Keras 2 API: `LSTM(units=10, return_sequences=False, input_shape=(None, 1))`\n",
      "  \"\"\"\n",
      "/home/kvsingh/anaconda2/envs/carnd-term1/lib/python2.7/site-packages/ipykernel_launcher.py:8: UserWarning: Update your `LSTM` call to the Keras 2 API: `LSTM(units=10, return_sequences=True)`\n",
      "  \n"
     ]
    }
   ],
   "source": [
    "batch_size = 1\n",
    "nb_epoch = 20\n",
    "\n",
    "model_multiple_2halfmin = Sequential()\n",
    "model_multiple_2halfmin.add(LSTM(input_dim = 1, output_dim=10, return_sequences=False))\n",
    "model_multiple_2halfmin.add(Dropout(0.2))\n",
    "model_multiple_2halfmin.add(RepeatVector(5)) #seq_len_y\n",
    "model_multiple_2halfmin.add(LSTM(output_dim=10, return_sequences=True))\n",
    "model_multiple_2halfmin.add(Dropout(0.2))\n",
    "model_multiple_2halfmin.add(TimeDistributed(Dense(1))) "
   ]
  },
  {
   "cell_type": "code",
   "execution_count": 37,
   "metadata": {},
   "outputs": [
    {
     "name": "stdout",
     "output_type": "stream",
     "text": [
      "-- Building --\n"
     ]
    },
    {
     "ename": "NameError",
     "evalue": "name 'model_multiple_10min' is not defined",
     "output_type": "error",
     "traceback": [
      "\u001b[0;31m---------------------------------------------------------------------------\u001b[0m",
      "\u001b[0;31mNameError\u001b[0m                                 Traceback (most recent call last)",
      "\u001b[0;32m<ipython-input-37-52b91baa1da3>\u001b[0m in \u001b[0;36m<module>\u001b[0;34m()\u001b[0m\n\u001b[1;32m      1\u001b[0m \u001b[0;32mprint\u001b[0m\u001b[0;34m(\u001b[0m\u001b[0;34m\"-- Building --\"\u001b[0m\u001b[0;34m)\u001b[0m\u001b[0;34m\u001b[0m\u001b[0m\n\u001b[0;32m----> 2\u001b[0;31m model_multiple_10min.compile(loss=\"mse\",\n\u001b[0m\u001b[1;32m      3\u001b[0m                   optimizer = 'adam')\n\u001b[1;32m      4\u001b[0m \u001b[0;34m\u001b[0m\u001b[0m\n\u001b[1;32m      5\u001b[0m \u001b[0;32mprint\u001b[0m\u001b[0;34m(\u001b[0m\u001b[0;34m'-- Training --'\u001b[0m\u001b[0;34m)\u001b[0m\u001b[0;34m\u001b[0m\u001b[0m\n",
      "\u001b[0;31mNameError\u001b[0m: name 'model_multiple_10min' is not defined"
     ]
    }
   ],
   "source": [
    "print(\"-- Building --\")\n",
    "model_multiple_10min.compile(loss=\"mse\",\n",
    "                  optimizer = 'adam')\n",
    "\n",
    "print('-- Training --')\n",
    "for i in range(nb_epoch):\n",
    "    model_multiple_10min.fit(X_train, Y_train, epochs=1, batch_size=batch_size, validation_split = 0.2, shuffle=True)\n",
    "    model_multiple_10min.reset_states()"
   ]
  },
  {
   "cell_type": "code",
   "execution_count": 22,
   "metadata": {},
   "outputs": [
    {
     "name": "stdout",
     "output_type": "stream",
     "text": [
      "-- Building --\n",
      "-- Training --\n",
      "Train on 6686 samples, validate on 1672 samples\n",
      "Epoch 1/1\n",
      "6686/6686 [==============================] - 191s - loss: 0.0040 - val_loss: 0.0023\n",
      "Train on 6686 samples, validate on 1672 samples\n",
      "Epoch 1/1\n",
      "6686/6686 [==============================] - 191s - loss: 0.0032 - val_loss: 0.0022\n",
      "Train on 6686 samples, validate on 1672 samples\n",
      "Epoch 1/1\n",
      "6686/6686 [==============================] - 191s - loss: 0.0031 - val_loss: 0.0027\n",
      "Train on 6686 samples, validate on 1672 samples\n",
      "Epoch 1/1\n",
      "6686/6686 [==============================] - 190s - loss: 0.0031 - val_loss: 0.0022\n",
      "Train on 6686 samples, validate on 1672 samples\n",
      "Epoch 1/1\n",
      "6686/6686 [==============================] - 192s - loss: 0.0030 - val_loss: 0.0024\n",
      "Train on 6686 samples, validate on 1672 samples\n",
      "Epoch 1/1\n",
      "6686/6686 [==============================] - 191s - loss: 0.0030 - val_loss: 0.0022\n",
      "Train on 6686 samples, validate on 1672 samples\n",
      "Epoch 1/1\n",
      "6686/6686 [==============================] - 191s - loss: 0.0029 - val_loss: 0.0021\n",
      "Train on 6686 samples, validate on 1672 samples\n",
      "Epoch 1/1\n",
      "6686/6686 [==============================] - 191s - loss: 0.0029 - val_loss: 0.0027\n",
      "Train on 6686 samples, validate on 1672 samples\n",
      "Epoch 1/1\n",
      "6686/6686 [==============================] - 190s - loss: 0.0030 - val_loss: 0.0023\n",
      "Train on 6686 samples, validate on 1672 samples\n",
      "Epoch 1/1\n",
      "6686/6686 [==============================] - 191s - loss: 0.0030 - val_loss: 0.0022\n",
      "Train on 6686 samples, validate on 1672 samples\n",
      "Epoch 1/1\n",
      "6686/6686 [==============================] - 191s - loss: 0.0030 - val_loss: 0.0021\n",
      "Train on 6686 samples, validate on 1672 samples\n",
      "Epoch 1/1\n",
      "6686/6686 [==============================] - 190s - loss: 0.0029 - val_loss: 0.0025\n",
      "Train on 6686 samples, validate on 1672 samples\n",
      "Epoch 1/1\n",
      "6686/6686 [==============================] - 190s - loss: 0.0029 - val_loss: 0.0024\n",
      "Train on 6686 samples, validate on 1672 samples\n",
      "Epoch 1/1\n",
      "6686/6686 [==============================] - 192s - loss: 0.0029 - val_loss: 0.0019\n",
      "Train on 6686 samples, validate on 1672 samples\n",
      "Epoch 1/1\n",
      "6686/6686 [==============================] - 190s - loss: 0.0029 - val_loss: 0.0023\n",
      "Train on 6686 samples, validate on 1672 samples\n",
      "Epoch 1/1\n",
      "6686/6686 [==============================] - 193s - loss: 0.0029 - val_loss: 0.0020\n",
      "Train on 6686 samples, validate on 1672 samples\n",
      "Epoch 1/1\n",
      "6686/6686 [==============================] - 192s - loss: 0.0029 - val_loss: 0.0021\n",
      "Train on 6686 samples, validate on 1672 samples\n",
      "Epoch 1/1\n",
      "6686/6686 [==============================] - 192s - loss: 0.0029 - val_loss: 0.0024\n",
      "Train on 6686 samples, validate on 1672 samples\n",
      "Epoch 1/1\n",
      "6686/6686 [==============================] - 192s - loss: 0.0029 - val_loss: 0.0024\n",
      "Train on 6686 samples, validate on 1672 samples\n",
      "Epoch 1/1\n",
      "6686/6686 [==============================] - 191s - loss: 0.0029 - val_loss: 0.0021\n"
     ]
    }
   ],
   "source": [
    "print(\"-- Building --\")\n",
    "model_multiple_2halfmin.compile(loss=\"mse\",\n",
    "                  optimizer = 'adam')\n",
    "\n",
    "print('-- Training --')\n",
    "for i in range(nb_epoch):\n",
    "    model_multiple_2halfmin.fit(X_train, Y_train, epochs=1, batch_size=batch_size, validation_split = 0.2, shuffle=True)\n",
    "    model_multiple_2halfmin.reset_states()"
   ]
  },
  {
   "cell_type": "code",
   "execution_count": 32,
   "metadata": {},
   "outputs": [],
   "source": [
    "from keras.models import load_model\n",
    "\n",
    "model_multiple_2halfmin.save('model_multiple_2halfmin.h5')"
   ]
  },
  {
   "cell_type": "code",
   "execution_count": 59,
   "metadata": {},
   "outputs": [],
   "source": [
    "# returns a compiled model\n",
    "# identical to the previous one\n",
    "model_multiple_10min.load_weights('model_multiple_10min.h5')"
   ]
  },
  {
   "cell_type": "code",
   "execution_count": 17,
   "metadata": {},
   "outputs": [],
   "source": [
    "# returns a compiled model\n",
    "# identical to the previous one\n",
    "model_multiple_2halfmin.load_weights('model_multiple_2halfmin.h5')"
   ]
  },
  {
   "cell_type": "code",
   "execution_count": 23,
   "metadata": {},
   "outputs": [],
   "source": [
    "# walk-forward validation on the test data\n",
    "pred_x_test = model_multiple_2halfmin.predict(X_test, batch_size)\n",
    "pred_x_test = np.reshape(pred_x_test, (pred_x_test.shape[0], pred_x_test.shape[1]))\n",
    "#pred_test = inverse_transform(pred_x_test, traffic_scaler)\n",
    "\n",
    "y_test = np.float_(Y_test)\n",
    "y_test = np.reshape(y_test, (y_test.shape[0], y_test.shape[1]))\n",
    "#y_test_inv = inverse_transform(y_test, traffic_scaler)"
   ]
  },
  {
   "cell_type": "code",
   "execution_count": 37,
   "metadata": {},
   "outputs": [
    {
     "name": "stdout",
     "output_type": "stream",
     "text": [
      "7424/7443 [============================>.] - ETA: 0s"
     ]
    },
    {
     "data": {
      "text/plain": [
       "0.0017535350612740968"
      ]
     },
     "execution_count": 37,
     "metadata": {},
     "output_type": "execute_result"
    }
   ],
   "source": [
    "model_multiple_10min.evaluate(X_test, Y_test)"
   ]
  },
  {
   "cell_type": "code",
   "execution_count": 34,
   "metadata": {},
   "outputs": [
    {
     "name": "stdout",
     "output_type": "stream",
     "text": [
      "1056/1249 [========================>.....] - ETA: 0s"
     ]
    },
    {
     "data": {
      "text/plain": [
       "0.0026185342328424593"
      ]
     },
     "execution_count": 34,
     "metadata": {},
     "output_type": "execute_result"
    }
   ],
   "source": [
    "#10 epochs\n",
    "model_multiple_2halfmin.evaluate(X_test, Y_test)"
   ]
  },
  {
   "cell_type": "code",
   "execution_count": 23,
   "metadata": {},
   "outputs": [
    {
     "name": "stdout",
     "output_type": "stream",
     "text": [
      "5\n"
     ]
    }
   ],
   "source": [
    "predictions = []\n",
    "pred = model_multiple_2halfmin.predict(X_train[-1:].reshape(1,10,1))\n",
    "for i in range(500,800):\n",
    "    arr = np.array(np.vstack((X_test[i][1:], [pred[0][0]]))).reshape(1,10,1)\n",
    "    #pred = model_multiple_reversed.predict(arr)\n",
    "    predictions_i = []\n",
    "    for j in range(5):\n",
    "        pred = model_multiple_2halfmin.predict(arr)\n",
    "        #if j%2 == 1:\n",
    "        predictions_i.append(pred[0][0])\n",
    "        arr = np.array(np.vstack((arr[0][1:], [pred[0][0]]))).reshape(1,10,1)\n",
    "    predictions.append(predictions_i)\n",
    "print(len(predictions[0]))"
   ]
  },
  {
   "cell_type": "code",
   "execution_count": 30,
   "metadata": {},
   "outputs": [
    {
     "name": "stdout",
     "output_type": "stream",
     "text": [
      "Predicted: \n",
      "[  9.84392602e+09   1.10484859e+10   1.15668419e+10   1.19451587e+10\n",
      "   1.22051062e+10   1.24103864e+10   1.25766502e+10   1.27085281e+10\n",
      "   1.28106875e+10   1.28845343e+10   1.29389076e+10   1.29793024e+10\n",
      "   1.30092104e+10   1.30315745e+10   1.30484449e+10   1.30614825e+10\n",
      "   1.30719437e+10   1.30809068e+10   1.30886410e+10   1.30953902e+10]\n",
      "Truth: \n",
      "[  9.67176947e+09   1.46341372e+10   1.73016500e+10   1.15828544e+10\n",
      "   1.76499706e+10   2.00022743e+10   1.45860832e+10   1.57236625e+10\n",
      "   2.22847870e+10   1.65041347e+10   9.09878638e+09   1.58456970e+10\n",
      "   1.91466308e+10   1.08750124e+10   1.73884303e+10   1.25952189e+10\n",
      "   1.45736784e+10   1.06151653e+10   1.28981408e+10   1.58463802e+10]\n",
      "Predicted: \n",
      "[  1.11247442e+10   1.16762532e+10   1.19236168e+10   1.21050604e+10\n",
      "   1.22788690e+10   1.24449219e+10   1.25929492e+10   1.27198126e+10\n",
      "   1.28239309e+10   1.29049723e+10   1.29644595e+10   1.30061087e+10\n",
      "   1.30349353e+10   1.30559365e+10   1.30730281e+10   1.30886083e+10\n",
      "   1.31035699e+10   1.31177185e+10   1.31302830e+10   1.31404585e+10]\n",
      "Truth: \n",
      "[  1.46341372e+10   1.73016500e+10   1.15828544e+10   1.76499706e+10\n",
      "   2.00022743e+10   1.45860832e+10   1.57236625e+10   2.22847870e+10\n",
      "   1.65041347e+10   9.09878638e+09   1.58456970e+10   1.91466308e+10\n",
      "   1.08750124e+10   1.73884303e+10   1.25952189e+10   1.45736784e+10\n",
      "   1.06151653e+10   1.28981408e+10   1.58463802e+10   1.77293642e+10]\n",
      "Predicted: \n",
      "[  1.40204708e+10   1.38512087e+10   1.37127864e+10   1.36509573e+10\n",
      "   1.36575939e+10   1.36867574e+10   1.37314089e+10   1.37925151e+10\n",
      "   1.38634947e+10   1.39280589e+10   1.39728763e+10   1.39982080e+10\n",
      "   1.40132137e+10   1.40271524e+10   1.40444836e+10   1.40652790e+10\n",
      "   1.40872233e+10   1.41069353e+10   1.41211412e+10   1.41279283e+10]\n",
      "Truth: \n",
      "[  1.73016500e+10   1.15828544e+10   1.76499706e+10   2.00022743e+10\n",
      "   1.45860832e+10   1.57236625e+10   2.22847870e+10   1.65041347e+10\n",
      "   9.09878638e+09   1.58456970e+10   1.91466308e+10   1.08750124e+10\n",
      "   1.73884303e+10   1.25952189e+10   1.45736784e+10   1.06151653e+10\n",
      "   1.28981408e+10   1.58463802e+10   1.77293642e+10   9.92235419e+09]\n",
      "Predicted: \n",
      "[  1.58099046e+10   1.53757727e+10   1.53007309e+10   1.50533796e+10\n",
      "   1.48825283e+10   1.47587942e+10   1.47115336e+10   1.47445791e+10\n",
      "   1.48426537e+10   1.49644483e+10   1.50599547e+10   1.50981263e+10\n",
      "   1.50827571e+10   1.50435082e+10   1.50113516e+10   1.50014925e+10\n",
      "   1.50135644e+10   1.50394552e+10   1.50685112e+10   1.50899466e+10]\n",
      "Truth: \n",
      "[  1.15828544e+10   1.76499706e+10   2.00022743e+10   1.45860832e+10\n",
      "   1.57236625e+10   2.22847870e+10   1.65041347e+10   9.09878638e+09\n",
      "   1.58456970e+10   1.91466308e+10   1.08750124e+10   1.73884303e+10\n",
      "   1.25952189e+10   1.45736784e+10   1.06151653e+10   1.28981408e+10\n",
      "   1.58463802e+10   1.77293642e+10   9.92235419e+09   1.37949879e+10]\n",
      "Predicted: \n",
      "[  1.14909901e+10   1.28366531e+10   1.33410499e+10   1.34055404e+10\n",
      "   1.33984799e+10   1.34674186e+10   1.36302879e+10   1.38381414e+10\n",
      "   1.40159857e+10   1.41587978e+10   1.42706381e+10   1.43545242e+10\n",
      "   1.44124252e+10   1.44486154e+10   1.44714803e+10   1.44887869e+10\n",
      "   1.45034107e+10   1.45142211e+10   1.45198817e+10   1.45206323e+10]\n",
      "Truth: \n",
      "[  1.76499706e+10   2.00022743e+10   1.45860832e+10   1.57236625e+10\n",
      "   2.22847870e+10   1.65041347e+10   9.09878638e+09   1.58456970e+10\n",
      "   1.91466308e+10   1.08750124e+10   1.73884303e+10   1.25952189e+10\n",
      "   1.45736784e+10   1.06151653e+10   1.28981408e+10   1.58463802e+10\n",
      "   1.77293642e+10   9.92235419e+09   1.37949879e+10   1.40913081e+10]\n",
      "Predicted: \n",
      "[  1.87742024e+10   1.59859497e+10   1.47381924e+10   1.44019251e+10\n",
      "   1.41888399e+10   1.40942111e+10   1.41590190e+10   1.43077396e+10\n",
      "   1.45276406e+10   1.47872748e+10   1.50266552e+10   1.51865549e+10\n",
      "   1.52436777e+10   1.52176343e+10   1.51500964e+10   1.50795162e+10\n",
      "   1.50287872e+10   1.50069268e+10   1.50134784e+10   1.50406584e+10]\n",
      "Truth: \n",
      "[  2.00022743e+10   1.45860832e+10   1.57236625e+10   2.22847870e+10\n",
      "   1.65041347e+10   9.09878638e+09   1.58456970e+10   1.91466308e+10\n",
      "   1.08750124e+10   1.73884303e+10   1.25952189e+10   1.45736784e+10\n",
      "   1.06151653e+10   1.28981408e+10   1.58463802e+10   1.77293642e+10\n",
      "   9.92235419e+09   1.37949879e+10   1.40913081e+10   1.10793787e+10]\n",
      "Predicted: \n",
      "[  1.76010199e+10   1.59266406e+10   1.57792625e+10   1.55926354e+10\n",
      "   1.55431055e+10   1.54996122e+10   1.54567342e+10   1.54309683e+10\n",
      "   1.54237164e+10   1.54255340e+10   1.54266348e+10   1.54234911e+10\n",
      "   1.54187510e+10   1.54166272e+10   1.54185339e+10   1.54207908e+10\n",
      "   1.54198753e+10   1.54152315e+10   1.54088253e+10   1.54032486e+10]\n",
      "Truth: \n",
      "[  1.45860832e+10   1.57236625e+10   2.22847870e+10   1.65041347e+10\n",
      "   9.09878638e+09   1.58456970e+10   1.91466308e+10   1.08750124e+10\n",
      "   1.73884303e+10   1.25952189e+10   1.45736784e+10   1.06151653e+10\n",
      "   1.28981408e+10   1.58463802e+10   1.77293642e+10   9.92235419e+09\n",
      "   1.37949879e+10   1.40913081e+10   1.10793787e+10   8.42595055e+09]\n",
      "Predicted: \n",
      "[  1.36734618e+10   1.45672940e+10   1.48389519e+10   1.48138824e+10\n",
      "   1.49276621e+10   1.50598615e+10   1.51793623e+10   1.52273992e+10\n",
      "   1.51991009e+10   1.51524895e+10   1.51323310e+10   1.51493192e+10\n",
      "   1.51845827e+10   1.52195492e+10   1.52515318e+10   1.52829174e+10\n",
      "   1.53067899e+10   1.53095178e+10   1.52890276e+10   1.52552776e+10]\n",
      "Truth: \n",
      "[  1.57236625e+10   2.22847870e+10   1.65041347e+10   9.09878638e+09\n",
      "   1.58456970e+10   1.91466308e+10   1.08750124e+10   1.73884303e+10\n",
      "   1.25952189e+10   1.45736784e+10   1.06151653e+10   1.28981408e+10\n",
      "   1.58463802e+10   1.77293642e+10   9.92235419e+09   1.37949879e+10\n",
      "   1.40913081e+10   1.10793787e+10   8.42595055e+09   1.14179318e+10]\n",
      "Predicted: \n",
      "[  1.55417969e+10   1.58436291e+10   1.59819940e+10   1.58031483e+10\n",
      "   1.56873626e+10   1.56174080e+10   1.55883592e+10   1.55957514e+10\n",
      "   1.56377948e+10   1.57018040e+10   1.57688986e+10   1.58238966e+10\n",
      "   1.58604667e+10   1.58798858e+10   1.58871552e+10   1.58879990e+10\n",
      "   1.58875607e+10   1.58896568e+10   1.58960036e+10   1.59058821e+10]\n",
      "Truth: \n",
      "[  2.22847870e+10   1.65041347e+10   9.09878638e+09   1.58456970e+10\n",
      "   1.91466308e+10   1.08750124e+10   1.73884303e+10   1.25952189e+10\n",
      "   1.45736784e+10   1.06151653e+10   1.28981408e+10   1.58463802e+10\n",
      "   1.77293642e+10   9.92235419e+09   1.37949879e+10   1.40913081e+10\n",
      "   1.10793787e+10   8.42595055e+09   1.14179318e+10   1.09169458e+10]\n",
      "Predicted: \n",
      "[  2.38215127e+10   1.85658552e+10   1.64546130e+10   1.58268754e+10\n",
      "   1.56885156e+10   1.57246095e+10   1.57229414e+10   1.57764731e+10\n",
      "   1.59055514e+10   1.60162181e+10   1.60438118e+10   1.60048548e+10\n",
      "   1.59543265e+10   1.59274691e+10   1.59217295e+10   1.59198915e+10\n",
      "   1.59141745e+10   1.59086387e+10   1.59086541e+10   1.59136788e+10]\n",
      "Truth: \n",
      "[  1.65041347e+10   9.09878638e+09   1.58456970e+10   1.91466308e+10\n",
      "   1.08750124e+10   1.73884303e+10   1.25952189e+10   1.45736784e+10\n",
      "   1.06151653e+10   1.28981408e+10   1.58463802e+10   1.77293642e+10\n",
      "   9.92235419e+09   1.37949879e+10   1.40913081e+10   1.10793787e+10\n",
      "   8.42595055e+09   1.14179318e+10   1.09169458e+10   1.52166867e+10]\n"
     ]
    }
   ],
   "source": [
    "for i in range(10):\n",
    "    print(\"Predicted: \")\n",
    "    print(pred_test[i])\n",
    "    print(\"Truth: \")\n",
    "    print(y_test_inv[i])"
   ]
  },
  {
   "cell_type": "code",
   "execution_count": 26,
   "metadata": {},
   "outputs": [
    {
     "data": {
      "image/png": "[encoded data removed]",
      "text/plain": [
       "<matplotlib.figure.Figure at 0x7f1a647414d0>"
      ]
     },
     "metadata": {},
     "output_type": "display_data"
    }
   ],
   "source": [
    "#1 timestep ahead has good prediction\n",
    "\n",
    "pred_first = [item[4] for item in pred_x_test][1000:1400]\n",
    "y_first = [item[4] for item in y_test][1000:1400]\n",
    "\n",
    "# line_test_pred = np.reshape(pred_test, pred_test.shape[0])\n",
    "# line_test_real = np.reshape(y_test_inv, y_test_inv.shape[0])\n",
    "plt.figure(figsize=(20,10))\n",
    "plt.plot(pred_first, color='blue',label='Prediction', linewidth=1)\n",
    "plt.plot(y_first, color='red',label='Original', linewidth=1)\n",
    "plt.legend(loc='best')\n",
    "plt.title('Test - Comparison')\n",
    "plt.show()"
   ]
  },
  {
   "cell_type": "markdown",
   "metadata": {},
   "source": [
    "# Grid Search"
   ]
  },
  {
   "cell_type": "code",
   "execution_count": 15,
   "metadata": {},
   "outputs": [],
   "source": [
    "from sklearn.model_selection import GridSearchCV\n",
    "from keras.wrappers.scikit_learn import KerasClassifier\n",
    "import operator"
   ]
  },
  {
   "cell_type": "code",
   "execution_count": 16,
   "metadata": {},
   "outputs": [],
   "source": [
    "def grid_search_data(df, pathway, seq_len_x, seq_len_y, scaler, \n",
    "                         traffic_scaler, print_shapes = True):\n",
    "    \n",
    "    #Split features from response variable\n",
    "    X = df[[pathway]].as_matrix()\n",
    "    X = scaler.fit_transform(X)\n",
    "    \n",
    "    result_X = []\n",
    "    result_Y = []\n",
    "\n",
    "    for index in range(0, X.shape[0] - (seq_len_x + seq_len_y + 1), seq_len_x + seq_len_y):\n",
    "        result_X.append(X[index: index + seq_len_x]) #adding CHIC--STAR\n",
    "        result_Y.append(X[index + seq_len_x: index + seq_len_x + seq_len_y])\n",
    "\n",
    "    result_X = np.array(result_X)\n",
    "    X = result_X.reshape(result_X.shape[0], result_X[0].shape[0])\n",
    "    result_Y = np.array(result_Y)\n",
    "    Y = result_Y.reshape(result_Y.shape[0], result_Y[0].shape[0])\n",
    "\n",
    "    X = np.reshape(X, (X.shape[0], X.shape[1], 1))\n",
    "    Y = np.reshape(Y, (Y.shape[0], Y.shape[1], 1))\n",
    "    #X_train = X_train.reshape(X_train.shape[0], 1, X_train.shape[1])\n",
    "    #X_test = X_test.reshape(X_test.shape[0], 1, X_test.shape[1])\n",
    "\n",
    "    if print_shapes:\n",
    "        print(\"X shape: \", X.shape)\n",
    "        print(\"Y shape: \", Y.shape)\n",
    "    \n",
    "    return X, Y"
   ]
  },
  {
   "cell_type": "code",
   "execution_count": 19,
   "metadata": {},
   "outputs": [],
   "source": [
    "def create_model(neurons1 = 1, neurons2 = 1, dropout_rate = 0.0, optimizer = 'adam', activation = 'linear'):\n",
    "    model = Sequential()\n",
    "    model.add(LSTM(input_dim = 1, units = neurons1, return_sequences = False))\n",
    "    model.add(Dropout(dropout_rate))\n",
    "    model.add(RepeatVector(5))\n",
    "    model.add(LSTM(units = neurons2, return_sequences = True))\n",
    "    model.add(Dropout(dropout_rate))\n",
    "    model.add(TimeDistributed(Dense(1, activation = activation)))\n",
    "    model.compile(loss=\"mse\", optimizer = optimizer, metrics=['accuracy'])\n",
    "    return model"
   ]
  },
  {
   "cell_type": "code",
   "execution_count": 20,
   "metadata": {},
   "outputs": [
    {
     "name": "stdout",
     "output_type": "stream",
     "text": [
      "X_train shape:  (8358, 10, 1)\n",
      "Y_train shape:  (8358, 5, 1)\n",
      "X_test shape:  (1249, 10, 1)\n",
      "Y_test shape:  (1249, 5, 1)\n"
     ]
    },
    {
     "name": "stderr",
     "output_type": "stream",
     "text": [
      "/home/kvsingh/anaconda2/envs/carnd-term1/lib/python2.7/site-packages/ipykernel_launcher.py:21: FutureWarning: Method .as_matrix will be removed in a future version. Use .values instead.\n"
     ]
    }
   ],
   "source": [
    "#Fix random seed for reproducibility\n",
    "seed = 7\n",
    "np.random.seed(seed)\n",
    "\n",
    "#Split data\n",
    "scaler = MinMaxScaler(feature_range=(0,1))\n",
    "traffic_scaler = MinMaxScaler(feature_range=(0,1))\n",
    "X_train, Y_train, X_test, Y_test = train_test_multistep(points_1767_chicstar, \"CHIC--STAR\", 0.87, 10, 5, \n",
    "                                                    scaler, traffic_scaler)"
   ]
  },
  {
   "cell_type": "code",
   "execution_count": null,
   "metadata": {},
   "outputs": [
    {
     "name": "stderr",
     "output_type": "stream",
     "text": [
      "/home/kvsingh/anaconda2/envs/carnd-term1/lib/python2.7/site-packages/ipykernel_launcher.py:3: UserWarning: The `input_dim` and `input_length` arguments in recurrent layers are deprecated. Use `input_shape` instead.\n",
      "  This is separate from the ipykernel package so we can avoid doing imports until\n",
      "/home/kvsingh/anaconda2/envs/carnd-term1/lib/python2.7/site-packages/ipykernel_launcher.py:3: UserWarning: Update your `LSTM` call to the Keras 2 API: `LSTM(units=1, return_sequences=False, input_shape=(None, 1))`\n",
      "  This is separate from the ipykernel package so we can avoid doing imports until\n"
     ]
    },
    {
     "name": "stdout",
     "output_type": "stream",
     "text": [
      "Batch size: 5, Epochs: 5, Optimizer: Adam, Dropout rate: 0.000000, Neurons 1: 1, Neurons 2: 1\n",
      "Score: 0.002594, Accuracy: 0.000000\n"
     ]
    },
    {
     "name": "stderr",
     "output_type": "stream",
     "text": [
      "/home/kvsingh/anaconda2/envs/carnd-term1/lib/python2.7/site-packages/ipykernel_launcher.py:3: UserWarning: The `input_dim` and `input_length` arguments in recurrent layers are deprecated. Use `input_shape` instead.\n",
      "  This is separate from the ipykernel package so we can avoid doing imports until\n",
      "/home/kvsingh/anaconda2/envs/carnd-term1/lib/python2.7/site-packages/ipykernel_launcher.py:3: UserWarning: Update your `LSTM` call to the Keras 2 API: `LSTM(units=1, return_sequences=False, input_shape=(None, 1))`\n",
      "  This is separate from the ipykernel package so we can avoid doing imports until\n"
     ]
    },
    {
     "name": "stdout",
     "output_type": "stream",
     "text": [
      "Batch size: 5, Epochs: 5, Optimizer: Adam, Dropout rate: 0.000000, Neurons 1: 1, Neurons 2: 4\n",
      "Score: 0.002542, Accuracy: 0.000000\n"
     ]
    },
    {
     "name": "stderr",
     "output_type": "stream",
     "text": [
      "/home/kvsingh/anaconda2/envs/carnd-term1/lib/python2.7/site-packages/ipykernel_launcher.py:3: UserWarning: The `input_dim` and `input_length` arguments in recurrent layers are deprecated. Use `input_shape` instead.\n",
      "  This is separate from the ipykernel package so we can avoid doing imports until\n",
      "/home/kvsingh/anaconda2/envs/carnd-term1/lib/python2.7/site-packages/ipykernel_launcher.py:3: UserWarning: Update your `LSTM` call to the Keras 2 API: `LSTM(units=1, return_sequences=False, input_shape=(None, 1))`\n",
      "  This is separate from the ipykernel package so we can avoid doing imports until\n"
     ]
    },
    {
     "name": "stdout",
     "output_type": "stream",
     "text": [
      "Batch size: 5, Epochs: 5, Optimizer: Adam, Dropout rate: 0.000000, Neurons 1: 1, Neurons 2: 5\n",
      "Score: 0.002634, Accuracy: 0.000000\n"
     ]
    },
    {
     "name": "stderr",
     "output_type": "stream",
     "text": [
      "/home/kvsingh/anaconda2/envs/carnd-term1/lib/python2.7/site-packages/ipykernel_launcher.py:3: UserWarning: The `input_dim` and `input_length` arguments in recurrent layers are deprecated. Use `input_shape` instead.\n",
      "  This is separate from the ipykernel package so we can avoid doing imports until\n",
      "/home/kvsingh/anaconda2/envs/carnd-term1/lib/python2.7/site-packages/ipykernel_launcher.py:3: UserWarning: Update your `LSTM` call to the Keras 2 API: `LSTM(units=1, return_sequences=False, input_shape=(None, 1))`\n",
      "  This is separate from the ipykernel package so we can avoid doing imports until\n"
     ]
    },
    {
     "name": "stdout",
     "output_type": "stream",
     "text": [
      "Batch size: 5, Epochs: 5, Optimizer: Adam, Dropout rate: 0.000000, Neurons 1: 1, Neurons 2: 7\n",
      "Score: 0.002538, Accuracy: 0.000000\n"
     ]
    },
    {
     "name": "stderr",
     "output_type": "stream",
     "text": [
      "/home/kvsingh/anaconda2/envs/carnd-term1/lib/python2.7/site-packages/ipykernel_launcher.py:3: UserWarning: The `input_dim` and `input_length` arguments in recurrent layers are deprecated. Use `input_shape` instead.\n",
      "  This is separate from the ipykernel package so we can avoid doing imports until\n",
      "/home/kvsingh/anaconda2/envs/carnd-term1/lib/python2.7/site-packages/ipykernel_launcher.py:3: UserWarning: Update your `LSTM` call to the Keras 2 API: `LSTM(units=1, return_sequences=False, input_shape=(None, 1))`\n",
      "  This is separate from the ipykernel package so we can avoid doing imports until\n"
     ]
    },
    {
     "name": "stdout",
     "output_type": "stream",
     "text": [
      "Batch size: 5, Epochs: 5, Optimizer: Adam, Dropout rate: 0.000000, Neurons 1: 1, Neurons 2: 8\n",
      "Score: 0.002570, Accuracy: 0.000000\n"
     ]
    },
    {
     "name": "stderr",
     "output_type": "stream",
     "text": [
      "/home/kvsingh/anaconda2/envs/carnd-term1/lib/python2.7/site-packages/ipykernel_launcher.py:3: UserWarning: The `input_dim` and `input_length` arguments in recurrent layers are deprecated. Use `input_shape` instead.\n",
      "  This is separate from the ipykernel package so we can avoid doing imports until\n",
      "/home/kvsingh/anaconda2/envs/carnd-term1/lib/python2.7/site-packages/ipykernel_launcher.py:3: UserWarning: Update your `LSTM` call to the Keras 2 API: `LSTM(units=1, return_sequences=False, input_shape=(None, 1))`\n",
      "  This is separate from the ipykernel package so we can avoid doing imports until\n"
     ]
    },
    {
     "name": "stdout",
     "output_type": "stream",
     "text": [
      "Batch size: 5, Epochs: 5, Optimizer: Adam, Dropout rate: 0.000000, Neurons 1: 1, Neurons 2: 10\n",
      "Score: 0.002531, Accuracy: 0.000000\n"
     ]
    },
    {
     "name": "stderr",
     "output_type": "stream",
     "text": [
      "/home/kvsingh/anaconda2/envs/carnd-term1/lib/python2.7/site-packages/ipykernel_launcher.py:3: UserWarning: The `input_dim` and `input_length` arguments in recurrent layers are deprecated. Use `input_shape` instead.\n",
      "  This is separate from the ipykernel package so we can avoid doing imports until\n",
      "/home/kvsingh/anaconda2/envs/carnd-term1/lib/python2.7/site-packages/ipykernel_launcher.py:3: UserWarning: Update your `LSTM` call to the Keras 2 API: `LSTM(units=1, return_sequences=False, input_shape=(None, 1))`\n",
      "  This is separate from the ipykernel package so we can avoid doing imports until\n"
     ]
    },
    {
     "name": "stdout",
     "output_type": "stream",
     "text": [
      "Batch size: 5, Epochs: 5, Optimizer: Adam, Dropout rate: 0.000000, Neurons 1: 1, Neurons 2: 15\n",
      "Score: 0.002812, Accuracy: 0.000000\n"
     ]
    },
    {
     "name": "stderr",
     "output_type": "stream",
     "text": [
      "/home/kvsingh/anaconda2/envs/carnd-term1/lib/python2.7/site-packages/ipykernel_launcher.py:3: UserWarning: The `input_dim` and `input_length` arguments in recurrent layers are deprecated. Use `input_shape` instead.\n",
      "  This is separate from the ipykernel package so we can avoid doing imports until\n",
      "/home/kvsingh/anaconda2/envs/carnd-term1/lib/python2.7/site-packages/ipykernel_launcher.py:3: UserWarning: Update your `LSTM` call to the Keras 2 API: `LSTM(units=1, return_sequences=False, input_shape=(None, 1))`\n",
      "  This is separate from the ipykernel package so we can avoid doing imports until\n"
     ]
    },
    {
     "name": "stdout",
     "output_type": "stream",
     "text": [
      "Batch size: 5, Epochs: 5, Optimizer: Adam, Dropout rate: 0.000000, Neurons 1: 1, Neurons 2: 20\n",
      "Score: 0.002649, Accuracy: 0.000000\n"
     ]
    },
    {
     "name": "stderr",
     "output_type": "stream",
     "text": [
      "/home/kvsingh/anaconda2/envs/carnd-term1/lib/python2.7/site-packages/ipykernel_launcher.py:3: UserWarning: The `input_dim` and `input_length` arguments in recurrent layers are deprecated. Use `input_shape` instead.\n",
      "  This is separate from the ipykernel package so we can avoid doing imports until\n",
      "/home/kvsingh/anaconda2/envs/carnd-term1/lib/python2.7/site-packages/ipykernel_launcher.py:3: UserWarning: Update your `LSTM` call to the Keras 2 API: `LSTM(units=1, return_sequences=False, input_shape=(None, 1))`\n",
      "  This is separate from the ipykernel package so we can avoid doing imports until\n"
     ]
    },
    {
     "name": "stdout",
     "output_type": "stream",
     "text": [
      "Batch size: 5, Epochs: 5, Optimizer: Adam, Dropout rate: 0.000000, Neurons 1: 1, Neurons 2: 25\n",
      "Score: 0.002592, Accuracy: 0.000000\n"
     ]
    },
    {
     "name": "stderr",
     "output_type": "stream",
     "text": [
      "/home/kvsingh/anaconda2/envs/carnd-term1/lib/python2.7/site-packages/ipykernel_launcher.py:3: UserWarning: The `input_dim` and `input_length` arguments in recurrent layers are deprecated. Use `input_shape` instead.\n",
      "  This is separate from the ipykernel package so we can avoid doing imports until\n",
      "/home/kvsingh/anaconda2/envs/carnd-term1/lib/python2.7/site-packages/ipykernel_launcher.py:3: UserWarning: Update your `LSTM` call to the Keras 2 API: `LSTM(units=1, return_sequences=False, input_shape=(None, 1))`\n",
      "  This is separate from the ipykernel package so we can avoid doing imports until\n"
     ]
    },
    {
     "name": "stdout",
     "output_type": "stream",
     "text": [
      "Batch size: 5, Epochs: 5, Optimizer: Adam, Dropout rate: 0.000000, Neurons 1: 1, Neurons 2: 30\n",
      "Score: 0.002610, Accuracy: 0.000000\n"
     ]
    },
    {
     "name": "stderr",
     "output_type": "stream",
     "text": [
      "/home/kvsingh/anaconda2/envs/carnd-term1/lib/python2.7/site-packages/ipykernel_launcher.py:3: UserWarning: The `input_dim` and `input_length` arguments in recurrent layers are deprecated. Use `input_shape` instead.\n",
      "  This is separate from the ipykernel package so we can avoid doing imports until\n",
      "/home/kvsingh/anaconda2/envs/carnd-term1/lib/python2.7/site-packages/ipykernel_launcher.py:3: UserWarning: Update your `LSTM` call to the Keras 2 API: `LSTM(units=1, return_sequences=False, input_shape=(None, 1))`\n",
      "  This is separate from the ipykernel package so we can avoid doing imports until\n"
     ]
    },
    {
     "name": "stdout",
     "output_type": "stream",
     "text": [
      "Batch size: 5, Epochs: 5, Optimizer: Adam, Dropout rate: 0.000000, Neurons 1: 1, Neurons 2: 64\n",
      "Score: 0.002500, Accuracy: 0.000000\n"
     ]
    },
    {
     "name": "stderr",
     "output_type": "stream",
     "text": [
      "/home/kvsingh/anaconda2/envs/carnd-term1/lib/python2.7/site-packages/ipykernel_launcher.py:3: UserWarning: The `input_dim` and `input_length` arguments in recurrent layers are deprecated. Use `input_shape` instead.\n",
      "  This is separate from the ipykernel package so we can avoid doing imports until\n",
      "/home/kvsingh/anaconda2/envs/carnd-term1/lib/python2.7/site-packages/ipykernel_launcher.py:3: UserWarning: Update your `LSTM` call to the Keras 2 API: `LSTM(units=1, return_sequences=False, input_shape=(None, 1))`\n",
      "  This is separate from the ipykernel package so we can avoid doing imports until\n"
     ]
    },
    {
     "name": "stdout",
     "output_type": "stream",
     "text": [
      "Batch size: 5, Epochs: 5, Optimizer: Adam, Dropout rate: 0.000000, Neurons 1: 1, Neurons 2: 128\n",
      "Score: 0.002517, Accuracy: 0.000000\n"
     ]
    },
    {
     "name": "stderr",
     "output_type": "stream",
     "text": [
      "/home/kvsingh/anaconda2/envs/carnd-term1/lib/python2.7/site-packages/ipykernel_launcher.py:3: UserWarning: The `input_dim` and `input_length` arguments in recurrent layers are deprecated. Use `input_shape` instead.\n",
      "  This is separate from the ipykernel package so we can avoid doing imports until\n",
      "/home/kvsingh/anaconda2/envs/carnd-term1/lib/python2.7/site-packages/ipykernel_launcher.py:3: UserWarning: Update your `LSTM` call to the Keras 2 API: `LSTM(units=4, return_sequences=False, input_shape=(None, 1))`\n",
      "  This is separate from the ipykernel package so we can avoid doing imports until\n"
     ]
    },
    {
     "name": "stdout",
     "output_type": "stream",
     "text": [
      "Batch size: 5, Epochs: 5, Optimizer: Adam, Dropout rate: 0.000000, Neurons 1: 4, Neurons 2: 1\n",
      "Score: 0.002554, Accuracy: 0.000000\n"
     ]
    },
    {
     "name": "stderr",
     "output_type": "stream",
     "text": [
      "/home/kvsingh/anaconda2/envs/carnd-term1/lib/python2.7/site-packages/ipykernel_launcher.py:3: UserWarning: The `input_dim` and `input_length` arguments in recurrent layers are deprecated. Use `input_shape` instead.\n",
      "  This is separate from the ipykernel package so we can avoid doing imports until\n",
      "/home/kvsingh/anaconda2/envs/carnd-term1/lib/python2.7/site-packages/ipykernel_launcher.py:3: UserWarning: Update your `LSTM` call to the Keras 2 API: `LSTM(units=4, return_sequences=False, input_shape=(None, 1))`\n",
      "  This is separate from the ipykernel package so we can avoid doing imports until\n"
     ]
    },
    {
     "name": "stdout",
     "output_type": "stream",
     "text": [
      "Batch size: 5, Epochs: 5, Optimizer: Adam, Dropout rate: 0.000000, Neurons 1: 4, Neurons 2: 4\n",
      "Score: 0.002600, Accuracy: 0.000000\n"
     ]
    },
    {
     "name": "stderr",
     "output_type": "stream",
     "text": [
      "/home/kvsingh/anaconda2/envs/carnd-term1/lib/python2.7/site-packages/ipykernel_launcher.py:3: UserWarning: The `input_dim` and `input_length` arguments in recurrent layers are deprecated. Use `input_shape` instead.\n",
      "  This is separate from the ipykernel package so we can avoid doing imports until\n",
      "/home/kvsingh/anaconda2/envs/carnd-term1/lib/python2.7/site-packages/ipykernel_launcher.py:3: UserWarning: Update your `LSTM` call to the Keras 2 API: `LSTM(units=4, return_sequences=False, input_shape=(None, 1))`\n",
      "  This is separate from the ipykernel package so we can avoid doing imports until\n"
     ]
    },
    {
     "name": "stdout",
     "output_type": "stream",
     "text": [
      "Batch size: 5, Epochs: 5, Optimizer: Adam, Dropout rate: 0.000000, Neurons 1: 4, Neurons 2: 5\n",
      "Score: 0.002567, Accuracy: 0.000000\n"
     ]
    },
    {
     "name": "stderr",
     "output_type": "stream",
     "text": [
      "/home/kvsingh/anaconda2/envs/carnd-term1/lib/python2.7/site-packages/ipykernel_launcher.py:3: UserWarning: The `input_dim` and `input_length` arguments in recurrent layers are deprecated. Use `input_shape` instead.\n",
      "  This is separate from the ipykernel package so we can avoid doing imports until\n",
      "/home/kvsingh/anaconda2/envs/carnd-term1/lib/python2.7/site-packages/ipykernel_launcher.py:3: UserWarning: Update your `LSTM` call to the Keras 2 API: `LSTM(units=4, return_sequences=False, input_shape=(None, 1))`\n",
      "  This is separate from the ipykernel package so we can avoid doing imports until\n"
     ]
    },
    {
     "name": "stdout",
     "output_type": "stream",
     "text": [
      "Batch size: 5, Epochs: 5, Optimizer: Adam, Dropout rate: 0.000000, Neurons 1: 4, Neurons 2: 7\n",
      "Score: 0.002677, Accuracy: 0.000000\n"
     ]
    },
    {
     "name": "stderr",
     "output_type": "stream",
     "text": [
      "/home/kvsingh/anaconda2/envs/carnd-term1/lib/python2.7/site-packages/ipykernel_launcher.py:3: UserWarning: The `input_dim` and `input_length` arguments in recurrent layers are deprecated. Use `input_shape` instead.\n",
      "  This is separate from the ipykernel package so we can avoid doing imports until\n",
      "/home/kvsingh/anaconda2/envs/carnd-term1/lib/python2.7/site-packages/ipykernel_launcher.py:3: UserWarning: Update your `LSTM` call to the Keras 2 API: `LSTM(units=4, return_sequences=False, input_shape=(None, 1))`\n",
      "  This is separate from the ipykernel package so we can avoid doing imports until\n"
     ]
    },
    {
     "name": "stdout",
     "output_type": "stream",
     "text": [
      "Batch size: 5, Epochs: 5, Optimizer: Adam, Dropout rate: 0.000000, Neurons 1: 4, Neurons 2: 8\n",
      "Score: 0.002556, Accuracy: 0.000000\n"
     ]
    },
    {
     "name": "stderr",
     "output_type": "stream",
     "text": [
      "/home/kvsingh/anaconda2/envs/carnd-term1/lib/python2.7/site-packages/ipykernel_launcher.py:3: UserWarning: The `input_dim` and `input_length` arguments in recurrent layers are deprecated. Use `input_shape` instead.\n",
      "  This is separate from the ipykernel package so we can avoid doing imports until\n",
      "/home/kvsingh/anaconda2/envs/carnd-term1/lib/python2.7/site-packages/ipykernel_launcher.py:3: UserWarning: Update your `LSTM` call to the Keras 2 API: `LSTM(units=4, return_sequences=False, input_shape=(None, 1))`\n",
      "  This is separate from the ipykernel package so we can avoid doing imports until\n"
     ]
    },
    {
     "name": "stdout",
     "output_type": "stream",
     "text": [
      "Batch size: 5, Epochs: 5, Optimizer: Adam, Dropout rate: 0.000000, Neurons 1: 4, Neurons 2: 10\n",
      "Score: 0.002503, Accuracy: 0.000000\n"
     ]
    },
    {
     "name": "stderr",
     "output_type": "stream",
     "text": [
      "/home/kvsingh/anaconda2/envs/carnd-term1/lib/python2.7/site-packages/ipykernel_launcher.py:3: UserWarning: The `input_dim` and `input_length` arguments in recurrent layers are deprecated. Use `input_shape` instead.\n",
      "  This is separate from the ipykernel package so we can avoid doing imports until\n",
      "/home/kvsingh/anaconda2/envs/carnd-term1/lib/python2.7/site-packages/ipykernel_launcher.py:3: UserWarning: Update your `LSTM` call to the Keras 2 API: `LSTM(units=4, return_sequences=False, input_shape=(None, 1))`\n",
      "  This is separate from the ipykernel package so we can avoid doing imports until\n"
     ]
    },
    {
     "name": "stdout",
     "output_type": "stream",
     "text": [
      "Batch size: 5, Epochs: 5, Optimizer: Adam, Dropout rate: 0.000000, Neurons 1: 4, Neurons 2: 15\n",
      "Score: 0.002544, Accuracy: 0.000000\n"
     ]
    },
    {
     "name": "stderr",
     "output_type": "stream",
     "text": [
      "/home/kvsingh/anaconda2/envs/carnd-term1/lib/python2.7/site-packages/ipykernel_launcher.py:3: UserWarning: The `input_dim` and `input_length` arguments in recurrent layers are deprecated. Use `input_shape` instead.\n",
      "  This is separate from the ipykernel package so we can avoid doing imports until\n",
      "/home/kvsingh/anaconda2/envs/carnd-term1/lib/python2.7/site-packages/ipykernel_launcher.py:3: UserWarning: Update your `LSTM` call to the Keras 2 API: `LSTM(units=4, return_sequences=False, input_shape=(None, 1))`\n",
      "  This is separate from the ipykernel package so we can avoid doing imports until\n"
     ]
    },
    {
     "name": "stdout",
     "output_type": "stream",
     "text": [
      "Batch size: 5, Epochs: 5, Optimizer: Adam, Dropout rate: 0.000000, Neurons 1: 4, Neurons 2: 20\n",
      "Score: 0.002637, Accuracy: 0.000000\n"
     ]
    },
    {
     "name": "stderr",
     "output_type": "stream",
     "text": [
      "/home/kvsingh/anaconda2/envs/carnd-term1/lib/python2.7/site-packages/ipykernel_launcher.py:3: UserWarning: The `input_dim` and `input_length` arguments in recurrent layers are deprecated. Use `input_shape` instead.\n",
      "  This is separate from the ipykernel package so we can avoid doing imports until\n",
      "/home/kvsingh/anaconda2/envs/carnd-term1/lib/python2.7/site-packages/ipykernel_launcher.py:3: UserWarning: Update your `LSTM` call to the Keras 2 API: `LSTM(units=4, return_sequences=False, input_shape=(None, 1))`\n",
      "  This is separate from the ipykernel package so we can avoid doing imports until\n"
     ]
    },
    {
     "name": "stdout",
     "output_type": "stream",
     "text": [
      "Batch size: 5, Epochs: 5, Optimizer: Adam, Dropout rate: 0.000000, Neurons 1: 4, Neurons 2: 25\n",
      "Score: 0.002570, Accuracy: 0.000000\n"
     ]
    },
    {
     "name": "stderr",
     "output_type": "stream",
     "text": [
      "/home/kvsingh/anaconda2/envs/carnd-term1/lib/python2.7/site-packages/ipykernel_launcher.py:3: UserWarning: The `input_dim` and `input_length` arguments in recurrent layers are deprecated. Use `input_shape` instead.\n",
      "  This is separate from the ipykernel package so we can avoid doing imports until\n",
      "/home/kvsingh/anaconda2/envs/carnd-term1/lib/python2.7/site-packages/ipykernel_launcher.py:3: UserWarning: Update your `LSTM` call to the Keras 2 API: `LSTM(units=4, return_sequences=False, input_shape=(None, 1))`\n",
      "  This is separate from the ipykernel package so we can avoid doing imports until\n"
     ]
    },
    {
     "name": "stdout",
     "output_type": "stream",
     "text": [
      "Batch size: 5, Epochs: 5, Optimizer: Adam, Dropout rate: 0.000000, Neurons 1: 4, Neurons 2: 30\n",
      "Score: 0.002583, Accuracy: 0.000000\n"
     ]
    },
    {
     "name": "stderr",
     "output_type": "stream",
     "text": [
      "/home/kvsingh/anaconda2/envs/carnd-term1/lib/python2.7/site-packages/ipykernel_launcher.py:3: UserWarning: The `input_dim` and `input_length` arguments in recurrent layers are deprecated. Use `input_shape` instead.\n",
      "  This is separate from the ipykernel package so we can avoid doing imports until\n",
      "/home/kvsingh/anaconda2/envs/carnd-term1/lib/python2.7/site-packages/ipykernel_launcher.py:3: UserWarning: Update your `LSTM` call to the Keras 2 API: `LSTM(units=4, return_sequences=False, input_shape=(None, 1))`\n",
      "  This is separate from the ipykernel package so we can avoid doing imports until\n"
     ]
    },
    {
     "name": "stdout",
     "output_type": "stream",
     "text": [
      "Batch size: 5, Epochs: 5, Optimizer: Adam, Dropout rate: 0.000000, Neurons 1: 4, Neurons 2: 64\n",
      "Score: 0.002537, Accuracy: 0.000000\n"
     ]
    },
    {
     "name": "stderr",
     "output_type": "stream",
     "text": [
      "/home/kvsingh/anaconda2/envs/carnd-term1/lib/python2.7/site-packages/ipykernel_launcher.py:3: UserWarning: The `input_dim` and `input_length` arguments in recurrent layers are deprecated. Use `input_shape` instead.\n",
      "  This is separate from the ipykernel package so we can avoid doing imports until\n",
      "/home/kvsingh/anaconda2/envs/carnd-term1/lib/python2.7/site-packages/ipykernel_launcher.py:3: UserWarning: Update your `LSTM` call to the Keras 2 API: `LSTM(units=4, return_sequences=False, input_shape=(None, 1))`\n",
      "  This is separate from the ipykernel package so we can avoid doing imports until\n"
     ]
    },
    {
     "name": "stdout",
     "output_type": "stream",
     "text": [
      "Batch size: 5, Epochs: 5, Optimizer: Adam, Dropout rate: 0.000000, Neurons 1: 4, Neurons 2: 128\n",
      "Score: 0.002592, Accuracy: 0.000000\n"
     ]
    },
    {
     "name": "stderr",
     "output_type": "stream",
     "text": [
      "/home/kvsingh/anaconda2/envs/carnd-term1/lib/python2.7/site-packages/ipykernel_launcher.py:3: UserWarning: The `input_dim` and `input_length` arguments in recurrent layers are deprecated. Use `input_shape` instead.\n",
      "  This is separate from the ipykernel package so we can avoid doing imports until\n",
      "/home/kvsingh/anaconda2/envs/carnd-term1/lib/python2.7/site-packages/ipykernel_launcher.py:3: UserWarning: Update your `LSTM` call to the Keras 2 API: `LSTM(units=5, return_sequences=False, input_shape=(None, 1))`\n",
      "  This is separate from the ipykernel package so we can avoid doing imports until\n"
     ]
    },
    {
     "name": "stdout",
     "output_type": "stream",
     "text": [
      "Batch size: 5, Epochs: 5, Optimizer: Adam, Dropout rate: 0.000000, Neurons 1: 5, Neurons 2: 1\n",
      "Score: 0.002788, Accuracy: 0.000000\n"
     ]
    },
    {
     "name": "stderr",
     "output_type": "stream",
     "text": [
      "/home/kvsingh/anaconda2/envs/carnd-term1/lib/python2.7/site-packages/ipykernel_launcher.py:3: UserWarning: The `input_dim` and `input_length` arguments in recurrent layers are deprecated. Use `input_shape` instead.\n",
      "  This is separate from the ipykernel package so we can avoid doing imports until\n",
      "/home/kvsingh/anaconda2/envs/carnd-term1/lib/python2.7/site-packages/ipykernel_launcher.py:3: UserWarning: Update your `LSTM` call to the Keras 2 API: `LSTM(units=5, return_sequences=False, input_shape=(None, 1))`\n",
      "  This is separate from the ipykernel package so we can avoid doing imports until\n"
     ]
    },
    {
     "name": "stdout",
     "output_type": "stream",
     "text": [
      "Batch size: 5, Epochs: 5, Optimizer: Adam, Dropout rate: 0.000000, Neurons 1: 5, Neurons 2: 4\n",
      "Score: 0.002680, Accuracy: 0.000000\n"
     ]
    },
    {
     "name": "stderr",
     "output_type": "stream",
     "text": [
      "/home/kvsingh/anaconda2/envs/carnd-term1/lib/python2.7/site-packages/ipykernel_launcher.py:3: UserWarning: The `input_dim` and `input_length` arguments in recurrent layers are deprecated. Use `input_shape` instead.\n",
      "  This is separate from the ipykernel package so we can avoid doing imports until\n",
      "/home/kvsingh/anaconda2/envs/carnd-term1/lib/python2.7/site-packages/ipykernel_launcher.py:3: UserWarning: Update your `LSTM` call to the Keras 2 API: `LSTM(units=5, return_sequences=False, input_shape=(None, 1))`\n",
      "  This is separate from the ipykernel package so we can avoid doing imports until\n"
     ]
    },
    {
     "name": "stdout",
     "output_type": "stream",
     "text": [
      "Batch size: 5, Epochs: 5, Optimizer: Adam, Dropout rate: 0.000000, Neurons 1: 5, Neurons 2: 5\n",
      "Score: 0.002692, Accuracy: 0.000000\n"
     ]
    },
    {
     "name": "stderr",
     "output_type": "stream",
     "text": [
      "/home/kvsingh/anaconda2/envs/carnd-term1/lib/python2.7/site-packages/ipykernel_launcher.py:3: UserWarning: The `input_dim` and `input_length` arguments in recurrent layers are deprecated. Use `input_shape` instead.\n",
      "  This is separate from the ipykernel package so we can avoid doing imports until\n",
      "/home/kvsingh/anaconda2/envs/carnd-term1/lib/python2.7/site-packages/ipykernel_launcher.py:3: UserWarning: Update your `LSTM` call to the Keras 2 API: `LSTM(units=5, return_sequences=False, input_shape=(None, 1))`\n",
      "  This is separate from the ipykernel package so we can avoid doing imports until\n"
     ]
    },
    {
     "name": "stdout",
     "output_type": "stream",
     "text": [
      "Batch size: 5, Epochs: 5, Optimizer: Adam, Dropout rate: 0.000000, Neurons 1: 5, Neurons 2: 7\n",
      "Score: 0.002528, Accuracy: 0.000000\n"
     ]
    },
    {
     "name": "stderr",
     "output_type": "stream",
     "text": [
      "/home/kvsingh/anaconda2/envs/carnd-term1/lib/python2.7/site-packages/ipykernel_launcher.py:3: UserWarning: The `input_dim` and `input_length` arguments in recurrent layers are deprecated. Use `input_shape` instead.\n",
      "  This is separate from the ipykernel package so we can avoid doing imports until\n",
      "/home/kvsingh/anaconda2/envs/carnd-term1/lib/python2.7/site-packages/ipykernel_launcher.py:3: UserWarning: Update your `LSTM` call to the Keras 2 API: `LSTM(units=5, return_sequences=False, input_shape=(None, 1))`\n",
      "  This is separate from the ipykernel package so we can avoid doing imports until\n"
     ]
    },
    {
     "name": "stdout",
     "output_type": "stream",
     "text": [
      "Batch size: 5, Epochs: 5, Optimizer: Adam, Dropout rate: 0.000000, Neurons 1: 5, Neurons 2: 8\n",
      "Score: 0.002581, Accuracy: 0.000000\n"
     ]
    },
    {
     "name": "stderr",
     "output_type": "stream",
     "text": [
      "/home/kvsingh/anaconda2/envs/carnd-term1/lib/python2.7/site-packages/ipykernel_launcher.py:3: UserWarning: The `input_dim` and `input_length` arguments in recurrent layers are deprecated. Use `input_shape` instead.\n",
      "  This is separate from the ipykernel package so we can avoid doing imports until\n",
      "/home/kvsingh/anaconda2/envs/carnd-term1/lib/python2.7/site-packages/ipykernel_launcher.py:3: UserWarning: Update your `LSTM` call to the Keras 2 API: `LSTM(units=5, return_sequences=False, input_shape=(None, 1))`\n",
      "  This is separate from the ipykernel package so we can avoid doing imports until\n"
     ]
    },
    {
     "name": "stdout",
     "output_type": "stream",
     "text": [
      "Batch size: 5, Epochs: 5, Optimizer: Adam, Dropout rate: 0.000000, Neurons 1: 5, Neurons 2: 10\n",
      "Score: 0.002536, Accuracy: 0.000000\n"
     ]
    },
    {
     "name": "stderr",
     "output_type": "stream",
     "text": [
      "/home/kvsingh/anaconda2/envs/carnd-term1/lib/python2.7/site-packages/ipykernel_launcher.py:3: UserWarning: The `input_dim` and `input_length` arguments in recurrent layers are deprecated. Use `input_shape` instead.\n",
      "  This is separate from the ipykernel package so we can avoid doing imports until\n",
      "/home/kvsingh/anaconda2/envs/carnd-term1/lib/python2.7/site-packages/ipykernel_launcher.py:3: UserWarning: Update your `LSTM` call to the Keras 2 API: `LSTM(units=5, return_sequences=False, input_shape=(None, 1))`\n",
      "  This is separate from the ipykernel package so we can avoid doing imports until\n"
     ]
    },
    {
     "name": "stdout",
     "output_type": "stream",
     "text": [
      "Batch size: 5, Epochs: 5, Optimizer: Adam, Dropout rate: 0.000000, Neurons 1: 5, Neurons 2: 15\n",
      "Score: 0.002547, Accuracy: 0.000000\n"
     ]
    },
    {
     "name": "stderr",
     "output_type": "stream",
     "text": [
      "/home/kvsingh/anaconda2/envs/carnd-term1/lib/python2.7/site-packages/ipykernel_launcher.py:3: UserWarning: The `input_dim` and `input_length` arguments in recurrent layers are deprecated. Use `input_shape` instead.\n",
      "  This is separate from the ipykernel package so we can avoid doing imports until\n",
      "/home/kvsingh/anaconda2/envs/carnd-term1/lib/python2.7/site-packages/ipykernel_launcher.py:3: UserWarning: Update your `LSTM` call to the Keras 2 API: `LSTM(units=5, return_sequences=False, input_shape=(None, 1))`\n",
      "  This is separate from the ipykernel package so we can avoid doing imports until\n"
     ]
    },
    {
     "name": "stdout",
     "output_type": "stream",
     "text": [
      "Batch size: 5, Epochs: 5, Optimizer: Adam, Dropout rate: 0.000000, Neurons 1: 5, Neurons 2: 20\n",
      "Score: 0.002525, Accuracy: 0.000000\n"
     ]
    },
    {
     "name": "stderr",
     "output_type": "stream",
     "text": [
      "/home/kvsingh/anaconda2/envs/carnd-term1/lib/python2.7/site-packages/ipykernel_launcher.py:3: UserWarning: The `input_dim` and `input_length` arguments in recurrent layers are deprecated. Use `input_shape` instead.\n",
      "  This is separate from the ipykernel package so we can avoid doing imports until\n",
      "/home/kvsingh/anaconda2/envs/carnd-term1/lib/python2.7/site-packages/ipykernel_launcher.py:3: UserWarning: Update your `LSTM` call to the Keras 2 API: `LSTM(units=5, return_sequences=False, input_shape=(None, 1))`\n",
      "  This is separate from the ipykernel package so we can avoid doing imports until\n"
     ]
    },
    {
     "name": "stdout",
     "output_type": "stream",
     "text": [
      "Batch size: 5, Epochs: 5, Optimizer: Adam, Dropout rate: 0.000000, Neurons 1: 5, Neurons 2: 25\n",
      "Score: 0.002429, Accuracy: 0.000000\n"
     ]
    },
    {
     "name": "stderr",
     "output_type": "stream",
     "text": [
      "/home/kvsingh/anaconda2/envs/carnd-term1/lib/python2.7/site-packages/ipykernel_launcher.py:3: UserWarning: The `input_dim` and `input_length` arguments in recurrent layers are deprecated. Use `input_shape` instead.\n",
      "  This is separate from the ipykernel package so we can avoid doing imports until\n",
      "/home/kvsingh/anaconda2/envs/carnd-term1/lib/python2.7/site-packages/ipykernel_launcher.py:3: UserWarning: Update your `LSTM` call to the Keras 2 API: `LSTM(units=5, return_sequences=False, input_shape=(None, 1))`\n",
      "  This is separate from the ipykernel package so we can avoid doing imports until\n"
     ]
    },
    {
     "name": "stdout",
     "output_type": "stream",
     "text": [
      "Batch size: 5, Epochs: 5, Optimizer: Adam, Dropout rate: 0.000000, Neurons 1: 5, Neurons 2: 30\n",
      "Score: 0.002656, Accuracy: 0.000000\n"
     ]
    },
    {
     "name": "stderr",
     "output_type": "stream",
     "text": [
      "/home/kvsingh/anaconda2/envs/carnd-term1/lib/python2.7/site-packages/ipykernel_launcher.py:3: UserWarning: The `input_dim` and `input_length` arguments in recurrent layers are deprecated. Use `input_shape` instead.\n",
      "  This is separate from the ipykernel package so we can avoid doing imports until\n",
      "/home/kvsingh/anaconda2/envs/carnd-term1/lib/python2.7/site-packages/ipykernel_launcher.py:3: UserWarning: Update your `LSTM` call to the Keras 2 API: `LSTM(units=5, return_sequences=False, input_shape=(None, 1))`\n",
      "  This is separate from the ipykernel package so we can avoid doing imports until\n"
     ]
    },
    {
     "name": "stdout",
     "output_type": "stream",
     "text": [
      "Batch size: 5, Epochs: 5, Optimizer: Adam, Dropout rate: 0.000000, Neurons 1: 5, Neurons 2: 64\n",
      "Score: 0.002623, Accuracy: 0.000000\n"
     ]
    },
    {
     "name": "stderr",
     "output_type": "stream",
     "text": [
      "/home/kvsingh/anaconda2/envs/carnd-term1/lib/python2.7/site-packages/ipykernel_launcher.py:3: UserWarning: The `input_dim` and `input_length` arguments in recurrent layers are deprecated. Use `input_shape` instead.\n",
      "  This is separate from the ipykernel package so we can avoid doing imports until\n",
      "/home/kvsingh/anaconda2/envs/carnd-term1/lib/python2.7/site-packages/ipykernel_launcher.py:3: UserWarning: Update your `LSTM` call to the Keras 2 API: `LSTM(units=5, return_sequences=False, input_shape=(None, 1))`\n",
      "  This is separate from the ipykernel package so we can avoid doing imports until\n"
     ]
    },
    {
     "name": "stdout",
     "output_type": "stream",
     "text": [
      "Batch size: 5, Epochs: 5, Optimizer: Adam, Dropout rate: 0.000000, Neurons 1: 5, Neurons 2: 128\n",
      "Score: 0.002684, Accuracy: 0.000000\n"
     ]
    },
    {
     "name": "stderr",
     "output_type": "stream",
     "text": [
      "/home/kvsingh/anaconda2/envs/carnd-term1/lib/python2.7/site-packages/ipykernel_launcher.py:3: UserWarning: The `input_dim` and `input_length` arguments in recurrent layers are deprecated. Use `input_shape` instead.\n",
      "  This is separate from the ipykernel package so we can avoid doing imports until\n",
      "/home/kvsingh/anaconda2/envs/carnd-term1/lib/python2.7/site-packages/ipykernel_launcher.py:3: UserWarning: Update your `LSTM` call to the Keras 2 API: `LSTM(units=7, return_sequences=False, input_shape=(None, 1))`\n",
      "  This is separate from the ipykernel package so we can avoid doing imports until\n"
     ]
    },
    {
     "name": "stdout",
     "output_type": "stream",
     "text": [
      "Batch size: 5, Epochs: 5, Optimizer: Adam, Dropout rate: 0.000000, Neurons 1: 7, Neurons 2: 1\n",
      "Score: 0.002477, Accuracy: 0.000000\n"
     ]
    },
    {
     "name": "stderr",
     "output_type": "stream",
     "text": [
      "/home/kvsingh/anaconda2/envs/carnd-term1/lib/python2.7/site-packages/ipykernel_launcher.py:3: UserWarning: The `input_dim` and `input_length` arguments in recurrent layers are deprecated. Use `input_shape` instead.\n",
      "  This is separate from the ipykernel package so we can avoid doing imports until\n",
      "/home/kvsingh/anaconda2/envs/carnd-term1/lib/python2.7/site-packages/ipykernel_launcher.py:3: UserWarning: Update your `LSTM` call to the Keras 2 API: `LSTM(units=7, return_sequences=False, input_shape=(None, 1))`\n",
      "  This is separate from the ipykernel package so we can avoid doing imports until\n"
     ]
    },
    {
     "name": "stdout",
     "output_type": "stream",
     "text": [
      "Batch size: 5, Epochs: 5, Optimizer: Adam, Dropout rate: 0.000000, Neurons 1: 7, Neurons 2: 4\n",
      "Score: 0.002488, Accuracy: 0.000000\n"
     ]
    },
    {
     "name": "stderr",
     "output_type": "stream",
     "text": [
      "/home/kvsingh/anaconda2/envs/carnd-term1/lib/python2.7/site-packages/ipykernel_launcher.py:3: UserWarning: The `input_dim` and `input_length` arguments in recurrent layers are deprecated. Use `input_shape` instead.\n",
      "  This is separate from the ipykernel package so we can avoid doing imports until\n",
      "/home/kvsingh/anaconda2/envs/carnd-term1/lib/python2.7/site-packages/ipykernel_launcher.py:3: UserWarning: Update your `LSTM` call to the Keras 2 API: `LSTM(units=7, return_sequences=False, input_shape=(None, 1))`\n",
      "  This is separate from the ipykernel package so we can avoid doing imports until\n"
     ]
    },
    {
     "name": "stdout",
     "output_type": "stream",
     "text": [
      "Batch size: 5, Epochs: 5, Optimizer: Adam, Dropout rate: 0.000000, Neurons 1: 7, Neurons 2: 5\n",
      "Score: 0.002913, Accuracy: 0.000000\n"
     ]
    },
    {
     "name": "stderr",
     "output_type": "stream",
     "text": [
      "/home/kvsingh/anaconda2/envs/carnd-term1/lib/python2.7/site-packages/ipykernel_launcher.py:3: UserWarning: The `input_dim` and `input_length` arguments in recurrent layers are deprecated. Use `input_shape` instead.\n",
      "  This is separate from the ipykernel package so we can avoid doing imports until\n",
      "/home/kvsingh/anaconda2/envs/carnd-term1/lib/python2.7/site-packages/ipykernel_launcher.py:3: UserWarning: Update your `LSTM` call to the Keras 2 API: `LSTM(units=7, return_sequences=False, input_shape=(None, 1))`\n",
      "  This is separate from the ipykernel package so we can avoid doing imports until\n"
     ]
    },
    {
     "name": "stdout",
     "output_type": "stream",
     "text": [
      "Batch size: 5, Epochs: 5, Optimizer: Adam, Dropout rate: 0.000000, Neurons 1: 7, Neurons 2: 7\n",
      "Score: 0.002476, Accuracy: 0.000000\n"
     ]
    },
    {
     "name": "stderr",
     "output_type": "stream",
     "text": [
      "/home/kvsingh/anaconda2/envs/carnd-term1/lib/python2.7/site-packages/ipykernel_launcher.py:3: UserWarning: The `input_dim` and `input_length` arguments in recurrent layers are deprecated. Use `input_shape` instead.\n",
      "  This is separate from the ipykernel package so we can avoid doing imports until\n",
      "/home/kvsingh/anaconda2/envs/carnd-term1/lib/python2.7/site-packages/ipykernel_launcher.py:3: UserWarning: Update your `LSTM` call to the Keras 2 API: `LSTM(units=7, return_sequences=False, input_shape=(None, 1))`\n",
      "  This is separate from the ipykernel package so we can avoid doing imports until\n"
     ]
    },
    {
     "name": "stdout",
     "output_type": "stream",
     "text": [
      "Batch size: 5, Epochs: 5, Optimizer: Adam, Dropout rate: 0.000000, Neurons 1: 7, Neurons 2: 8\n",
      "Score: 0.002589, Accuracy: 0.000000\n"
     ]
    },
    {
     "name": "stderr",
     "output_type": "stream",
     "text": [
      "/home/kvsingh/anaconda2/envs/carnd-term1/lib/python2.7/site-packages/ipykernel_launcher.py:3: UserWarning: The `input_dim` and `input_length` arguments in recurrent layers are deprecated. Use `input_shape` instead.\n",
      "  This is separate from the ipykernel package so we can avoid doing imports until\n",
      "/home/kvsingh/anaconda2/envs/carnd-term1/lib/python2.7/site-packages/ipykernel_launcher.py:3: UserWarning: Update your `LSTM` call to the Keras 2 API: `LSTM(units=7, return_sequences=False, input_shape=(None, 1))`\n",
      "  This is separate from the ipykernel package so we can avoid doing imports until\n"
     ]
    },
    {
     "name": "stdout",
     "output_type": "stream",
     "text": [
      "Batch size: 5, Epochs: 5, Optimizer: Adam, Dropout rate: 0.000000, Neurons 1: 7, Neurons 2: 10\n",
      "Score: 0.002563, Accuracy: 0.000000\n"
     ]
    },
    {
     "name": "stderr",
     "output_type": "stream",
     "text": [
      "/home/kvsingh/anaconda2/envs/carnd-term1/lib/python2.7/site-packages/ipykernel_launcher.py:3: UserWarning: The `input_dim` and `input_length` arguments in recurrent layers are deprecated. Use `input_shape` instead.\n",
      "  This is separate from the ipykernel package so we can avoid doing imports until\n",
      "/home/kvsingh/anaconda2/envs/carnd-term1/lib/python2.7/site-packages/ipykernel_launcher.py:3: UserWarning: Update your `LSTM` call to the Keras 2 API: `LSTM(units=7, return_sequences=False, input_shape=(None, 1))`\n",
      "  This is separate from the ipykernel package so we can avoid doing imports until\n"
     ]
    },
    {
     "name": "stdout",
     "output_type": "stream",
     "text": [
      "Batch size: 5, Epochs: 5, Optimizer: Adam, Dropout rate: 0.000000, Neurons 1: 7, Neurons 2: 15\n",
      "Score: 0.002539, Accuracy: 0.000000\n"
     ]
    },
    {
     "name": "stderr",
     "output_type": "stream",
     "text": [
      "/home/kvsingh/anaconda2/envs/carnd-term1/lib/python2.7/site-packages/ipykernel_launcher.py:3: UserWarning: The `input_dim` and `input_length` arguments in recurrent layers are deprecated. Use `input_shape` instead.\n",
      "  This is separate from the ipykernel package so we can avoid doing imports until\n",
      "/home/kvsingh/anaconda2/envs/carnd-term1/lib/python2.7/site-packages/ipykernel_launcher.py:3: UserWarning: Update your `LSTM` call to the Keras 2 API: `LSTM(units=7, return_sequences=False, input_shape=(None, 1))`\n",
      "  This is separate from the ipykernel package so we can avoid doing imports until\n"
     ]
    },
    {
     "name": "stdout",
     "output_type": "stream",
     "text": [
      "Batch size: 5, Epochs: 5, Optimizer: Adam, Dropout rate: 0.000000, Neurons 1: 7, Neurons 2: 20\n",
      "Score: 0.002613, Accuracy: 0.000000\n"
     ]
    },
    {
     "name": "stderr",
     "output_type": "stream",
     "text": [
      "/home/kvsingh/anaconda2/envs/carnd-term1/lib/python2.7/site-packages/ipykernel_launcher.py:3: UserWarning: The `input_dim` and `input_length` arguments in recurrent layers are deprecated. Use `input_shape` instead.\n",
      "  This is separate from the ipykernel package so we can avoid doing imports until\n",
      "/home/kvsingh/anaconda2/envs/carnd-term1/lib/python2.7/site-packages/ipykernel_launcher.py:3: UserWarning: Update your `LSTM` call to the Keras 2 API: `LSTM(units=7, return_sequences=False, input_shape=(None, 1))`\n",
      "  This is separate from the ipykernel package so we can avoid doing imports until\n"
     ]
    },
    {
     "name": "stdout",
     "output_type": "stream",
     "text": [
      "Batch size: 5, Epochs: 5, Optimizer: Adam, Dropout rate: 0.000000, Neurons 1: 7, Neurons 2: 25\n",
      "Score: 0.002572, Accuracy: 0.000000\n"
     ]
    },
    {
     "name": "stderr",
     "output_type": "stream",
     "text": [
      "/home/kvsingh/anaconda2/envs/carnd-term1/lib/python2.7/site-packages/ipykernel_launcher.py:3: UserWarning: The `input_dim` and `input_length` arguments in recurrent layers are deprecated. Use `input_shape` instead.\n",
      "  This is separate from the ipykernel package so we can avoid doing imports until\n",
      "/home/kvsingh/anaconda2/envs/carnd-term1/lib/python2.7/site-packages/ipykernel_launcher.py:3: UserWarning: Update your `LSTM` call to the Keras 2 API: `LSTM(units=7, return_sequences=False, input_shape=(None, 1))`\n",
      "  This is separate from the ipykernel package so we can avoid doing imports until\n"
     ]
    },
    {
     "name": "stdout",
     "output_type": "stream",
     "text": [
      "Batch size: 5, Epochs: 5, Optimizer: Adam, Dropout rate: 0.000000, Neurons 1: 7, Neurons 2: 30\n",
      "Score: 0.002538, Accuracy: 0.000000\n"
     ]
    },
    {
     "name": "stderr",
     "output_type": "stream",
     "text": [
      "/home/kvsingh/anaconda2/envs/carnd-term1/lib/python2.7/site-packages/ipykernel_launcher.py:3: UserWarning: The `input_dim` and `input_length` arguments in recurrent layers are deprecated. Use `input_shape` instead.\n",
      "  This is separate from the ipykernel package so we can avoid doing imports until\n",
      "/home/kvsingh/anaconda2/envs/carnd-term1/lib/python2.7/site-packages/ipykernel_launcher.py:3: UserWarning: Update your `LSTM` call to the Keras 2 API: `LSTM(units=7, return_sequences=False, input_shape=(None, 1))`\n",
      "  This is separate from the ipykernel package so we can avoid doing imports until\n"
     ]
    },
    {
     "name": "stdout",
     "output_type": "stream",
     "text": [
      "Batch size: 5, Epochs: 5, Optimizer: Adam, Dropout rate: 0.000000, Neurons 1: 7, Neurons 2: 64\n",
      "Score: 0.002455, Accuracy: 0.000000\n"
     ]
    },
    {
     "name": "stderr",
     "output_type": "stream",
     "text": [
      "/home/kvsingh/anaconda2/envs/carnd-term1/lib/python2.7/site-packages/ipykernel_launcher.py:3: UserWarning: The `input_dim` and `input_length` arguments in recurrent layers are deprecated. Use `input_shape` instead.\n",
      "  This is separate from the ipykernel package so we can avoid doing imports until\n",
      "/home/kvsingh/anaconda2/envs/carnd-term1/lib/python2.7/site-packages/ipykernel_launcher.py:3: UserWarning: Update your `LSTM` call to the Keras 2 API: `LSTM(units=7, return_sequences=False, input_shape=(None, 1))`\n",
      "  This is separate from the ipykernel package so we can avoid doing imports until\n"
     ]
    },
    {
     "name": "stdout",
     "output_type": "stream",
     "text": [
      "Batch size: 5, Epochs: 5, Optimizer: Adam, Dropout rate: 0.000000, Neurons 1: 7, Neurons 2: 128\n",
      "Score: 0.002729, Accuracy: 0.000000\n"
     ]
    },
    {
     "name": "stderr",
     "output_type": "stream",
     "text": [
      "/home/kvsingh/anaconda2/envs/carnd-term1/lib/python2.7/site-packages/ipykernel_launcher.py:3: UserWarning: The `input_dim` and `input_length` arguments in recurrent layers are deprecated. Use `input_shape` instead.\n",
      "  This is separate from the ipykernel package so we can avoid doing imports until\n",
      "/home/kvsingh/anaconda2/envs/carnd-term1/lib/python2.7/site-packages/ipykernel_launcher.py:3: UserWarning: Update your `LSTM` call to the Keras 2 API: `LSTM(units=8, return_sequences=False, input_shape=(None, 1))`\n",
      "  This is separate from the ipykernel package so we can avoid doing imports until\n"
     ]
    },
    {
     "name": "stdout",
     "output_type": "stream",
     "text": [
      "Batch size: 5, Epochs: 5, Optimizer: Adam, Dropout rate: 0.000000, Neurons 1: 8, Neurons 2: 1\n",
      "Score: 0.002610, Accuracy: 0.000000\n"
     ]
    },
    {
     "name": "stderr",
     "output_type": "stream",
     "text": [
      "/home/kvsingh/anaconda2/envs/carnd-term1/lib/python2.7/site-packages/ipykernel_launcher.py:3: UserWarning: The `input_dim` and `input_length` arguments in recurrent layers are deprecated. Use `input_shape` instead.\n",
      "  This is separate from the ipykernel package so we can avoid doing imports until\n",
      "/home/kvsingh/anaconda2/envs/carnd-term1/lib/python2.7/site-packages/ipykernel_launcher.py:3: UserWarning: Update your `LSTM` call to the Keras 2 API: `LSTM(units=8, return_sequences=False, input_shape=(None, 1))`\n",
      "  This is separate from the ipykernel package so we can avoid doing imports until\n"
     ]
    },
    {
     "name": "stdout",
     "output_type": "stream",
     "text": [
      "Batch size: 5, Epochs: 5, Optimizer: Adam, Dropout rate: 0.000000, Neurons 1: 8, Neurons 2: 4\n",
      "Score: 0.002552, Accuracy: 0.000000\n"
     ]
    },
    {
     "name": "stderr",
     "output_type": "stream",
     "text": [
      "/home/kvsingh/anaconda2/envs/carnd-term1/lib/python2.7/site-packages/ipykernel_launcher.py:3: UserWarning: The `input_dim` and `input_length` arguments in recurrent layers are deprecated. Use `input_shape` instead.\n",
      "  This is separate from the ipykernel package so we can avoid doing imports until\n",
      "/home/kvsingh/anaconda2/envs/carnd-term1/lib/python2.7/site-packages/ipykernel_launcher.py:3: UserWarning: Update your `LSTM` call to the Keras 2 API: `LSTM(units=8, return_sequences=False, input_shape=(None, 1))`\n",
      "  This is separate from the ipykernel package so we can avoid doing imports until\n"
     ]
    },
    {
     "name": "stdout",
     "output_type": "stream",
     "text": [
      "Batch size: 5, Epochs: 5, Optimizer: Adam, Dropout rate: 0.000000, Neurons 1: 8, Neurons 2: 5\n",
      "Score: 0.002553, Accuracy: 0.000000\n"
     ]
    },
    {
     "name": "stderr",
     "output_type": "stream",
     "text": [
      "/home/kvsingh/anaconda2/envs/carnd-term1/lib/python2.7/site-packages/ipykernel_launcher.py:3: UserWarning: The `input_dim` and `input_length` arguments in recurrent layers are deprecated. Use `input_shape` instead.\n",
      "  This is separate from the ipykernel package so we can avoid doing imports until\n",
      "/home/kvsingh/anaconda2/envs/carnd-term1/lib/python2.7/site-packages/ipykernel_launcher.py:3: UserWarning: Update your `LSTM` call to the Keras 2 API: `LSTM(units=8, return_sequences=False, input_shape=(None, 1))`\n",
      "  This is separate from the ipykernel package so we can avoid doing imports until\n"
     ]
    },
    {
     "name": "stdout",
     "output_type": "stream",
     "text": [
      "Batch size: 5, Epochs: 5, Optimizer: Adam, Dropout rate: 0.000000, Neurons 1: 8, Neurons 2: 7\n",
      "Score: 0.002587, Accuracy: 0.000000\n"
     ]
    },
    {
     "name": "stderr",
     "output_type": "stream",
     "text": [
      "/home/kvsingh/anaconda2/envs/carnd-term1/lib/python2.7/site-packages/ipykernel_launcher.py:3: UserWarning: The `input_dim` and `input_length` arguments in recurrent layers are deprecated. Use `input_shape` instead.\n",
      "  This is separate from the ipykernel package so we can avoid doing imports until\n",
      "/home/kvsingh/anaconda2/envs/carnd-term1/lib/python2.7/site-packages/ipykernel_launcher.py:3: UserWarning: Update your `LSTM` call to the Keras 2 API: `LSTM(units=8, return_sequences=False, input_shape=(None, 1))`\n",
      "  This is separate from the ipykernel package so we can avoid doing imports until\n"
     ]
    },
    {
     "name": "stdout",
     "output_type": "stream",
     "text": [
      "Batch size: 5, Epochs: 5, Optimizer: Adam, Dropout rate: 0.000000, Neurons 1: 8, Neurons 2: 8\n",
      "Score: 0.002563, Accuracy: 0.000000\n"
     ]
    },
    {
     "name": "stderr",
     "output_type": "stream",
     "text": [
      "/home/kvsingh/anaconda2/envs/carnd-term1/lib/python2.7/site-packages/ipykernel_launcher.py:3: UserWarning: The `input_dim` and `input_length` arguments in recurrent layers are deprecated. Use `input_shape` instead.\n",
      "  This is separate from the ipykernel package so we can avoid doing imports until\n",
      "/home/kvsingh/anaconda2/envs/carnd-term1/lib/python2.7/site-packages/ipykernel_launcher.py:3: UserWarning: Update your `LSTM` call to the Keras 2 API: `LSTM(units=8, return_sequences=False, input_shape=(None, 1))`\n",
      "  This is separate from the ipykernel package so we can avoid doing imports until\n"
     ]
    },
    {
     "name": "stdout",
     "output_type": "stream",
     "text": [
      "Batch size: 5, Epochs: 5, Optimizer: Adam, Dropout rate: 0.000000, Neurons 1: 8, Neurons 2: 10\n",
      "Score: 0.002515, Accuracy: 0.000000\n"
     ]
    },
    {
     "name": "stderr",
     "output_type": "stream",
     "text": [
      "/home/kvsingh/anaconda2/envs/carnd-term1/lib/python2.7/site-packages/ipykernel_launcher.py:3: UserWarning: The `input_dim` and `input_length` arguments in recurrent layers are deprecated. Use `input_shape` instead.\n",
      "  This is separate from the ipykernel package so we can avoid doing imports until\n",
      "/home/kvsingh/anaconda2/envs/carnd-term1/lib/python2.7/site-packages/ipykernel_launcher.py:3: UserWarning: Update your `LSTM` call to the Keras 2 API: `LSTM(units=8, return_sequences=False, input_shape=(None, 1))`\n",
      "  This is separate from the ipykernel package so we can avoid doing imports until\n"
     ]
    },
    {
     "name": "stdout",
     "output_type": "stream",
     "text": [
      "Batch size: 5, Epochs: 5, Optimizer: Adam, Dropout rate: 0.000000, Neurons 1: 8, Neurons 2: 15\n",
      "Score: 0.002889, Accuracy: 0.000000\n"
     ]
    },
    {
     "name": "stderr",
     "output_type": "stream",
     "text": [
      "/home/kvsingh/anaconda2/envs/carnd-term1/lib/python2.7/site-packages/ipykernel_launcher.py:3: UserWarning: The `input_dim` and `input_length` arguments in recurrent layers are deprecated. Use `input_shape` instead.\n",
      "  This is separate from the ipykernel package so we can avoid doing imports until\n",
      "/home/kvsingh/anaconda2/envs/carnd-term1/lib/python2.7/site-packages/ipykernel_launcher.py:3: UserWarning: Update your `LSTM` call to the Keras 2 API: `LSTM(units=8, return_sequences=False, input_shape=(None, 1))`\n",
      "  This is separate from the ipykernel package so we can avoid doing imports until\n"
     ]
    },
    {
     "name": "stdout",
     "output_type": "stream",
     "text": [
      "Batch size: 5, Epochs: 5, Optimizer: Adam, Dropout rate: 0.000000, Neurons 1: 8, Neurons 2: 20\n",
      "Score: 0.002515, Accuracy: 0.000000\n"
     ]
    },
    {
     "name": "stderr",
     "output_type": "stream",
     "text": [
      "/home/kvsingh/anaconda2/envs/carnd-term1/lib/python2.7/site-packages/ipykernel_launcher.py:3: UserWarning: The `input_dim` and `input_length` arguments in recurrent layers are deprecated. Use `input_shape` instead.\n",
      "  This is separate from the ipykernel package so we can avoid doing imports until\n",
      "/home/kvsingh/anaconda2/envs/carnd-term1/lib/python2.7/site-packages/ipykernel_launcher.py:3: UserWarning: Update your `LSTM` call to the Keras 2 API: `LSTM(units=8, return_sequences=False, input_shape=(None, 1))`\n",
      "  This is separate from the ipykernel package so we can avoid doing imports until\n"
     ]
    },
    {
     "name": "stdout",
     "output_type": "stream",
     "text": [
      "Batch size: 5, Epochs: 5, Optimizer: Adam, Dropout rate: 0.000000, Neurons 1: 8, Neurons 2: 25\n",
      "Score: 0.002475, Accuracy: 0.000000\n"
     ]
    },
    {
     "name": "stderr",
     "output_type": "stream",
     "text": [
      "/home/kvsingh/anaconda2/envs/carnd-term1/lib/python2.7/site-packages/ipykernel_launcher.py:3: UserWarning: The `input_dim` and `input_length` arguments in recurrent layers are deprecated. Use `input_shape` instead.\n",
      "  This is separate from the ipykernel package so we can avoid doing imports until\n",
      "/home/kvsingh/anaconda2/envs/carnd-term1/lib/python2.7/site-packages/ipykernel_launcher.py:3: UserWarning: Update your `LSTM` call to the Keras 2 API: `LSTM(units=8, return_sequences=False, input_shape=(None, 1))`\n",
      "  This is separate from the ipykernel package so we can avoid doing imports until\n"
     ]
    },
    {
     "name": "stdout",
     "output_type": "stream",
     "text": [
      "Batch size: 5, Epochs: 5, Optimizer: Adam, Dropout rate: 0.000000, Neurons 1: 8, Neurons 2: 30\n",
      "Score: 0.002562, Accuracy: 0.000000\n"
     ]
    },
    {
     "name": "stderr",
     "output_type": "stream",
     "text": [
      "/home/kvsingh/anaconda2/envs/carnd-term1/lib/python2.7/site-packages/ipykernel_launcher.py:3: UserWarning: The `input_dim` and `input_length` arguments in recurrent layers are deprecated. Use `input_shape` instead.\n",
      "  This is separate from the ipykernel package so we can avoid doing imports until\n",
      "/home/kvsingh/anaconda2/envs/carnd-term1/lib/python2.7/site-packages/ipykernel_launcher.py:3: UserWarning: Update your `LSTM` call to the Keras 2 API: `LSTM(units=8, return_sequences=False, input_shape=(None, 1))`\n",
      "  This is separate from the ipykernel package so we can avoid doing imports until\n"
     ]
    },
    {
     "name": "stdout",
     "output_type": "stream",
     "text": [
      "Batch size: 5, Epochs: 5, Optimizer: Adam, Dropout rate: 0.000000, Neurons 1: 8, Neurons 2: 64\n",
      "Score: 0.002579, Accuracy: 0.000000\n"
     ]
    },
    {
     "name": "stderr",
     "output_type": "stream",
     "text": [
      "/home/kvsingh/anaconda2/envs/carnd-term1/lib/python2.7/site-packages/ipykernel_launcher.py:3: UserWarning: The `input_dim` and `input_length` arguments in recurrent layers are deprecated. Use `input_shape` instead.\n",
      "  This is separate from the ipykernel package so we can avoid doing imports until\n",
      "/home/kvsingh/anaconda2/envs/carnd-term1/lib/python2.7/site-packages/ipykernel_launcher.py:3: UserWarning: Update your `LSTM` call to the Keras 2 API: `LSTM(units=8, return_sequences=False, input_shape=(None, 1))`\n",
      "  This is separate from the ipykernel package so we can avoid doing imports until\n"
     ]
    },
    {
     "name": "stdout",
     "output_type": "stream",
     "text": [
      "Batch size: 5, Epochs: 5, Optimizer: Adam, Dropout rate: 0.000000, Neurons 1: 8, Neurons 2: 128\n",
      "Score: 0.002482, Accuracy: 0.000000\n"
     ]
    },
    {
     "name": "stderr",
     "output_type": "stream",
     "text": [
      "/home/kvsingh/anaconda2/envs/carnd-term1/lib/python2.7/site-packages/ipykernel_launcher.py:3: UserWarning: The `input_dim` and `input_length` arguments in recurrent layers are deprecated. Use `input_shape` instead.\n",
      "  This is separate from the ipykernel package so we can avoid doing imports until\n",
      "/home/kvsingh/anaconda2/envs/carnd-term1/lib/python2.7/site-packages/ipykernel_launcher.py:3: UserWarning: Update your `LSTM` call to the Keras 2 API: `LSTM(units=10, return_sequences=False, input_shape=(None, 1))`\n",
      "  This is separate from the ipykernel package so we can avoid doing imports until\n"
     ]
    },
    {
     "name": "stdout",
     "output_type": "stream",
     "text": [
      "Batch size: 5, Epochs: 5, Optimizer: Adam, Dropout rate: 0.000000, Neurons 1: 10, Neurons 2: 1\n",
      "Score: 0.002632, Accuracy: 0.000000\n"
     ]
    },
    {
     "name": "stderr",
     "output_type": "stream",
     "text": [
      "/home/kvsingh/anaconda2/envs/carnd-term1/lib/python2.7/site-packages/ipykernel_launcher.py:3: UserWarning: The `input_dim` and `input_length` arguments in recurrent layers are deprecated. Use `input_shape` instead.\n",
      "  This is separate from the ipykernel package so we can avoid doing imports until\n",
      "/home/kvsingh/anaconda2/envs/carnd-term1/lib/python2.7/site-packages/ipykernel_launcher.py:3: UserWarning: Update your `LSTM` call to the Keras 2 API: `LSTM(units=10, return_sequences=False, input_shape=(None, 1))`\n",
      "  This is separate from the ipykernel package so we can avoid doing imports until\n"
     ]
    },
    {
     "name": "stdout",
     "output_type": "stream",
     "text": [
      "Batch size: 5, Epochs: 5, Optimizer: Adam, Dropout rate: 0.000000, Neurons 1: 10, Neurons 2: 4\n",
      "Score: 0.002602, Accuracy: 0.000000\n"
     ]
    },
    {
     "name": "stderr",
     "output_type": "stream",
     "text": [
      "/home/kvsingh/anaconda2/envs/carnd-term1/lib/python2.7/site-packages/ipykernel_launcher.py:3: UserWarning: The `input_dim` and `input_length` arguments in recurrent layers are deprecated. Use `input_shape` instead.\n",
      "  This is separate from the ipykernel package so we can avoid doing imports until\n",
      "/home/kvsingh/anaconda2/envs/carnd-term1/lib/python2.7/site-packages/ipykernel_launcher.py:3: UserWarning: Update your `LSTM` call to the Keras 2 API: `LSTM(units=10, return_sequences=False, input_shape=(None, 1))`\n",
      "  This is separate from the ipykernel package so we can avoid doing imports until\n"
     ]
    },
    {
     "name": "stdout",
     "output_type": "stream",
     "text": [
      "Batch size: 5, Epochs: 5, Optimizer: Adam, Dropout rate: 0.000000, Neurons 1: 10, Neurons 2: 5\n",
      "Score: 0.002509, Accuracy: 0.000000\n"
     ]
    },
    {
     "name": "stderr",
     "output_type": "stream",
     "text": [
      "/home/kvsingh/anaconda2/envs/carnd-term1/lib/python2.7/site-packages/ipykernel_launcher.py:3: UserWarning: The `input_dim` and `input_length` arguments in recurrent layers are deprecated. Use `input_shape` instead.\n",
      "  This is separate from the ipykernel package so we can avoid doing imports until\n",
      "/home/kvsingh/anaconda2/envs/carnd-term1/lib/python2.7/site-packages/ipykernel_launcher.py:3: UserWarning: Update your `LSTM` call to the Keras 2 API: `LSTM(units=10, return_sequences=False, input_shape=(None, 1))`\n",
      "  This is separate from the ipykernel package so we can avoid doing imports until\n"
     ]
    },
    {
     "name": "stdout",
     "output_type": "stream",
     "text": [
      "Batch size: 5, Epochs: 5, Optimizer: Adam, Dropout rate: 0.000000, Neurons 1: 10, Neurons 2: 7\n",
      "Score: 0.002487, Accuracy: 0.000000\n"
     ]
    },
    {
     "name": "stderr",
     "output_type": "stream",
     "text": [
      "/home/kvsingh/anaconda2/envs/carnd-term1/lib/python2.7/site-packages/ipykernel_launcher.py:3: UserWarning: The `input_dim` and `input_length` arguments in recurrent layers are deprecated. Use `input_shape` instead.\n",
      "  This is separate from the ipykernel package so we can avoid doing imports until\n",
      "/home/kvsingh/anaconda2/envs/carnd-term1/lib/python2.7/site-packages/ipykernel_launcher.py:3: UserWarning: Update your `LSTM` call to the Keras 2 API: `LSTM(units=10, return_sequences=False, input_shape=(None, 1))`\n",
      "  This is separate from the ipykernel package so we can avoid doing imports until\n"
     ]
    },
    {
     "name": "stdout",
     "output_type": "stream",
     "text": [
      "Batch size: 5, Epochs: 5, Optimizer: Adam, Dropout rate: 0.000000, Neurons 1: 10, Neurons 2: 8\n",
      "Score: 0.002517, Accuracy: 0.000000\n"
     ]
    },
    {
     "name": "stderr",
     "output_type": "stream",
     "text": [
      "/home/kvsingh/anaconda2/envs/carnd-term1/lib/python2.7/site-packages/ipykernel_launcher.py:3: UserWarning: The `input_dim` and `input_length` arguments in recurrent layers are deprecated. Use `input_shape` instead.\n",
      "  This is separate from the ipykernel package so we can avoid doing imports until\n",
      "/home/kvsingh/anaconda2/envs/carnd-term1/lib/python2.7/site-packages/ipykernel_launcher.py:3: UserWarning: Update your `LSTM` call to the Keras 2 API: `LSTM(units=10, return_sequences=False, input_shape=(None, 1))`\n",
      "  This is separate from the ipykernel package so we can avoid doing imports until\n"
     ]
    },
    {
     "name": "stdout",
     "output_type": "stream",
     "text": [
      "Batch size: 5, Epochs: 5, Optimizer: Adam, Dropout rate: 0.000000, Neurons 1: 10, Neurons 2: 10\n",
      "Score: 0.002449, Accuracy: 0.000000\n"
     ]
    },
    {
     "name": "stderr",
     "output_type": "stream",
     "text": [
      "/home/kvsingh/anaconda2/envs/carnd-term1/lib/python2.7/site-packages/ipykernel_launcher.py:3: UserWarning: The `input_dim` and `input_length` arguments in recurrent layers are deprecated. Use `input_shape` instead.\n",
      "  This is separate from the ipykernel package so we can avoid doing imports until\n",
      "/home/kvsingh/anaconda2/envs/carnd-term1/lib/python2.7/site-packages/ipykernel_launcher.py:3: UserWarning: Update your `LSTM` call to the Keras 2 API: `LSTM(units=10, return_sequences=False, input_shape=(None, 1))`\n",
      "  This is separate from the ipykernel package so we can avoid doing imports until\n"
     ]
    },
    {
     "name": "stdout",
     "output_type": "stream",
     "text": [
      "Batch size: 5, Epochs: 5, Optimizer: Adam, Dropout rate: 0.000000, Neurons 1: 10, Neurons 2: 15\n",
      "Score: 0.002466, Accuracy: 0.000000\n"
     ]
    },
    {
     "name": "stderr",
     "output_type": "stream",
     "text": [
      "/home/kvsingh/anaconda2/envs/carnd-term1/lib/python2.7/site-packages/ipykernel_launcher.py:3: UserWarning: The `input_dim` and `input_length` arguments in recurrent layers are deprecated. Use `input_shape` instead.\n",
      "  This is separate from the ipykernel package so we can avoid doing imports until\n",
      "/home/kvsingh/anaconda2/envs/carnd-term1/lib/python2.7/site-packages/ipykernel_launcher.py:3: UserWarning: Update your `LSTM` call to the Keras 2 API: `LSTM(units=10, return_sequences=False, input_shape=(None, 1))`\n",
      "  This is separate from the ipykernel package so we can avoid doing imports until\n"
     ]
    },
    {
     "name": "stdout",
     "output_type": "stream",
     "text": [
      "Batch size: 5, Epochs: 5, Optimizer: Adam, Dropout rate: 0.000000, Neurons 1: 10, Neurons 2: 20\n",
      "Score: 0.002518, Accuracy: 0.000000\n"
     ]
    },
    {
     "name": "stderr",
     "output_type": "stream",
     "text": [
      "/home/kvsingh/anaconda2/envs/carnd-term1/lib/python2.7/site-packages/ipykernel_launcher.py:3: UserWarning: The `input_dim` and `input_length` arguments in recurrent layers are deprecated. Use `input_shape` instead.\n",
      "  This is separate from the ipykernel package so we can avoid doing imports until\n",
      "/home/kvsingh/anaconda2/envs/carnd-term1/lib/python2.7/site-packages/ipykernel_launcher.py:3: UserWarning: Update your `LSTM` call to the Keras 2 API: `LSTM(units=10, return_sequences=False, input_shape=(None, 1))`\n",
      "  This is separate from the ipykernel package so we can avoid doing imports until\n"
     ]
    },
    {
     "name": "stdout",
     "output_type": "stream",
     "text": [
      "Batch size: 5, Epochs: 5, Optimizer: Adam, Dropout rate: 0.000000, Neurons 1: 10, Neurons 2: 25\n",
      "Score: 0.002538, Accuracy: 0.000000\n"
     ]
    },
    {
     "name": "stderr",
     "output_type": "stream",
     "text": [
      "/home/kvsingh/anaconda2/envs/carnd-term1/lib/python2.7/site-packages/ipykernel_launcher.py:3: UserWarning: The `input_dim` and `input_length` arguments in recurrent layers are deprecated. Use `input_shape` instead.\n",
      "  This is separate from the ipykernel package so we can avoid doing imports until\n",
      "/home/kvsingh/anaconda2/envs/carnd-term1/lib/python2.7/site-packages/ipykernel_launcher.py:3: UserWarning: Update your `LSTM` call to the Keras 2 API: `LSTM(units=10, return_sequences=False, input_shape=(None, 1))`\n",
      "  This is separate from the ipykernel package so we can avoid doing imports until\n"
     ]
    },
    {
     "name": "stdout",
     "output_type": "stream",
     "text": [
      "Batch size: 5, Epochs: 5, Optimizer: Adam, Dropout rate: 0.000000, Neurons 1: 10, Neurons 2: 30\n",
      "Score: 0.002540, Accuracy: 0.000000\n"
     ]
    },
    {
     "name": "stderr",
     "output_type": "stream",
     "text": [
      "/home/kvsingh/anaconda2/envs/carnd-term1/lib/python2.7/site-packages/ipykernel_launcher.py:3: UserWarning: The `input_dim` and `input_length` arguments in recurrent layers are deprecated. Use `input_shape` instead.\n",
      "  This is separate from the ipykernel package so we can avoid doing imports until\n",
      "/home/kvsingh/anaconda2/envs/carnd-term1/lib/python2.7/site-packages/ipykernel_launcher.py:3: UserWarning: Update your `LSTM` call to the Keras 2 API: `LSTM(units=10, return_sequences=False, input_shape=(None, 1))`\n",
      "  This is separate from the ipykernel package so we can avoid doing imports until\n"
     ]
    },
    {
     "name": "stdout",
     "output_type": "stream",
     "text": [
      "Batch size: 5, Epochs: 5, Optimizer: Adam, Dropout rate: 0.000000, Neurons 1: 10, Neurons 2: 64\n",
      "Score: 0.002529, Accuracy: 0.000000\n"
     ]
    },
    {
     "name": "stderr",
     "output_type": "stream",
     "text": [
      "/home/kvsingh/anaconda2/envs/carnd-term1/lib/python2.7/site-packages/ipykernel_launcher.py:3: UserWarning: The `input_dim` and `input_length` arguments in recurrent layers are deprecated. Use `input_shape` instead.\n",
      "  This is separate from the ipykernel package so we can avoid doing imports until\n",
      "/home/kvsingh/anaconda2/envs/carnd-term1/lib/python2.7/site-packages/ipykernel_launcher.py:3: UserWarning: Update your `LSTM` call to the Keras 2 API: `LSTM(units=10, return_sequences=False, input_shape=(None, 1))`\n",
      "  This is separate from the ipykernel package so we can avoid doing imports until\n"
     ]
    },
    {
     "name": "stdout",
     "output_type": "stream",
     "text": [
      "Batch size: 5, Epochs: 5, Optimizer: Adam, Dropout rate: 0.000000, Neurons 1: 10, Neurons 2: 128\n",
      "Score: 0.002601, Accuracy: 0.000000\n"
     ]
    },
    {
     "name": "stderr",
     "output_type": "stream",
     "text": [
      "/home/kvsingh/anaconda2/envs/carnd-term1/lib/python2.7/site-packages/ipykernel_launcher.py:3: UserWarning: The `input_dim` and `input_length` arguments in recurrent layers are deprecated. Use `input_shape` instead.\n",
      "  This is separate from the ipykernel package so we can avoid doing imports until\n",
      "/home/kvsingh/anaconda2/envs/carnd-term1/lib/python2.7/site-packages/ipykernel_launcher.py:3: UserWarning: Update your `LSTM` call to the Keras 2 API: `LSTM(units=15, return_sequences=False, input_shape=(None, 1))`\n",
      "  This is separate from the ipykernel package so we can avoid doing imports until\n"
     ]
    },
    {
     "name": "stdout",
     "output_type": "stream",
     "text": [
      "Batch size: 5, Epochs: 5, Optimizer: Adam, Dropout rate: 0.000000, Neurons 1: 15, Neurons 2: 1\n",
      "Score: 0.002549, Accuracy: 0.000000\n"
     ]
    },
    {
     "name": "stderr",
     "output_type": "stream",
     "text": [
      "/home/kvsingh/anaconda2/envs/carnd-term1/lib/python2.7/site-packages/ipykernel_launcher.py:3: UserWarning: The `input_dim` and `input_length` arguments in recurrent layers are deprecated. Use `input_shape` instead.\n",
      "  This is separate from the ipykernel package so we can avoid doing imports until\n",
      "/home/kvsingh/anaconda2/envs/carnd-term1/lib/python2.7/site-packages/ipykernel_launcher.py:3: UserWarning: Update your `LSTM` call to the Keras 2 API: `LSTM(units=15, return_sequences=False, input_shape=(None, 1))`\n",
      "  This is separate from the ipykernel package so we can avoid doing imports until\n"
     ]
    },
    {
     "name": "stdout",
     "output_type": "stream",
     "text": [
      "Batch size: 5, Epochs: 5, Optimizer: Adam, Dropout rate: 0.000000, Neurons 1: 15, Neurons 2: 4\n",
      "Score: 0.002550, Accuracy: 0.000000\n"
     ]
    },
    {
     "name": "stderr",
     "output_type": "stream",
     "text": [
      "/home/kvsingh/anaconda2/envs/carnd-term1/lib/python2.7/site-packages/ipykernel_launcher.py:3: UserWarning: The `input_dim` and `input_length` arguments in recurrent layers are deprecated. Use `input_shape` instead.\n",
      "  This is separate from the ipykernel package so we can avoid doing imports until\n",
      "/home/kvsingh/anaconda2/envs/carnd-term1/lib/python2.7/site-packages/ipykernel_launcher.py:3: UserWarning: Update your `LSTM` call to the Keras 2 API: `LSTM(units=15, return_sequences=False, input_shape=(None, 1))`\n",
      "  This is separate from the ipykernel package so we can avoid doing imports until\n"
     ]
    },
    {
     "name": "stdout",
     "output_type": "stream",
     "text": [
      "Batch size: 5, Epochs: 5, Optimizer: Adam, Dropout rate: 0.000000, Neurons 1: 15, Neurons 2: 5\n",
      "Score: 0.002553, Accuracy: 0.000000\n"
     ]
    },
    {
     "name": "stderr",
     "output_type": "stream",
     "text": [
      "/home/kvsingh/anaconda2/envs/carnd-term1/lib/python2.7/site-packages/ipykernel_launcher.py:3: UserWarning: The `input_dim` and `input_length` arguments in recurrent layers are deprecated. Use `input_shape` instead.\n",
      "  This is separate from the ipykernel package so we can avoid doing imports until\n",
      "/home/kvsingh/anaconda2/envs/carnd-term1/lib/python2.7/site-packages/ipykernel_launcher.py:3: UserWarning: Update your `LSTM` call to the Keras 2 API: `LSTM(units=15, return_sequences=False, input_shape=(None, 1))`\n",
      "  This is separate from the ipykernel package so we can avoid doing imports until\n"
     ]
    },
    {
     "name": "stdout",
     "output_type": "stream",
     "text": [
      "Batch size: 5, Epochs: 5, Optimizer: Adam, Dropout rate: 0.000000, Neurons 1: 15, Neurons 2: 7\n",
      "Score: 0.002534, Accuracy: 0.000000\n"
     ]
    },
    {
     "name": "stderr",
     "output_type": "stream",
     "text": [
      "/home/kvsingh/anaconda2/envs/carnd-term1/lib/python2.7/site-packages/ipykernel_launcher.py:3: UserWarning: The `input_dim` and `input_length` arguments in recurrent layers are deprecated. Use `input_shape` instead.\n",
      "  This is separate from the ipykernel package so we can avoid doing imports until\n",
      "/home/kvsingh/anaconda2/envs/carnd-term1/lib/python2.7/site-packages/ipykernel_launcher.py:3: UserWarning: Update your `LSTM` call to the Keras 2 API: `LSTM(units=15, return_sequences=False, input_shape=(None, 1))`\n",
      "  This is separate from the ipykernel package so we can avoid doing imports until\n"
     ]
    },
    {
     "name": "stdout",
     "output_type": "stream",
     "text": [
      "Batch size: 5, Epochs: 5, Optimizer: Adam, Dropout rate: 0.000000, Neurons 1: 15, Neurons 2: 8\n",
      "Score: 0.002538, Accuracy: 0.000000\n"
     ]
    },
    {
     "name": "stderr",
     "output_type": "stream",
     "text": [
      "/home/kvsingh/anaconda2/envs/carnd-term1/lib/python2.7/site-packages/ipykernel_launcher.py:3: UserWarning: The `input_dim` and `input_length` arguments in recurrent layers are deprecated. Use `input_shape` instead.\n",
      "  This is separate from the ipykernel package so we can avoid doing imports until\n",
      "/home/kvsingh/anaconda2/envs/carnd-term1/lib/python2.7/site-packages/ipykernel_launcher.py:3: UserWarning: Update your `LSTM` call to the Keras 2 API: `LSTM(units=15, return_sequences=False, input_shape=(None, 1))`\n",
      "  This is separate from the ipykernel package so we can avoid doing imports until\n"
     ]
    },
    {
     "name": "stdout",
     "output_type": "stream",
     "text": [
      "Batch size: 5, Epochs: 5, Optimizer: Adam, Dropout rate: 0.000000, Neurons 1: 15, Neurons 2: 10\n",
      "Score: 0.002649, Accuracy: 0.000000\n"
     ]
    },
    {
     "name": "stderr",
     "output_type": "stream",
     "text": [
      "/home/kvsingh/anaconda2/envs/carnd-term1/lib/python2.7/site-packages/ipykernel_launcher.py:3: UserWarning: The `input_dim` and `input_length` arguments in recurrent layers are deprecated. Use `input_shape` instead.\n",
      "  This is separate from the ipykernel package so we can avoid doing imports until\n",
      "/home/kvsingh/anaconda2/envs/carnd-term1/lib/python2.7/site-packages/ipykernel_launcher.py:3: UserWarning: Update your `LSTM` call to the Keras 2 API: `LSTM(units=15, return_sequences=False, input_shape=(None, 1))`\n",
      "  This is separate from the ipykernel package so we can avoid doing imports until\n"
     ]
    },
    {
     "name": "stdout",
     "output_type": "stream",
     "text": [
      "Batch size: 5, Epochs: 5, Optimizer: Adam, Dropout rate: 0.000000, Neurons 1: 15, Neurons 2: 15\n",
      "Score: 0.002432, Accuracy: 0.000000\n"
     ]
    },
    {
     "name": "stderr",
     "output_type": "stream",
     "text": [
      "/home/kvsingh/anaconda2/envs/carnd-term1/lib/python2.7/site-packages/ipykernel_launcher.py:3: UserWarning: The `input_dim` and `input_length` arguments in recurrent layers are deprecated. Use `input_shape` instead.\n",
      "  This is separate from the ipykernel package so we can avoid doing imports until\n",
      "/home/kvsingh/anaconda2/envs/carnd-term1/lib/python2.7/site-packages/ipykernel_launcher.py:3: UserWarning: Update your `LSTM` call to the Keras 2 API: `LSTM(units=15, return_sequences=False, input_shape=(None, 1))`\n",
      "  This is separate from the ipykernel package so we can avoid doing imports until\n"
     ]
    },
    {
     "name": "stdout",
     "output_type": "stream",
     "text": [
      "Batch size: 5, Epochs: 5, Optimizer: Adam, Dropout rate: 0.000000, Neurons 1: 15, Neurons 2: 20\n",
      "Score: 0.002489, Accuracy: 0.000000\n"
     ]
    },
    {
     "name": "stderr",
     "output_type": "stream",
     "text": [
      "/home/kvsingh/anaconda2/envs/carnd-term1/lib/python2.7/site-packages/ipykernel_launcher.py:3: UserWarning: The `input_dim` and `input_length` arguments in recurrent layers are deprecated. Use `input_shape` instead.\n",
      "  This is separate from the ipykernel package so we can avoid doing imports until\n",
      "/home/kvsingh/anaconda2/envs/carnd-term1/lib/python2.7/site-packages/ipykernel_launcher.py:3: UserWarning: Update your `LSTM` call to the Keras 2 API: `LSTM(units=15, return_sequences=False, input_shape=(None, 1))`\n",
      "  This is separate from the ipykernel package so we can avoid doing imports until\n"
     ]
    },
    {
     "name": "stdout",
     "output_type": "stream",
     "text": [
      "Batch size: 5, Epochs: 5, Optimizer: Adam, Dropout rate: 0.000000, Neurons 1: 15, Neurons 2: 25\n",
      "Score: 0.002604, Accuracy: 0.000000\n"
     ]
    },
    {
     "name": "stderr",
     "output_type": "stream",
     "text": [
      "/home/kvsingh/anaconda2/envs/carnd-term1/lib/python2.7/site-packages/ipykernel_launcher.py:3: UserWarning: The `input_dim` and `input_length` arguments in recurrent layers are deprecated. Use `input_shape` instead.\n",
      "  This is separate from the ipykernel package so we can avoid doing imports until\n",
      "/home/kvsingh/anaconda2/envs/carnd-term1/lib/python2.7/site-packages/ipykernel_launcher.py:3: UserWarning: Update your `LSTM` call to the Keras 2 API: `LSTM(units=15, return_sequences=False, input_shape=(None, 1))`\n",
      "  This is separate from the ipykernel package so we can avoid doing imports until\n"
     ]
    },
    {
     "name": "stdout",
     "output_type": "stream",
     "text": [
      "Batch size: 5, Epochs: 5, Optimizer: Adam, Dropout rate: 0.000000, Neurons 1: 15, Neurons 2: 30\n",
      "Score: 0.002439, Accuracy: 0.000000\n"
     ]
    },
    {
     "name": "stderr",
     "output_type": "stream",
     "text": [
      "/home/kvsingh/anaconda2/envs/carnd-term1/lib/python2.7/site-packages/ipykernel_launcher.py:3: UserWarning: The `input_dim` and `input_length` arguments in recurrent layers are deprecated. Use `input_shape` instead.\n",
      "  This is separate from the ipykernel package so we can avoid doing imports until\n",
      "/home/kvsingh/anaconda2/envs/carnd-term1/lib/python2.7/site-packages/ipykernel_launcher.py:3: UserWarning: Update your `LSTM` call to the Keras 2 API: `LSTM(units=15, return_sequences=False, input_shape=(None, 1))`\n",
      "  This is separate from the ipykernel package so we can avoid doing imports until\n"
     ]
    },
    {
     "name": "stdout",
     "output_type": "stream",
     "text": [
      "Batch size: 5, Epochs: 5, Optimizer: Adam, Dropout rate: 0.000000, Neurons 1: 15, Neurons 2: 64\n",
      "Score: 0.002469, Accuracy: 0.000000\n"
     ]
    },
    {
     "name": "stderr",
     "output_type": "stream",
     "text": [
      "/home/kvsingh/anaconda2/envs/carnd-term1/lib/python2.7/site-packages/ipykernel_launcher.py:3: UserWarning: The `input_dim` and `input_length` arguments in recurrent layers are deprecated. Use `input_shape` instead.\n",
      "  This is separate from the ipykernel package so we can avoid doing imports until\n",
      "/home/kvsingh/anaconda2/envs/carnd-term1/lib/python2.7/site-packages/ipykernel_launcher.py:3: UserWarning: Update your `LSTM` call to the Keras 2 API: `LSTM(units=15, return_sequences=False, input_shape=(None, 1))`\n",
      "  This is separate from the ipykernel package so we can avoid doing imports until\n"
     ]
    },
    {
     "name": "stdout",
     "output_type": "stream",
     "text": [
      "Batch size: 5, Epochs: 5, Optimizer: Adam, Dropout rate: 0.000000, Neurons 1: 15, Neurons 2: 128\n",
      "Score: 0.002543, Accuracy: 0.000000\n"
     ]
    },
    {
     "name": "stderr",
     "output_type": "stream",
     "text": [
      "/home/kvsingh/anaconda2/envs/carnd-term1/lib/python2.7/site-packages/ipykernel_launcher.py:3: UserWarning: The `input_dim` and `input_length` arguments in recurrent layers are deprecated. Use `input_shape` instead.\n",
      "  This is separate from the ipykernel package so we can avoid doing imports until\n",
      "/home/kvsingh/anaconda2/envs/carnd-term1/lib/python2.7/site-packages/ipykernel_launcher.py:3: UserWarning: Update your `LSTM` call to the Keras 2 API: `LSTM(units=20, return_sequences=False, input_shape=(None, 1))`\n",
      "  This is separate from the ipykernel package so we can avoid doing imports until\n"
     ]
    },
    {
     "name": "stdout",
     "output_type": "stream",
     "text": [
      "Batch size: 5, Epochs: 5, Optimizer: Adam, Dropout rate: 0.000000, Neurons 1: 20, Neurons 2: 1\n",
      "Score: 0.002728, Accuracy: 0.000000\n"
     ]
    },
    {
     "name": "stderr",
     "output_type": "stream",
     "text": [
      "/home/kvsingh/anaconda2/envs/carnd-term1/lib/python2.7/site-packages/ipykernel_launcher.py:3: UserWarning: The `input_dim` and `input_length` arguments in recurrent layers are deprecated. Use `input_shape` instead.\n",
      "  This is separate from the ipykernel package so we can avoid doing imports until\n",
      "/home/kvsingh/anaconda2/envs/carnd-term1/lib/python2.7/site-packages/ipykernel_launcher.py:3: UserWarning: Update your `LSTM` call to the Keras 2 API: `LSTM(units=20, return_sequences=False, input_shape=(None, 1))`\n",
      "  This is separate from the ipykernel package so we can avoid doing imports until\n"
     ]
    },
    {
     "name": "stdout",
     "output_type": "stream",
     "text": [
      "Batch size: 5, Epochs: 5, Optimizer: Adam, Dropout rate: 0.000000, Neurons 1: 20, Neurons 2: 4\n",
      "Score: 0.002491, Accuracy: 0.000000\n"
     ]
    },
    {
     "name": "stderr",
     "output_type": "stream",
     "text": [
      "/home/kvsingh/anaconda2/envs/carnd-term1/lib/python2.7/site-packages/ipykernel_launcher.py:3: UserWarning: The `input_dim` and `input_length` arguments in recurrent layers are deprecated. Use `input_shape` instead.\n",
      "  This is separate from the ipykernel package so we can avoid doing imports until\n",
      "/home/kvsingh/anaconda2/envs/carnd-term1/lib/python2.7/site-packages/ipykernel_launcher.py:3: UserWarning: Update your `LSTM` call to the Keras 2 API: `LSTM(units=20, return_sequences=False, input_shape=(None, 1))`\n",
      "  This is separate from the ipykernel package so we can avoid doing imports until\n"
     ]
    },
    {
     "name": "stdout",
     "output_type": "stream",
     "text": [
      "Batch size: 5, Epochs: 5, Optimizer: Adam, Dropout rate: 0.000000, Neurons 1: 20, Neurons 2: 5\n",
      "Score: 0.002499, Accuracy: 0.000000\n"
     ]
    },
    {
     "name": "stderr",
     "output_type": "stream",
     "text": [
      "/home/kvsingh/anaconda2/envs/carnd-term1/lib/python2.7/site-packages/ipykernel_launcher.py:3: UserWarning: The `input_dim` and `input_length` arguments in recurrent layers are deprecated. Use `input_shape` instead.\n",
      "  This is separate from the ipykernel package so we can avoid doing imports until\n",
      "/home/kvsingh/anaconda2/envs/carnd-term1/lib/python2.7/site-packages/ipykernel_launcher.py:3: UserWarning: Update your `LSTM` call to the Keras 2 API: `LSTM(units=20, return_sequences=False, input_shape=(None, 1))`\n",
      "  This is separate from the ipykernel package so we can avoid doing imports until\n"
     ]
    },
    {
     "name": "stdout",
     "output_type": "stream",
     "text": [
      "Batch size: 5, Epochs: 5, Optimizer: Adam, Dropout rate: 0.000000, Neurons 1: 20, Neurons 2: 7\n",
      "Score: 0.002469, Accuracy: 0.000000\n"
     ]
    },
    {
     "name": "stderr",
     "output_type": "stream",
     "text": [
      "/home/kvsingh/anaconda2/envs/carnd-term1/lib/python2.7/site-packages/ipykernel_launcher.py:3: UserWarning: The `input_dim` and `input_length` arguments in recurrent layers are deprecated. Use `input_shape` instead.\n",
      "  This is separate from the ipykernel package so we can avoid doing imports until\n",
      "/home/kvsingh/anaconda2/envs/carnd-term1/lib/python2.7/site-packages/ipykernel_launcher.py:3: UserWarning: Update your `LSTM` call to the Keras 2 API: `LSTM(units=20, return_sequences=False, input_shape=(None, 1))`\n",
      "  This is separate from the ipykernel package so we can avoid doing imports until\n"
     ]
    },
    {
     "name": "stdout",
     "output_type": "stream",
     "text": [
      "Batch size: 5, Epochs: 5, Optimizer: Adam, Dropout rate: 0.000000, Neurons 1: 20, Neurons 2: 8\n",
      "Score: 0.002934, Accuracy: 0.000000\n"
     ]
    },
    {
     "name": "stderr",
     "output_type": "stream",
     "text": [
      "/home/kvsingh/anaconda2/envs/carnd-term1/lib/python2.7/site-packages/ipykernel_launcher.py:3: UserWarning: The `input_dim` and `input_length` arguments in recurrent layers are deprecated. Use `input_shape` instead.\n",
      "  This is separate from the ipykernel package so we can avoid doing imports until\n",
      "/home/kvsingh/anaconda2/envs/carnd-term1/lib/python2.7/site-packages/ipykernel_launcher.py:3: UserWarning: Update your `LSTM` call to the Keras 2 API: `LSTM(units=20, return_sequences=False, input_shape=(None, 1))`\n",
      "  This is separate from the ipykernel package so we can avoid doing imports until\n"
     ]
    },
    {
     "name": "stdout",
     "output_type": "stream",
     "text": [
      "Batch size: 5, Epochs: 5, Optimizer: Adam, Dropout rate: 0.000000, Neurons 1: 20, Neurons 2: 10\n",
      "Score: 0.002560, Accuracy: 0.000000\n"
     ]
    },
    {
     "name": "stderr",
     "output_type": "stream",
     "text": [
      "/home/kvsingh/anaconda2/envs/carnd-term1/lib/python2.7/site-packages/ipykernel_launcher.py:3: UserWarning: The `input_dim` and `input_length` arguments in recurrent layers are deprecated. Use `input_shape` instead.\n",
      "  This is separate from the ipykernel package so we can avoid doing imports until\n",
      "/home/kvsingh/anaconda2/envs/carnd-term1/lib/python2.7/site-packages/ipykernel_launcher.py:3: UserWarning: Update your `LSTM` call to the Keras 2 API: `LSTM(units=20, return_sequences=False, input_shape=(None, 1))`\n",
      "  This is separate from the ipykernel package so we can avoid doing imports until\n"
     ]
    },
    {
     "name": "stdout",
     "output_type": "stream",
     "text": [
      "Batch size: 5, Epochs: 5, Optimizer: Adam, Dropout rate: 0.000000, Neurons 1: 20, Neurons 2: 15\n",
      "Score: 0.002661, Accuracy: 0.000000\n"
     ]
    },
    {
     "name": "stderr",
     "output_type": "stream",
     "text": [
      "/home/kvsingh/anaconda2/envs/carnd-term1/lib/python2.7/site-packages/ipykernel_launcher.py:3: UserWarning: The `input_dim` and `input_length` arguments in recurrent layers are deprecated. Use `input_shape` instead.\n",
      "  This is separate from the ipykernel package so we can avoid doing imports until\n",
      "/home/kvsingh/anaconda2/envs/carnd-term1/lib/python2.7/site-packages/ipykernel_launcher.py:3: UserWarning: Update your `LSTM` call to the Keras 2 API: `LSTM(units=20, return_sequences=False, input_shape=(None, 1))`\n",
      "  This is separate from the ipykernel package so we can avoid doing imports until\n"
     ]
    },
    {
     "name": "stdout",
     "output_type": "stream",
     "text": [
      "Batch size: 5, Epochs: 5, Optimizer: Adam, Dropout rate: 0.000000, Neurons 1: 20, Neurons 2: 20\n",
      "Score: 0.002551, Accuracy: 0.000000\n"
     ]
    },
    {
     "name": "stderr",
     "output_type": "stream",
     "text": [
      "/home/kvsingh/anaconda2/envs/carnd-term1/lib/python2.7/site-packages/ipykernel_launcher.py:3: UserWarning: The `input_dim` and `input_length` arguments in recurrent layers are deprecated. Use `input_shape` instead.\n",
      "  This is separate from the ipykernel package so we can avoid doing imports until\n",
      "/home/kvsingh/anaconda2/envs/carnd-term1/lib/python2.7/site-packages/ipykernel_launcher.py:3: UserWarning: Update your `LSTM` call to the Keras 2 API: `LSTM(units=20, return_sequences=False, input_shape=(None, 1))`\n",
      "  This is separate from the ipykernel package so we can avoid doing imports until\n"
     ]
    },
    {
     "name": "stdout",
     "output_type": "stream",
     "text": [
      "Batch size: 5, Epochs: 5, Optimizer: Adam, Dropout rate: 0.000000, Neurons 1: 20, Neurons 2: 25\n",
      "Score: 0.002959, Accuracy: 0.000000\n"
     ]
    },
    {
     "name": "stderr",
     "output_type": "stream",
     "text": [
      "/home/kvsingh/anaconda2/envs/carnd-term1/lib/python2.7/site-packages/ipykernel_launcher.py:3: UserWarning: The `input_dim` and `input_length` arguments in recurrent layers are deprecated. Use `input_shape` instead.\n",
      "  This is separate from the ipykernel package so we can avoid doing imports until\n",
      "/home/kvsingh/anaconda2/envs/carnd-term1/lib/python2.7/site-packages/ipykernel_launcher.py:3: UserWarning: Update your `LSTM` call to the Keras 2 API: `LSTM(units=20, return_sequences=False, input_shape=(None, 1))`\n",
      "  This is separate from the ipykernel package so we can avoid doing imports until\n"
     ]
    },
    {
     "name": "stdout",
     "output_type": "stream",
     "text": [
      "Batch size: 5, Epochs: 5, Optimizer: Adam, Dropout rate: 0.000000, Neurons 1: 20, Neurons 2: 30\n",
      "Score: 0.002541, Accuracy: 0.000000\n"
     ]
    },
    {
     "name": "stderr",
     "output_type": "stream",
     "text": [
      "/home/kvsingh/anaconda2/envs/carnd-term1/lib/python2.7/site-packages/ipykernel_launcher.py:3: UserWarning: The `input_dim` and `input_length` arguments in recurrent layers are deprecated. Use `input_shape` instead.\n",
      "  This is separate from the ipykernel package so we can avoid doing imports until\n",
      "/home/kvsingh/anaconda2/envs/carnd-term1/lib/python2.7/site-packages/ipykernel_launcher.py:3: UserWarning: Update your `LSTM` call to the Keras 2 API: `LSTM(units=20, return_sequences=False, input_shape=(None, 1))`\n",
      "  This is separate from the ipykernel package so we can avoid doing imports until\n"
     ]
    },
    {
     "name": "stdout",
     "output_type": "stream",
     "text": [
      "Batch size: 5, Epochs: 5, Optimizer: Adam, Dropout rate: 0.000000, Neurons 1: 20, Neurons 2: 64\n",
      "Score: 0.002446, Accuracy: 0.000000\n"
     ]
    },
    {
     "name": "stderr",
     "output_type": "stream",
     "text": [
      "/home/kvsingh/anaconda2/envs/carnd-term1/lib/python2.7/site-packages/ipykernel_launcher.py:3: UserWarning: The `input_dim` and `input_length` arguments in recurrent layers are deprecated. Use `input_shape` instead.\n",
      "  This is separate from the ipykernel package so we can avoid doing imports until\n",
      "/home/kvsingh/anaconda2/envs/carnd-term1/lib/python2.7/site-packages/ipykernel_launcher.py:3: UserWarning: Update your `LSTM` call to the Keras 2 API: `LSTM(units=20, return_sequences=False, input_shape=(None, 1))`\n",
      "  This is separate from the ipykernel package so we can avoid doing imports until\n"
     ]
    },
    {
     "name": "stdout",
     "output_type": "stream",
     "text": [
      "Batch size: 5, Epochs: 5, Optimizer: Adam, Dropout rate: 0.000000, Neurons 1: 20, Neurons 2: 128\n",
      "Score: 0.002695, Accuracy: 0.000000\n"
     ]
    },
    {
     "name": "stderr",
     "output_type": "stream",
     "text": [
      "/home/kvsingh/anaconda2/envs/carnd-term1/lib/python2.7/site-packages/ipykernel_launcher.py:3: UserWarning: The `input_dim` and `input_length` arguments in recurrent layers are deprecated. Use `input_shape` instead.\n",
      "  This is separate from the ipykernel package so we can avoid doing imports until\n",
      "/home/kvsingh/anaconda2/envs/carnd-term1/lib/python2.7/site-packages/ipykernel_launcher.py:3: UserWarning: Update your `LSTM` call to the Keras 2 API: `LSTM(units=25, return_sequences=False, input_shape=(None, 1))`\n",
      "  This is separate from the ipykernel package so we can avoid doing imports until\n"
     ]
    },
    {
     "name": "stdout",
     "output_type": "stream",
     "text": [
      "Batch size: 5, Epochs: 5, Optimizer: Adam, Dropout rate: 0.000000, Neurons 1: 25, Neurons 2: 1\n",
      "Score: 0.002511, Accuracy: 0.000000\n"
     ]
    },
    {
     "name": "stderr",
     "output_type": "stream",
     "text": [
      "/home/kvsingh/anaconda2/envs/carnd-term1/lib/python2.7/site-packages/ipykernel_launcher.py:3: UserWarning: The `input_dim` and `input_length` arguments in recurrent layers are deprecated. Use `input_shape` instead.\n",
      "  This is separate from the ipykernel package so we can avoid doing imports until\n",
      "/home/kvsingh/anaconda2/envs/carnd-term1/lib/python2.7/site-packages/ipykernel_launcher.py:3: UserWarning: Update your `LSTM` call to the Keras 2 API: `LSTM(units=25, return_sequences=False, input_shape=(None, 1))`\n",
      "  This is separate from the ipykernel package so we can avoid doing imports until\n"
     ]
    },
    {
     "name": "stdout",
     "output_type": "stream",
     "text": [
      "Batch size: 5, Epochs: 5, Optimizer: Adam, Dropout rate: 0.000000, Neurons 1: 25, Neurons 2: 4\n",
      "Score: 0.002466, Accuracy: 0.000000\n"
     ]
    },
    {
     "name": "stderr",
     "output_type": "stream",
     "text": [
      "/home/kvsingh/anaconda2/envs/carnd-term1/lib/python2.7/site-packages/ipykernel_launcher.py:3: UserWarning: The `input_dim` and `input_length` arguments in recurrent layers are deprecated. Use `input_shape` instead.\n",
      "  This is separate from the ipykernel package so we can avoid doing imports until\n",
      "/home/kvsingh/anaconda2/envs/carnd-term1/lib/python2.7/site-packages/ipykernel_launcher.py:3: UserWarning: Update your `LSTM` call to the Keras 2 API: `LSTM(units=25, return_sequences=False, input_shape=(None, 1))`\n",
      "  This is separate from the ipykernel package so we can avoid doing imports until\n"
     ]
    },
    {
     "name": "stdout",
     "output_type": "stream",
     "text": [
      "Batch size: 5, Epochs: 5, Optimizer: Adam, Dropout rate: 0.000000, Neurons 1: 25, Neurons 2: 5\n",
      "Score: 0.002443, Accuracy: 0.000000\n"
     ]
    },
    {
     "name": "stderr",
     "output_type": "stream",
     "text": [
      "/home/kvsingh/anaconda2/envs/carnd-term1/lib/python2.7/site-packages/ipykernel_launcher.py:3: UserWarning: The `input_dim` and `input_length` arguments in recurrent layers are deprecated. Use `input_shape` instead.\n",
      "  This is separate from the ipykernel package so we can avoid doing imports until\n",
      "/home/kvsingh/anaconda2/envs/carnd-term1/lib/python2.7/site-packages/ipykernel_launcher.py:3: UserWarning: Update your `LSTM` call to the Keras 2 API: `LSTM(units=25, return_sequences=False, input_shape=(None, 1))`\n",
      "  This is separate from the ipykernel package so we can avoid doing imports until\n"
     ]
    },
    {
     "name": "stdout",
     "output_type": "stream",
     "text": [
      "Batch size: 5, Epochs: 5, Optimizer: Adam, Dropout rate: 0.000000, Neurons 1: 25, Neurons 2: 7\n",
      "Score: 0.002475, Accuracy: 0.000000\n"
     ]
    },
    {
     "name": "stderr",
     "output_type": "stream",
     "text": [
      "/home/kvsingh/anaconda2/envs/carnd-term1/lib/python2.7/site-packages/ipykernel_launcher.py:3: UserWarning: The `input_dim` and `input_length` arguments in recurrent layers are deprecated. Use `input_shape` instead.\n",
      "  This is separate from the ipykernel package so we can avoid doing imports until\n",
      "/home/kvsingh/anaconda2/envs/carnd-term1/lib/python2.7/site-packages/ipykernel_launcher.py:3: UserWarning: Update your `LSTM` call to the Keras 2 API: `LSTM(units=25, return_sequences=False, input_shape=(None, 1))`\n",
      "  This is separate from the ipykernel package so we can avoid doing imports until\n"
     ]
    },
    {
     "name": "stdout",
     "output_type": "stream",
     "text": [
      "Batch size: 5, Epochs: 5, Optimizer: Adam, Dropout rate: 0.000000, Neurons 1: 25, Neurons 2: 8\n",
      "Score: 0.002495, Accuracy: 0.000000\n"
     ]
    },
    {
     "name": "stderr",
     "output_type": "stream",
     "text": [
      "/home/kvsingh/anaconda2/envs/carnd-term1/lib/python2.7/site-packages/ipykernel_launcher.py:3: UserWarning: The `input_dim` and `input_length` arguments in recurrent layers are deprecated. Use `input_shape` instead.\n",
      "  This is separate from the ipykernel package so we can avoid doing imports until\n",
      "/home/kvsingh/anaconda2/envs/carnd-term1/lib/python2.7/site-packages/ipykernel_launcher.py:3: UserWarning: Update your `LSTM` call to the Keras 2 API: `LSTM(units=25, return_sequences=False, input_shape=(None, 1))`\n",
      "  This is separate from the ipykernel package so we can avoid doing imports until\n"
     ]
    },
    {
     "name": "stdout",
     "output_type": "stream",
     "text": [
      "Batch size: 5, Epochs: 5, Optimizer: Adam, Dropout rate: 0.000000, Neurons 1: 25, Neurons 2: 10\n",
      "Score: 0.002505, Accuracy: 0.000000\n"
     ]
    },
    {
     "name": "stderr",
     "output_type": "stream",
     "text": [
      "/home/kvsingh/anaconda2/envs/carnd-term1/lib/python2.7/site-packages/ipykernel_launcher.py:3: UserWarning: The `input_dim` and `input_length` arguments in recurrent layers are deprecated. Use `input_shape` instead.\n",
      "  This is separate from the ipykernel package so we can avoid doing imports until\n",
      "/home/kvsingh/anaconda2/envs/carnd-term1/lib/python2.7/site-packages/ipykernel_launcher.py:3: UserWarning: Update your `LSTM` call to the Keras 2 API: `LSTM(units=25, return_sequences=False, input_shape=(None, 1))`\n",
      "  This is separate from the ipykernel package so we can avoid doing imports until\n"
     ]
    },
    {
     "name": "stdout",
     "output_type": "stream",
     "text": [
      "Batch size: 5, Epochs: 5, Optimizer: Adam, Dropout rate: 0.000000, Neurons 1: 25, Neurons 2: 15\n",
      "Score: 0.002449, Accuracy: 0.000000\n"
     ]
    },
    {
     "name": "stderr",
     "output_type": "stream",
     "text": [
      "/home/kvsingh/anaconda2/envs/carnd-term1/lib/python2.7/site-packages/ipykernel_launcher.py:3: UserWarning: The `input_dim` and `input_length` arguments in recurrent layers are deprecated. Use `input_shape` instead.\n",
      "  This is separate from the ipykernel package so we can avoid doing imports until\n",
      "/home/kvsingh/anaconda2/envs/carnd-term1/lib/python2.7/site-packages/ipykernel_launcher.py:3: UserWarning: Update your `LSTM` call to the Keras 2 API: `LSTM(units=25, return_sequences=False, input_shape=(None, 1))`\n",
      "  This is separate from the ipykernel package so we can avoid doing imports until\n"
     ]
    },
    {
     "name": "stdout",
     "output_type": "stream",
     "text": [
      "Batch size: 5, Epochs: 5, Optimizer: Adam, Dropout rate: 0.000000, Neurons 1: 25, Neurons 2: 20\n",
      "Score: 0.002462, Accuracy: 0.000000\n"
     ]
    },
    {
     "name": "stderr",
     "output_type": "stream",
     "text": [
      "/home/kvsingh/anaconda2/envs/carnd-term1/lib/python2.7/site-packages/ipykernel_launcher.py:3: UserWarning: The `input_dim` and `input_length` arguments in recurrent layers are deprecated. Use `input_shape` instead.\n",
      "  This is separate from the ipykernel package so we can avoid doing imports until\n",
      "/home/kvsingh/anaconda2/envs/carnd-term1/lib/python2.7/site-packages/ipykernel_launcher.py:3: UserWarning: Update your `LSTM` call to the Keras 2 API: `LSTM(units=25, return_sequences=False, input_shape=(None, 1))`\n",
      "  This is separate from the ipykernel package so we can avoid doing imports until\n"
     ]
    },
    {
     "name": "stdout",
     "output_type": "stream",
     "text": [
      "Batch size: 5, Epochs: 5, Optimizer: Adam, Dropout rate: 0.000000, Neurons 1: 25, Neurons 2: 25\n",
      "Score: 0.002561, Accuracy: 0.000000\n"
     ]
    },
    {
     "name": "stderr",
     "output_type": "stream",
     "text": [
      "/home/kvsingh/anaconda2/envs/carnd-term1/lib/python2.7/site-packages/ipykernel_launcher.py:3: UserWarning: The `input_dim` and `input_length` arguments in recurrent layers are deprecated. Use `input_shape` instead.\n",
      "  This is separate from the ipykernel package so we can avoid doing imports until\n",
      "/home/kvsingh/anaconda2/envs/carnd-term1/lib/python2.7/site-packages/ipykernel_launcher.py:3: UserWarning: Update your `LSTM` call to the Keras 2 API: `LSTM(units=25, return_sequences=False, input_shape=(None, 1))`\n",
      "  This is separate from the ipykernel package so we can avoid doing imports until\n"
     ]
    }
   ],
   "source": [
    "if __name__ == '__main__':\n",
    "    model = KerasClassifier(build_fn=create_model, verbose=0)\n",
    "\n",
    "    batch_sizes = [5, 10, 20, 40, 60]\n",
    "    epochs = [5, 10, 15, 20, 25, 30, 40, 50, 60, 70, 80]\n",
    "    optimizers = ['Adam', 'SGD', 'RMSprop', 'Adagrad', 'Adadelta', 'Adamax', 'Nadam']\n",
    "    lrs = [0.001, 0.01, 0.1, 0.2, 0.3]\n",
    "    momentums = [0.0, 0.2, 0.4, 0.6, 0.8, 0.9]\n",
    "    activations = ['softmax', 'softplus', 'softsign', 'relu', 'tanh', 'sigmoid', 'hard_sigmoid', 'linear']\n",
    "    dropout_rates = [0.0, 0.1, 0.2, 0.3, 0.4, 0.5, 0.6, 0.7, 0.8, 0.9]\n",
    "    neurons1 = [1, 4, 5, 7, 8, 10, 15, 20, 25, 30, 64, 128]\n",
    "    neurons2 = [1, 4, 5, 7, 8, 10, 15, 20, 25, 30, 64, 128]\n",
    "\n",
    "    param_grid = dict(batch_size=batch_sizes, \n",
    "                      epochs=epochs, \n",
    "                      #optimizer=optimizer, \n",
    "                      #lr=lr, \n",
    "                      #momentum=momentum, \n",
    "                      #activation=activation, \n",
    "                      dropout_rate=dropout_rates, \n",
    "                      neurons1=neurons1,\n",
    "                      neurons2=neurons2)\n",
    "\n",
    "    #grid = GridSearchCV(estimator=model, param_grid=param_grid)\n",
    "    #grid_result = grid.fit(X, Y)\n",
    "    \n",
    "    scores = {}\n",
    "    for optimizer in optimizers:\n",
    "        for batch_size in batch_sizes:\n",
    "            for epoch in epochs:\n",
    "                for dropout_rate in dropout_rates:\n",
    "                    for n1 in neurons1:\n",
    "                        for n2 in neurons2:\n",
    "\n",
    "                            #create model\n",
    "                            model = create_model(n1, n2, dropout_rate, optimizer)\n",
    "\n",
    "                            #train\n",
    "                            for i in range(epoch):\n",
    "                                model.fit(X_train, Y_train, epochs=1, batch_size=batch_size, verbose = 0,\n",
    "                                                            validation_data = (X_test, Y_test), shuffle=True)\n",
    "                                model.reset_states()\n",
    "\n",
    "                            #summarize results\n",
    "                            params = \"Batch size: %d, Epochs: %d, Optimizer: %s, Dropout rate: %f, Neurons 1: %d, Neurons 2: %d\" % (batch_size, epoch, optimizer, dropout_rate, n1, n2)\n",
    "                            score, acc = model.evaluate(X_test, Y_test, verbose = 0)\n",
    "                            print(params)\n",
    "                            print(\"Score: %f, Accuracy: %f\" % (score, acc))\n",
    "                            scores[params] = score\n",
    "                        \n",
    "    best_params = min(scores.iteritems(), key=operator.itemgetter(1))[0]\n",
    "    print(\"Best params\", best_params)\n",
    "\n",
    "#     # summarize results\n",
    "#     print(\"Best: %f using %s\" % (grid_result.best_score_, grid_result.best_params_))\n",
    "#     means = grid_result.cv_results_['mean_test_score']\n",
    "#     stds = grid_result.cv_results_['std_test_score']\n",
    "#     params = grid_result.cv_results_['params']\n",
    "#     for mean, stdev, param in zip(means, stds, params):\n",
    "#         print(\"%f (%f) with: %r\" % (mean, stdev, param))"
   ]
  },
  {
   "cell_type": "markdown",
   "metadata": {},
   "source": [
    "# Other Models"
   ]
  },
  {
   "cell_type": "code",
   "execution_count": 48,
   "metadata": {},
   "outputs": [],
   "source": [
    "from keras.models import load_model\n",
    "\n",
    "model_differened_10min.save('model_differenced_10min.h5')"
   ]
  },
  {
   "cell_type": "markdown",
   "metadata": {},
   "source": [
    "###  Encoder/Decoder Differenced"
   ]
  },
  {
   "cell_type": "code",
   "execution_count": 12,
   "metadata": {},
   "outputs": [],
   "source": [
    "def train_test_differenced(df, pathway, split_proportion, seq_len_x, seq_len_y, scaler, \n",
    "                         traffic_scaler, print_shapes = True):\n",
    "    #Split features from response variable\n",
    "    X = df[[pathway]].as_matrix()\n",
    "    \n",
    "    result_X = []\n",
    "    result_Y = []\n",
    "\n",
    "    for index in range(X.shape[0] - (seq_len_x + seq_len_y + 1)):\n",
    "        X_seq = X[index + 1: index + seq_len_x + 1] - X[index: index + seq_len_x]\n",
    "        result_X.append(X_seq) #adding CHIC--STAR\n",
    "        Y_seq = X[index + seq_len_x + 1: index + seq_len_x + seq_len_y + 1] - X[index + seq_len_x: index + seq_len_x + seq_len_y]\n",
    "        result_Y.append(Y_seq)\n",
    "        \n",
    "\n",
    "    result_X = np.array(result_X)\n",
    "    result_X = result_X.reshape(result_X.shape[0], result_X[0].shape[0])\n",
    "    result_Y = np.array(result_Y)\n",
    "    result_Y = result_Y.reshape(result_Y.shape[0], result_Y[0].shape[0])\n",
    "\n",
    "    #Normalize\n",
    "    result_X = scaler.fit_transform(result_X)\n",
    "    result_Y = traffic_scaler.fit_transform(result_Y)\n",
    "\n",
    "    #Train-test split\n",
    "    row = int(round(split_proportion * df.shape[0]))\n",
    "    X_train = result_X[:row]\n",
    "    Y_train = result_Y[:row]\n",
    "    X_test = result_X[row:]\n",
    "    Y_test = result_Y[row:]\n",
    "\n",
    "    X_train = np.reshape(X_train, (X_train.shape[0], X_train.shape[1], 1))\n",
    "    X_test = np.reshape(X_test, (X_test.shape[0], X_test.shape[1], 1))\n",
    "    #X_train = X_train.reshape(X_train.shape[0], 1, X_train.shape[1])\n",
    "    #X_test = X_test.reshape(X_test.shape[0], 1, X_test.shape[1])\n",
    "\n",
    "    Y_train = np.reshape(Y_train, (Y_train.shape[0], Y_train.shape[1], 1))\n",
    "    Y_test = np.reshape(Y_test, (Y_test.shape[0], Y_test.shape[1], 1))\n",
    "    #Y_train = Y_train.reshape(Y_train.shape[0], 1, Y_train.shape[1])\n",
    "    #Y_test = Y_test.reshape(Y_test.shape[0], 1, Y_test.shape[1])\n",
    "\n",
    "    if print_shapes:\n",
    "        print(\"X_train shape: \", X_train.shape)\n",
    "        print(\"Y_train shape: \", Y_train.shape)\n",
    "        print(\"X_test shape: \", X_test.shape)\n",
    "        print(\"Y_test shape: \", Y_test.shape)\n",
    "    \n",
    "    return X_train, Y_train, X_test, Y_test"
   ]
  },
  {
   "cell_type": "code",
   "execution_count": 13,
   "metadata": {},
   "outputs": [
    {
     "name": "stdout",
     "output_type": "stream",
     "text": [
      "X_train shape:  (10128, 40, 1)\n",
      "Y_train shape:  (10128, 20, 1)\n",
      "X_test shape:  (1452, 40, 1)\n",
      "Y_test shape:  (1452, 20, 1)\n"
     ]
    },
    {
     "name": "stderr",
     "output_type": "stream",
     "text": [
      "/home/kvsingh/anaconda2/envs/carnd-term1/lib/python2.7/site-packages/ipykernel_launcher.py:4: FutureWarning: Method .as_matrix will be removed in a future version. Use .values instead.\n",
      "  after removing the cwd from sys.path.\n"
     ]
    }
   ],
   "source": [
    "scaler = MinMaxScaler(feature_range=(0,1))\n",
    "traffic_scaler = MinMaxScaler(feature_range=(0,1))\n",
    "X_train, Y_train, X_test, Y_test = train_test_differenced(points_1767_chicstar, \n",
    "                                                            \"CHIC--STAR\", 0.87, 40, 20, scaler, traffic_scaler)"
   ]
  },
  {
   "cell_type": "code",
   "execution_count": 14,
   "metadata": {
    "scrolled": true
   },
   "outputs": [
    {
     "name": "stderr",
     "output_type": "stream",
     "text": [
      "/home/kvsingh/anaconda2/envs/carnd-term1/lib/python2.7/site-packages/ipykernel_launcher.py:5: UserWarning: The `input_dim` and `input_length` arguments in recurrent layers are deprecated. Use `input_shape` instead.\n",
      "  \"\"\"\n",
      "/home/kvsingh/anaconda2/envs/carnd-term1/lib/python2.7/site-packages/ipykernel_launcher.py:5: UserWarning: Update your `LSTM` call to the Keras 2 API: `LSTM(units=128, return_sequences=False, input_shape=(None, 1))`\n",
      "  \"\"\"\n",
      "/home/kvsingh/anaconda2/envs/carnd-term1/lib/python2.7/site-packages/ipykernel_launcher.py:7: UserWarning: Update your `LSTM` call to the Keras 2 API: `LSTM(units=128, return_sequences=True)`\n",
      "  import sys\n"
     ]
    }
   ],
   "source": [
    "batch_size = 24\n",
    "nb_epoch = 500\n",
    "\n",
    "model_differened_10min = Sequential()\n",
    "model_differened_10min.add(LSTM(input_dim = 1, output_dim=128, return_sequences=False))\n",
    "model_differened_10min.add(RepeatVector(20)) #seq_len_y\n",
    "model_differened_10min.add(LSTM(output_dim=128, return_sequences=True))\n",
    "#model_differened_10min.add(LSTM(output_dim=128, return_sequences=True))\n",
    "model_differened_10min.add(TimeDistributed(Dense(1))) "
   ]
  },
  {
   "cell_type": "code",
   "execution_count": 15,
   "metadata": {},
   "outputs": [],
   "source": [
    "model_differened_10min.load_weights('model_differenced_10min.h5')"
   ]
  },
  {
   "cell_type": "code",
   "execution_count": 46,
   "metadata": {},
   "outputs": [
    {
     "name": "stdout",
     "output_type": "stream",
     "text": [
      "-- Building --\n",
      "-- Training --\n",
      "Epoch 1/1\n",
      "10128/10128 [==============================] - 39s - loss: 0.0043    \n",
      "Epoch 1/1\n",
      "10128/10128 [==============================] - 38s - loss: 8.3628e-04    \n",
      "Epoch 1/1\n",
      "10128/10128 [==============================] - 38s - loss: 8.3018e-04    \n",
      "Epoch 1/1\n",
      "10128/10128 [==============================] - 38s - loss: 8.2762e-04    \n",
      "Epoch 1/1\n",
      "10128/10128 [==============================] - 38s - loss: 8.2543e-04    \n",
      "Epoch 1/1\n",
      "10128/10128 [==============================] - 38s - loss: 8.2357e-04    \n",
      "Epoch 1/1\n",
      "10128/10128 [==============================] - 38s - loss: 8.2190e-04    \n",
      "Epoch 1/1\n",
      "10128/10128 [==============================] - 38s - loss: 8.2035e-04    \n",
      "Epoch 1/1\n",
      "10128/10128 [==============================] - 38s - loss: 8.1888e-04    \n",
      "Epoch 1/1\n",
      "10128/10128 [==============================] - 38s - loss: 8.1745e-04    \n",
      "Epoch 1/1\n",
      "10128/10128 [==============================] - 38s - loss: 8.1607e-04    \n",
      "Epoch 1/1\n",
      "10128/10128 [==============================] - 38s - loss: 8.1479e-04    \n",
      "Epoch 1/1\n",
      "10128/10128 [==============================] - 38s - loss: 8.1368e-04    \n",
      "Epoch 1/1\n",
      "10128/10128 [==============================] - 38s - loss: 8.1285e-04    \n",
      "Epoch 1/1\n",
      "10128/10128 [==============================] - 38s - loss: 8.1207e-04    \n",
      "Epoch 1/1\n",
      "10128/10128 [==============================] - 38s - loss: 8.1240e-04    \n",
      "Epoch 1/1\n",
      "10128/10128 [==============================] - 38s - loss: 8.0936e-04    \n",
      "Epoch 1/1\n",
      "10128/10128 [==============================] - 38s - loss: 8.0755e-04    \n",
      "Epoch 1/1\n",
      "10128/10128 [==============================] - 38s - loss: 8.0657e-04    \n",
      "Epoch 1/1\n",
      "10128/10128 [==============================] - 38s - loss: 8.0579e-04    \n",
      "Epoch 1/1\n",
      "10128/10128 [==============================] - 38s - loss: 8.0443e-04    \n",
      "Epoch 1/1\n",
      "10128/10128 [==============================] - 38s - loss: 8.0367e-04    \n",
      "Epoch 1/1\n",
      "10128/10128 [==============================] - 38s - loss: 8.0150e-04    \n",
      "Epoch 1/1\n",
      "10128/10128 [==============================] - 38s - loss: 8.0183e-04    \n",
      "Epoch 1/1\n",
      "10128/10128 [==============================] - 38s - loss: 8.0128e-04    \n",
      "Epoch 1/1\n",
      "10128/10128 [==============================] - 39s - loss: 8.0066e-04    \n",
      "Epoch 1/1\n",
      "10128/10128 [==============================] - 38s - loss: 7.9995e-04    \n",
      "Epoch 1/1\n",
      "10128/10128 [==============================] - 38s - loss: 8.0030e-04    \n",
      "Epoch 1/1\n",
      "10128/10128 [==============================] - 38s - loss: 8.0059e-04    \n",
      "Epoch 1/1\n",
      "10128/10128 [==============================] - 38s - loss: 7.9992e-04    \n",
      "Epoch 1/1\n",
      "10128/10128 [==============================] - 38s - loss: 7.9920e-04    \n",
      "Epoch 1/1\n",
      "10128/10128 [==============================] - 38s - loss: 7.9892e-04    \n",
      "Epoch 1/1\n",
      "10128/10128 [==============================] - 38s - loss: 7.9874e-04    \n",
      "Epoch 1/1\n",
      "10128/10128 [==============================] - 38s - loss: 7.9892e-04    \n",
      "Epoch 1/1\n",
      "10128/10128 [==============================] - 38s - loss: 7.9888e-04    \n",
      "Epoch 1/1\n",
      "10128/10128 [==============================] - 38s - loss: 7.9910e-04    \n",
      "Epoch 1/1\n",
      "10128/10128 [==============================] - 38s - loss: 7.9880e-04    \n",
      "Epoch 1/1\n",
      "10128/10128 [==============================] - 38s - loss: 7.9805e-04    \n",
      "Epoch 1/1\n",
      "10128/10128 [==============================] - 38s - loss: 7.9788e-04    \n",
      "Epoch 1/1\n",
      "10128/10128 [==============================] - 38s - loss: 7.9790e-04    \n",
      "Epoch 1/1\n",
      "10128/10128 [==============================] - 38s - loss: 7.9780e-04    \n",
      "Epoch 1/1\n",
      "10128/10128 [==============================] - 38s - loss: 7.9727e-04    \n",
      "Epoch 1/1\n",
      "10128/10128 [==============================] - 38s - loss: 7.9662e-04    \n",
      "Epoch 1/1\n",
      "10128/10128 [==============================] - 38s - loss: 7.9672e-04    \n",
      "Epoch 1/1\n",
      "10128/10128 [==============================] - 38s - loss: 7.9643e-04    \n",
      "Epoch 1/1\n",
      "10128/10128 [==============================] - 38s - loss: 7.9540e-04    \n",
      "Epoch 1/1\n",
      "10128/10128 [==============================] - 38s - loss: 7.9597e-04    \n",
      "Epoch 1/1\n",
      "10128/10128 [==============================] - 38s - loss: 7.9448e-04    \n",
      "Epoch 1/1\n",
      "10128/10128 [==============================] - 38s - loss: 7.9516e-04    \n",
      "Epoch 1/1\n",
      "10128/10128 [==============================] - 38s - loss: 7.9416e-04    \n",
      "Epoch 1/1\n",
      "10128/10128 [==============================] - 38s - loss: 7.9384e-04    \n",
      "Epoch 1/1\n",
      "10128/10128 [==============================] - 38s - loss: 7.9503e-04    \n",
      "Epoch 1/1\n",
      "10128/10128 [==============================] - 38s - loss: 7.9348e-04    \n",
      "Epoch 1/1\n",
      "10128/10128 [==============================] - 38s - loss: 7.9332e-04    \n",
      "Epoch 1/1\n",
      "10128/10128 [==============================] - 38s - loss: 7.9320e-04    \n",
      "Epoch 1/1\n",
      "10128/10128 [==============================] - 38s - loss: 7.9310e-04    \n",
      "Epoch 1/1\n",
      "10128/10128 [==============================] - 38s - loss: 7.9305e-04    \n",
      "Epoch 1/1\n",
      "10128/10128 [==============================] - 38s - loss: 7.9306e-04    \n",
      "Epoch 1/1\n",
      "10128/10128 [==============================] - 37s - loss: 7.9316e-04    \n",
      "Epoch 1/1\n",
      "10128/10128 [==============================] - 38s - loss: 7.9331e-04    \n",
      "Epoch 1/1\n",
      "10128/10128 [==============================] - 38s - loss: 7.9339e-04    \n",
      "Epoch 1/1\n",
      "10128/10128 [==============================] - 38s - loss: 7.9316e-04    \n",
      "Epoch 1/1\n",
      "10128/10128 [==============================] - 38s - loss: 7.9308e-04    \n",
      "Epoch 1/1\n",
      "10128/10128 [==============================] - 38s - loss: 7.9296e-04    \n",
      "Epoch 1/1\n",
      "10128/10128 [==============================] - 38s - loss: 7.9341e-04    \n",
      "Epoch 1/1\n",
      "10128/10128 [==============================] - 38s - loss: 7.9296e-04    \n",
      "Epoch 1/1\n",
      "10128/10128 [==============================] - 38s - loss: 7.9268e-04    \n",
      "Epoch 1/1\n",
      "10128/10128 [==============================] - 38s - loss: 7.9279e-04    \n",
      "Epoch 1/1\n",
      "10128/10128 [==============================] - 38s - loss: 7.9256e-04    \n",
      "Epoch 1/1\n",
      "10128/10128 [==============================] - 38s - loss: 7.9264e-04    \n",
      "Epoch 1/1\n",
      "10128/10128 [==============================] - 38s - loss: 7.9248e-04    \n",
      "Epoch 1/1\n",
      "10128/10128 [==============================] - 38s - loss: 7.9209e-04    \n",
      "Epoch 1/1\n",
      "10128/10128 [==============================] - 38s - loss: 7.9187e-04    \n",
      "Epoch 1/1\n",
      "10128/10128 [==============================] - 38s - loss: 7.9169e-04    \n",
      "Epoch 1/1\n",
      "10128/10128 [==============================] - 38s - loss: 7.9169e-04    \n",
      "Epoch 1/1\n",
      "10128/10128 [==============================] - 38s - loss: 7.9154e-04    \n",
      "Epoch 1/1\n",
      "10128/10128 [==============================] - 38s - loss: 7.9161e-04    \n",
      "Epoch 1/1\n",
      "10128/10128 [==============================] - 38s - loss: 7.9176e-04    \n",
      "Epoch 1/1\n",
      "10128/10128 [==============================] - 38s - loss: 7.9142e-04    \n",
      "Epoch 1/1\n",
      "10128/10128 [==============================] - 38s - loss: 7.9133e-04    \n",
      "Epoch 1/1\n",
      "10128/10128 [==============================] - 38s - loss: 7.9118e-04    \n",
      "Epoch 1/1\n",
      "10128/10128 [==============================] - 38s - loss: 7.9096e-04    \n",
      "Epoch 1/1\n",
      "10128/10128 [==============================] - 38s - loss: 7.9078e-04    \n",
      "Epoch 1/1\n",
      "10128/10128 [==============================] - 38s - loss: 7.9070e-04    \n",
      "Epoch 1/1\n",
      "10128/10128 [==============================] - 38s - loss: 7.9070e-04    \n",
      "Epoch 1/1\n",
      "10128/10128 [==============================] - 38s - loss: 7.9049e-04    \n",
      "Epoch 1/1\n",
      "10128/10128 [==============================] - 38s - loss: 7.9031e-04    \n",
      "Epoch 1/1\n",
      "10128/10128 [==============================] - 38s - loss: 7.9023e-04    \n",
      "Epoch 1/1\n",
      "10128/10128 [==============================] - 38s - loss: 7.9025e-04    \n",
      "Epoch 1/1\n",
      "10128/10128 [==============================] - 38s - loss: 7.9003e-04    \n",
      "Epoch 1/1\n",
      "10128/10128 [==============================] - 38s - loss: 7.9000e-04    \n",
      "Epoch 1/1\n",
      "10128/10128 [==============================] - 38s - loss: 7.8994e-04    \n",
      "Epoch 1/1\n",
      "10128/10128 [==============================] - 38s - loss: 7.9251e-04    \n",
      "Epoch 1/1\n",
      "10128/10128 [==============================] - 38s - loss: 7.9225e-04    \n",
      "Epoch 1/1\n",
      "10128/10128 [==============================] - 38s - loss: 7.9057e-04    \n",
      "Epoch 1/1\n",
      "10128/10128 [==============================] - 38s - loss: 7.9017e-04    \n",
      "Epoch 1/1\n",
      "10128/10128 [==============================] - 38s - loss: 7.8984e-04    \n",
      "Epoch 1/1\n",
      "10128/10128 [==============================] - 38s - loss: 7.8948e-04    \n",
      "Epoch 1/1\n",
      "10128/10128 [==============================] - 38s - loss: 7.8937e-04    \n",
      "Epoch 1/1\n",
      "10128/10128 [==============================] - 38s - loss: 7.8932e-04    \n",
      "Epoch 1/1\n",
      "10128/10128 [==============================] - 38s - loss: 7.8883e-04    \n",
      "Epoch 1/1\n",
      "10128/10128 [==============================] - 38s - loss: 7.8861e-04    \n",
      "Epoch 1/1\n",
      "10128/10128 [==============================] - 38s - loss: 7.8799e-04    \n",
      "Epoch 1/1\n",
      "10128/10128 [==============================] - 38s - loss: 7.8787e-04    \n",
      "Epoch 1/1\n",
      "10128/10128 [==============================] - 38s - loss: 7.8775e-04    \n",
      "Epoch 1/1\n",
      "10128/10128 [==============================] - 38s - loss: 7.8868e-04    \n",
      "Epoch 1/1\n",
      "10128/10128 [==============================] - 38s - loss: 7.8775e-04    \n",
      "Epoch 1/1\n",
      "10128/10128 [==============================] - 38s - loss: 7.8849e-04    \n",
      "Epoch 1/1\n",
      "10128/10128 [==============================] - 38s - loss: 7.8755e-04    \n",
      "Epoch 1/1\n",
      "10128/10128 [==============================] - 38s - loss: 7.8733e-04    \n",
      "Epoch 1/1\n",
      "10128/10128 [==============================] - 38s - loss: 7.8747e-04    \n",
      "Epoch 1/1\n",
      "10128/10128 [==============================] - 38s - loss: 7.8728e-04    \n",
      "Epoch 1/1\n",
      "10128/10128 [==============================] - 38s - loss: 7.8771e-04    \n",
      "Epoch 1/1\n",
      "10128/10128 [==============================] - 38s - loss: 7.8745e-04    \n",
      "Epoch 1/1\n",
      "10128/10128 [==============================] - 38s - loss: 7.8888e-04    \n",
      "Epoch 1/1\n",
      "10128/10128 [==============================] - 38s - loss: 7.8703e-04    \n",
      "Epoch 1/1\n",
      "10128/10128 [==============================] - 38s - loss: 7.8708e-04    \n",
      "Epoch 1/1\n",
      "10128/10128 [==============================] - 38s - loss: 7.8668e-04    \n",
      "Epoch 1/1\n",
      "10128/10128 [==============================] - 38s - loss: 7.8649e-04    \n",
      "Epoch 1/1\n",
      "10128/10128 [==============================] - 38s - loss: 7.8630e-04    \n",
      "Epoch 1/1\n",
      "10128/10128 [==============================] - 38s - loss: 7.8608e-04    \n",
      "Epoch 1/1\n",
      "10128/10128 [==============================] - 38s - loss: 7.8738e-04    \n",
      "Epoch 1/1\n",
      "10128/10128 [==============================] - 38s - loss: 7.8650e-04    \n",
      "Epoch 1/1\n",
      "10128/10128 [==============================] - 38s - loss: 7.8735e-04    \n",
      "Epoch 1/1\n",
      "10128/10128 [==============================] - 38s - loss: 7.8603e-04    \n",
      "Epoch 1/1\n",
      "10128/10128 [==============================] - 38s - loss: 7.8575e-04    \n",
      "Epoch 1/1\n",
      "10128/10128 [==============================] - 37s - loss: 7.8546e-04    \n",
      "Epoch 1/1\n",
      "10128/10128 [==============================] - 38s - loss: 7.8566e-04    \n",
      "Epoch 1/1\n",
      "10128/10128 [==============================] - 38s - loss: 7.8463e-04    \n",
      "Epoch 1/1\n",
      "10128/10128 [==============================] - 38s - loss: 7.8472e-04    \n",
      "Epoch 1/1\n",
      "10128/10128 [==============================] - 38s - loss: 7.8477e-04    \n",
      "Epoch 1/1\n",
      "10128/10128 [==============================] - 38s - loss: 7.8437e-04    \n",
      "Epoch 1/1\n",
      "10128/10128 [==============================] - 38s - loss: 7.8378e-04    \n",
      "Epoch 1/1\n",
      "10128/10128 [==============================] - 38s - loss: 7.8377e-04    \n",
      "Epoch 1/1\n",
      "10128/10128 [==============================] - 38s - loss: 7.8287e-04    \n",
      "Epoch 1/1\n",
      "10128/10128 [==============================] - 38s - loss: 7.8311e-04    \n",
      "Epoch 1/1\n",
      "10128/10128 [==============================] - 38s - loss: 7.8528e-04    \n",
      "Epoch 1/1\n",
      "10128/10128 [==============================] - 38s - loss: 7.8309e-04    \n",
      "Epoch 1/1\n",
      "10128/10128 [==============================] - 38s - loss: 7.8285e-04    \n",
      "Epoch 1/1\n",
      "10128/10128 [==============================] - 38s - loss: 7.8375e-04    \n",
      "Epoch 1/1\n",
      "10128/10128 [==============================] - 38s - loss: 7.8296e-04    \n",
      "Epoch 1/1\n",
      "10128/10128 [==============================] - 38s - loss: 7.8316e-04    \n",
      "Epoch 1/1\n",
      "10128/10128 [==============================] - 38s - loss: 7.8254e-04    \n",
      "Epoch 1/1\n",
      "10128/10128 [==============================] - 38s - loss: 7.8258e-04    \n",
      "Epoch 1/1\n",
      "10128/10128 [==============================] - 38s - loss: 7.8124e-04    \n",
      "Epoch 1/1\n",
      "10128/10128 [==============================] - 38s - loss: 7.8638e-04    \n",
      "Epoch 1/1\n",
      "10128/10128 [==============================] - 38s - loss: 7.8355e-04    \n",
      "Epoch 1/1\n",
      "10128/10128 [==============================] - 38s - loss: 7.8268e-04    \n",
      "Epoch 1/1\n",
      "10128/10128 [==============================] - 38s - loss: 7.8113e-04    \n",
      "Epoch 1/1\n",
      "10128/10128 [==============================] - 38s - loss: 7.8055e-04    \n",
      "Epoch 1/1\n",
      "10128/10128 [==============================] - 38s - loss: 7.8350e-04    \n",
      "Epoch 1/1\n",
      "10128/10128 [==============================] - 38s - loss: 7.8742e-04    \n",
      "Epoch 1/1\n",
      "10128/10128 [==============================] - 38s - loss: 7.8181e-04    \n",
      "Epoch 1/1\n",
      "10128/10128 [==============================] - 38s - loss: 7.8038e-04    \n",
      "Epoch 1/1\n",
      "10128/10128 [==============================] - 38s - loss: 7.7979e-04    \n",
      "Epoch 1/1\n",
      "10128/10128 [==============================] - 38s - loss: 7.7918e-04    \n",
      "Epoch 1/1\n",
      "10128/10128 [==============================] - 38s - loss: 7.8170e-04    \n",
      "Epoch 1/1\n",
      "10128/10128 [==============================] - 37s - loss: 7.7968e-04    \n",
      "Epoch 1/1\n",
      "10128/10128 [==============================] - 37s - loss: 7.8062e-04    \n",
      "Epoch 1/1\n",
      "10128/10128 [==============================] - 38s - loss: 7.7863e-04    \n",
      "Epoch 1/1\n",
      "10128/10128 [==============================] - 38s - loss: 7.7969e-04    \n",
      "Epoch 1/1\n",
      "10128/10128 [==============================] - 38s - loss: 7.7828e-04    \n",
      "Epoch 1/1\n",
      "10128/10128 [==============================] - 38s - loss: 7.7854e-04    \n",
      "Epoch 1/1\n",
      "10128/10128 [==============================] - 37s - loss: 7.7755e-04    \n",
      "Epoch 1/1\n",
      "10128/10128 [==============================] - 38s - loss: 7.7751e-04    \n",
      "Epoch 1/1\n",
      "10128/10128 [==============================] - 38s - loss: 7.8727e-04    \n",
      "Epoch 1/1\n",
      "10128/10128 [==============================] - 38s - loss: 7.8610e-04    \n",
      "Epoch 1/1\n",
      "10128/10128 [==============================] - 38s - loss: 7.8277e-04    \n",
      "Epoch 1/1\n",
      "10128/10128 [==============================] - 38s - loss: 7.7986e-04    \n",
      "Epoch 1/1\n",
      "10128/10128 [==============================] - 38s - loss: 7.7751e-04    \n",
      "Epoch 1/1\n",
      "10128/10128 [==============================] - 38s - loss: 7.7639e-04    \n",
      "Epoch 1/1\n",
      "10128/10128 [==============================] - 38s - loss: 7.7662e-04    \n",
      "Epoch 1/1\n",
      "10128/10128 [==============================] - 38s - loss: 7.7624e-04    \n",
      "Epoch 1/1\n",
      "10128/10128 [==============================] - 38s - loss: 7.7880e-04    \n",
      "Epoch 1/1\n",
      "10128/10128 [==============================] - 38s - loss: 7.7603e-04    \n",
      "Epoch 1/1\n",
      "10128/10128 [==============================] - 38s - loss: 7.7630e-04    \n",
      "Epoch 1/1\n",
      "10128/10128 [==============================] - 38s - loss: 7.7504e-04    \n",
      "Epoch 1/1\n",
      "10128/10128 [==============================] - 38s - loss: 7.7774e-04    \n",
      "Epoch 1/1\n",
      "10128/10128 [==============================] - 37s - loss: 7.7960e-04    \n",
      "Epoch 1/1\n",
      "10128/10128 [==============================] - 38s - loss: 7.7638e-04    \n",
      "Epoch 1/1\n",
      "10128/10128 [==============================] - 38s - loss: 7.7522e-04    \n",
      "Epoch 1/1\n",
      "10128/10128 [==============================] - 38s - loss: 7.7487e-04    \n",
      "Epoch 1/1\n",
      "10128/10128 [==============================] - 38s - loss: 7.7402e-04    \n",
      "Epoch 1/1\n",
      "10128/10128 [==============================] - 38s - loss: 7.7542e-04    \n",
      "Epoch 1/1\n",
      "10128/10128 [==============================] - 38s - loss: 7.7370e-04    \n",
      "Epoch 1/1\n",
      "10128/10128 [==============================] - 38s - loss: 7.7362e-04    \n",
      "Epoch 1/1\n",
      "10128/10128 [==============================] - 38s - loss: 7.7306e-04    \n",
      "Epoch 1/1\n",
      "10128/10128 [==============================] - 38s - loss: 7.7337e-04    \n",
      "Epoch 1/1\n",
      "10128/10128 [==============================] - 38s - loss: 7.7260e-04    \n",
      "Epoch 1/1\n",
      "10128/10128 [==============================] - 38s - loss: 7.7252e-04    \n",
      "Epoch 1/1\n",
      "10128/10128 [==============================] - 38s - loss: 7.7144e-04    \n",
      "Epoch 1/1\n",
      "10128/10128 [==============================] - 38s - loss: 7.7145e-04    \n",
      "Epoch 1/1\n",
      "10128/10128 [==============================] - 38s - loss: 7.7286e-04    \n",
      "Epoch 1/1\n",
      "10128/10128 [==============================] - 38s - loss: 7.7185e-04    \n",
      "Epoch 1/1\n"
     ]
    },
    {
     "name": "stdout",
     "output_type": "stream",
     "text": [
      "10128/10128 [==============================] - 38s - loss: 7.6918e-04    \n",
      "Epoch 1/1\n",
      "10128/10128 [==============================] - 37s - loss: 7.7307e-04    \n",
      "Epoch 1/1\n",
      "10128/10128 [==============================] - 38s - loss: 7.6927e-04    \n",
      "Epoch 1/1\n",
      "10128/10128 [==============================] - 38s - loss: 7.7015e-04    \n",
      "Epoch 1/1\n",
      "10128/10128 [==============================] - 38s - loss: 7.6709e-04    \n",
      "Epoch 1/1\n",
      "10128/10128 [==============================] - 38s - loss: 7.6723e-04    \n",
      "Epoch 1/1\n",
      "10128/10128 [==============================] - 38s - loss: 7.7516e-04    \n",
      "Epoch 1/1\n",
      "10128/10128 [==============================] - 38s - loss: 7.6900e-04    \n",
      "Epoch 1/1\n",
      "10128/10128 [==============================] - 38s - loss: 7.6883e-04    \n",
      "Epoch 1/1\n",
      "10128/10128 [==============================] - 38s - loss: 7.6493e-04    \n",
      "Epoch 1/1\n",
      "10128/10128 [==============================] - 38s - loss: 7.6280e-04    \n",
      "Epoch 1/1\n",
      "10128/10128 [==============================] - 38s - loss: 7.6268e-04    \n",
      "Epoch 1/1\n",
      "10128/10128 [==============================] - 38s - loss: 7.5965e-04    \n",
      "Epoch 1/1\n",
      "10128/10128 [==============================] - 38s - loss: 7.6288e-04    \n",
      "Epoch 1/1\n",
      "10128/10128 [==============================] - 38s - loss: 7.6894e-04    \n",
      "Epoch 1/1\n",
      "10128/10128 [==============================] - 38s - loss: 7.6416e-04    \n",
      "Epoch 1/1\n",
      "10128/10128 [==============================] - 38s - loss: 7.6002e-04    \n",
      "Epoch 1/1\n",
      "10128/10128 [==============================] - 38s - loss: 7.5783e-04    \n",
      "Epoch 1/1\n",
      "10128/10128 [==============================] - 38s - loss: 7.5759e-04    \n",
      "Epoch 1/1\n",
      "10128/10128 [==============================] - 38s - loss: 7.5730e-04    \n",
      "Epoch 1/1\n",
      "10128/10128 [==============================] - 38s - loss: 7.5821e-04    \n",
      "Epoch 1/1\n",
      "10128/10128 [==============================] - 38s - loss: 7.5748e-04    \n",
      "Epoch 1/1\n",
      "10128/10128 [==============================] - 38s - loss: 7.5702e-04    \n",
      "Epoch 1/1\n",
      "10128/10128 [==============================] - 38s - loss: 7.5352e-04    \n",
      "Epoch 1/1\n",
      "10128/10128 [==============================] - 38s - loss: 7.5314e-04    \n",
      "Epoch 1/1\n",
      "10128/10128 [==============================] - 38s - loss: 7.5530e-04    \n",
      "Epoch 1/1\n",
      "10128/10128 [==============================] - 38s - loss: 7.5528e-04    \n",
      "Epoch 1/1\n",
      "10128/10128 [==============================] - 38s - loss: 7.6157e-04    \n",
      "Epoch 1/1\n",
      "10128/10128 [==============================] - 38s - loss: 7.5281e-04    \n",
      "Epoch 1/1\n",
      "10128/10128 [==============================] - 38s - loss: 7.5012e-04    \n",
      "Epoch 1/1\n",
      "10128/10128 [==============================] - 38s - loss: 7.4869e-04    \n",
      "Epoch 1/1\n",
      "10128/10128 [==============================] - 38s - loss: 7.5565e-04    \n",
      "Epoch 1/1\n",
      "10128/10128 [==============================] - 38s - loss: 7.5248e-04    \n",
      "Epoch 1/1\n",
      "10128/10128 [==============================] - 38s - loss: 7.4948e-04    \n",
      "Epoch 1/1\n",
      "10128/10128 [==============================] - 38s - loss: 7.4622e-04    \n",
      "Epoch 1/1\n",
      "10128/10128 [==============================] - 38s - loss: 7.4897e-04    \n",
      "Epoch 1/1\n",
      "10128/10128 [==============================] - 38s - loss: 7.4641e-04    \n",
      "Epoch 1/1\n",
      "10128/10128 [==============================] - 38s - loss: 7.4649e-04    \n",
      "Epoch 1/1\n",
      "10128/10128 [==============================] - 38s - loss: 7.5141e-04    \n",
      "Epoch 1/1\n",
      "10128/10128 [==============================] - 38s - loss: 7.5380e-04    \n",
      "Epoch 1/1\n",
      "10128/10128 [==============================] - 38s - loss: 7.6574e-04    \n",
      "Epoch 1/1\n",
      "10128/10128 [==============================] - 38s - loss: 7.5151e-04    \n",
      "Epoch 1/1\n",
      "10128/10128 [==============================] - 38s - loss: 7.5002e-04    \n",
      "Epoch 1/1\n",
      "10128/10128 [==============================] - 38s - loss: 7.4435e-04    \n",
      "Epoch 1/1\n",
      "10128/10128 [==============================] - 38s - loss: 7.4168e-04    \n",
      "Epoch 1/1\n",
      "10128/10128 [==============================] - 38s - loss: 7.4265e-04    \n",
      "Epoch 1/1\n",
      "10128/10128 [==============================] - 37s - loss: 7.4220e-04    \n",
      "Epoch 1/1\n",
      "10128/10128 [==============================] - 38s - loss: 7.4495e-04    \n",
      "Epoch 1/1\n",
      "10128/10128 [==============================] - 38s - loss: 7.4007e-04    \n",
      "Epoch 1/1\n",
      "10128/10128 [==============================] - 38s - loss: 7.4098e-04    \n",
      "Epoch 1/1\n",
      "10128/10128 [==============================] - 38s - loss: 7.4099e-04    \n",
      "Epoch 1/1\n",
      "10128/10128 [==============================] - 38s - loss: 7.4316e-04    \n",
      "Epoch 1/1\n",
      "10128/10128 [==============================] - 38s - loss: 7.4463e-04    \n",
      "Epoch 1/1\n",
      "10128/10128 [==============================] - 38s - loss: 7.4010e-04    \n",
      "Epoch 1/1\n",
      "10128/10128 [==============================] - 38s - loss: 7.3837e-04    \n",
      "Epoch 1/1\n",
      "10128/10128 [==============================] - 38s - loss: 7.4194e-04    \n",
      "Epoch 1/1\n",
      "10128/10128 [==============================] - 38s - loss: 7.4206e-04    \n",
      "Epoch 1/1\n",
      "10128/10128 [==============================] - 38s - loss: 7.4054e-04    \n",
      "Epoch 1/1\n",
      "10128/10128 [==============================] - 38s - loss: 7.3912e-04    \n",
      "Epoch 1/1\n",
      "10128/10128 [==============================] - 38s - loss: 7.4671e-04    \n",
      "Epoch 1/1\n",
      "10128/10128 [==============================] - 38s - loss: 7.4329e-04    \n",
      "Epoch 1/1\n",
      "10128/10128 [==============================] - 38s - loss: 7.3571e-04    \n",
      "Epoch 1/1\n",
      "10128/10128 [==============================] - 38s - loss: 7.3229e-04    \n",
      "Epoch 1/1\n",
      "10128/10128 [==============================] - 38s - loss: 7.2914e-04    \n",
      "Epoch 1/1\n",
      "10128/10128 [==============================] - 38s - loss: 7.3133e-04    \n",
      "Epoch 1/1\n",
      "10128/10128 [==============================] - 38s - loss: 7.3070e-04    \n",
      "Epoch 1/1\n",
      "10128/10128 [==============================] - 38s - loss: 7.3230e-04    \n",
      "Epoch 1/1\n",
      "10128/10128 [==============================] - 38s - loss: 7.3107e-04    \n",
      "Epoch 1/1\n",
      "10128/10128 [==============================] - 38s - loss: 7.3450e-04    \n",
      "Epoch 1/1\n",
      "10128/10128 [==============================] - 38s - loss: 7.3333e-04    \n",
      "Epoch 1/1\n",
      "10128/10128 [==============================] - 37s - loss: 7.2905e-04    \n",
      "Epoch 1/1\n",
      "10128/10128 [==============================] - 38s - loss: 7.2930e-04    \n",
      "Epoch 1/1\n",
      "10128/10128 [==============================] - 38s - loss: 7.2876e-04    \n",
      "Epoch 1/1\n",
      "10128/10128 [==============================] - 38s - loss: 7.2554e-04    \n",
      "Epoch 1/1\n",
      "10128/10128 [==============================] - 38s - loss: 7.2620e-04    \n",
      "Epoch 1/1\n",
      "10128/10128 [==============================] - 38s - loss: 7.2985e-04    \n",
      "Epoch 1/1\n",
      "10128/10128 [==============================] - 38s - loss: 7.3163e-04    \n",
      "Epoch 1/1\n",
      "10128/10128 [==============================] - 38s - loss: 7.2489e-04    \n",
      "Epoch 1/1\n",
      "10128/10128 [==============================] - 38s - loss: 7.2365e-04    \n",
      "Epoch 1/1\n",
      "10128/10128 [==============================] - 38s - loss: 7.2278e-04    \n",
      "Epoch 1/1\n",
      "10128/10128 [==============================] - 38s - loss: 7.2369e-04    \n",
      "Epoch 1/1\n",
      "10128/10128 [==============================] - 38s - loss: 7.2412e-04    \n",
      "Epoch 1/1\n",
      "10128/10128 [==============================] - 38s - loss: 7.2199e-04    \n",
      "Epoch 1/1\n",
      "10128/10128 [==============================] - 38s - loss: 7.2151e-04    \n",
      "Epoch 1/1\n",
      "10128/10128 [==============================] - 38s - loss: 7.3183e-04    \n",
      "Epoch 1/1\n",
      "10128/10128 [==============================] - 38s - loss: 7.2549e-04    \n",
      "Epoch 1/1\n",
      "10128/10128 [==============================] - 38s - loss: 7.2268e-04    \n",
      "Epoch 1/1\n",
      "10128/10128 [==============================] - 38s - loss: 7.2248e-04    \n",
      "Epoch 1/1\n",
      "10128/10128 [==============================] - 38s - loss: 7.2380e-04    \n",
      "Epoch 1/1\n",
      "10128/10128 [==============================] - 38s - loss: 7.1856e-04    \n",
      "Epoch 1/1\n",
      "10128/10128 [==============================] - 38s - loss: 7.1804e-04    \n",
      "Epoch 1/1\n",
      "10128/10128 [==============================] - 38s - loss: 7.1582e-04    \n",
      "Epoch 1/1\n",
      "10128/10128 [==============================] - 38s - loss: 7.1590e-04    \n",
      "Epoch 1/1\n",
      "10128/10128 [==============================] - 38s - loss: 7.1683e-04    \n",
      "Epoch 1/1\n",
      "10128/10128 [==============================] - 38s - loss: 7.1634e-04    \n",
      "Epoch 1/1\n",
      "10128/10128 [==============================] - 37s - loss: 7.2051e-04    \n",
      "Epoch 1/1\n",
      "10128/10128 [==============================] - 38s - loss: 7.2145e-04    \n",
      "Epoch 1/1\n",
      "10128/10128 [==============================] - 38s - loss: 7.1759e-04    \n",
      "Epoch 1/1\n",
      "10128/10128 [==============================] - 38s - loss: 7.1376e-04    \n",
      "Epoch 1/1\n",
      "10128/10128 [==============================] - 38s - loss: 7.1003e-04    \n",
      "Epoch 1/1\n",
      "10128/10128 [==============================] - 38s - loss: 7.1162e-04    \n",
      "Epoch 1/1\n",
      "10128/10128 [==============================] - 38s - loss: 7.1872e-04    \n",
      "Epoch 1/1\n",
      "10128/10128 [==============================] - 38s - loss: 7.1852e-04    \n",
      "Epoch 1/1\n",
      "10128/10128 [==============================] - 38s - loss: 7.1200e-04    \n",
      "Epoch 1/1\n",
      "10128/10128 [==============================] - 38s - loss: 7.0854e-04    \n",
      "Epoch 1/1\n",
      "10128/10128 [==============================] - 38s - loss: 7.1004e-04    \n",
      "Epoch 1/1\n",
      "10128/10128 [==============================] - 38s - loss: 7.1159e-04    \n",
      "Epoch 1/1\n",
      "10128/10128 [==============================] - 38s - loss: 7.1321e-04    \n",
      "Epoch 1/1\n",
      "10128/10128 [==============================] - 38s - loss: 7.0722e-04    \n",
      "Epoch 1/1\n",
      "10128/10128 [==============================] - 38s - loss: 7.0201e-04    \n",
      "Epoch 1/1\n",
      "10128/10128 [==============================] - 38s - loss: 7.0179e-04    \n",
      "Epoch 1/1\n",
      "10128/10128 [==============================] - 38s - loss: 7.0367e-04    \n",
      "Epoch 1/1\n",
      "10128/10128 [==============================] - 38s - loss: 7.0589e-04    \n",
      "Epoch 1/1\n",
      "10128/10128 [==============================] - 38s - loss: 7.1057e-04    \n",
      "Epoch 1/1\n",
      "10128/10128 [==============================] - 38s - loss: 7.1407e-04    \n",
      "Epoch 1/1\n",
      "10128/10128 [==============================] - 38s - loss: 7.1483e-04    \n",
      "Epoch 1/1\n",
      "10128/10128 [==============================] - 38s - loss: 7.0897e-04    \n",
      "Epoch 1/1\n",
      "10128/10128 [==============================] - 38s - loss: 7.0129e-04    \n",
      "Epoch 1/1\n",
      "10128/10128 [==============================] - 38s - loss: 6.9921e-04    \n",
      "Epoch 1/1\n",
      "10128/10128 [==============================] - 38s - loss: 7.0990e-04    \n",
      "Epoch 1/1\n",
      "10128/10128 [==============================] - 38s - loss: 7.0645e-04    \n",
      "Epoch 1/1\n",
      "10128/10128 [==============================] - 38s - loss: 7.0015e-04    \n",
      "Epoch 1/1\n",
      "10128/10128 [==============================] - 37s - loss: 6.9844e-04    \n",
      "Epoch 1/1\n",
      "10128/10128 [==============================] - 38s - loss: 7.0235e-04    \n",
      "Epoch 1/1\n",
      "10128/10128 [==============================] - 38s - loss: 7.0078e-04    \n",
      "Epoch 1/1\n",
      "10128/10128 [==============================] - 38s - loss: 7.0331e-04    \n",
      "Epoch 1/1\n",
      "10128/10128 [==============================] - 38s - loss: 6.9995e-04    \n",
      "Epoch 1/1\n",
      "10128/10128 [==============================] - 38s - loss: 6.9679e-04    \n",
      "Epoch 1/1\n",
      "10128/10128 [==============================] - 38s - loss: 6.9710e-04    \n",
      "Epoch 1/1\n",
      "10128/10128 [==============================] - 38s - loss: 6.9003e-04    \n",
      "Epoch 1/1\n",
      "10128/10128 [==============================] - 38s - loss: 6.8750e-04    \n",
      "Epoch 1/1\n",
      "10128/10128 [==============================] - 38s - loss: 6.9246e-04    \n",
      "Epoch 1/1\n",
      "10128/10128 [==============================] - 38s - loss: 6.9640e-04    \n",
      "Epoch 1/1\n",
      "10128/10128 [==============================] - 38s - loss: 6.9313e-04    \n",
      "Epoch 1/1\n",
      "10128/10128 [==============================] - 38s - loss: 6.9826e-04    \n",
      "Epoch 1/1\n",
      "10128/10128 [==============================] - 38s - loss: 6.9486e-04    \n",
      "Epoch 1/1\n",
      "10128/10128 [==============================] - 38s - loss: 6.9598e-04    \n",
      "Epoch 1/1\n",
      "10128/10128 [==============================] - 38s - loss: 6.9053e-04    \n",
      "Epoch 1/1\n",
      "10128/10128 [==============================] - 38s - loss: 6.8559e-04    \n",
      "Epoch 1/1\n",
      "10128/10128 [==============================] - 38s - loss: 6.8233e-04    \n",
      "Epoch 1/1\n",
      "10128/10128 [==============================] - 38s - loss: 6.8299e-04    \n",
      "Epoch 1/1\n",
      "10128/10128 [==============================] - 38s - loss: 6.9385e-04    \n",
      "Epoch 1/1\n",
      "10128/10128 [==============================] - 38s - loss: 7.0549e-04    \n",
      "Epoch 1/1\n",
      "10128/10128 [==============================] - 38s - loss: 7.0876e-04    \n",
      "Epoch 1/1\n",
      "10128/10128 [==============================] - 38s - loss: 6.9530e-04    \n",
      "Epoch 1/1\n",
      "10128/10128 [==============================] - 38s - loss: 6.8503e-04    \n",
      "Epoch 1/1\n",
      "10128/10128 [==============================] - 38s - loss: 6.8133e-04    \n",
      "Epoch 1/1\n",
      "10128/10128 [==============================] - 38s - loss: 6.7990e-04    \n",
      "Epoch 1/1\n",
      "10128/10128 [==============================] - 38s - loss: 6.8904e-04    \n",
      "Epoch 1/1\n",
      "10128/10128 [==============================] - 38s - loss: 6.8546e-04    \n",
      "Epoch 1/1\n",
      "10128/10128 [==============================] - 38s - loss: 6.7991e-04    \n",
      "Epoch 1/1\n",
      "10128/10128 [==============================] - 38s - loss: 6.7449e-04    \n",
      "Epoch 1/1\n",
      "10128/10128 [==============================] - 38s - loss: 6.8695e-04    \n",
      "Epoch 1/1\n",
      "10128/10128 [==============================] - 38s - loss: 6.9265e-04    \n",
      "Epoch 1/1\n",
      "10128/10128 [==============================] - 38s - loss: 6.8497e-04    \n",
      "Epoch 1/1\n",
      "10128/10128 [==============================] - 38s - loss: 6.9147e-04    \n",
      "Epoch 1/1\n",
      "10128/10128 [==============================] - 38s - loss: 6.9026e-04    \n",
      "Epoch 1/1\n",
      "10128/10128 [==============================] - 38s - loss: 6.8328e-04    \n",
      "Epoch 1/1\n",
      "10128/10128 [==============================] - 38s - loss: 6.8075e-04    \n",
      "Epoch 1/1\n",
      "10128/10128 [==============================] - 38s - loss: 6.7593e-04    \n",
      "Epoch 1/1\n",
      "10128/10128 [==============================] - 39s - loss: 6.7267e-04    \n",
      "Epoch 1/1\n",
      "10128/10128 [==============================] - 38s - loss: 6.7497e-04    \n",
      "Epoch 1/1\n",
      "10128/10128 [==============================] - 38s - loss: 6.8153e-04    \n",
      "Epoch 1/1\n",
      "10128/10128 [==============================] - 38s - loss: 6.8077e-04    \n",
      "Epoch 1/1\n",
      "10128/10128 [==============================] - 38s - loss: 6.9240e-04    \n",
      "Epoch 1/1\n",
      "10128/10128 [==============================] - 39s - loss: 6.9339e-04    \n",
      "Epoch 1/1\n",
      "10128/10128 [==============================] - 38s - loss: 6.7416e-04    \n",
      "Epoch 1/1\n",
      "10128/10128 [==============================] - 38s - loss: 6.6488e-04    \n",
      "Epoch 1/1\n",
      "10128/10128 [==============================] - 38s - loss: 6.6283e-04    \n",
      "Epoch 1/1\n",
      "10128/10128 [==============================] - 38s - loss: 6.6369e-04    \n",
      "Epoch 1/1\n",
      "10128/10128 [==============================] - 38s - loss: 6.6982e-04    \n",
      "Epoch 1/1\n",
      "10128/10128 [==============================] - 38s - loss: 6.6938e-04    \n",
      "Epoch 1/1\n",
      "10128/10128 [==============================] - 38s - loss: 6.7121e-04    \n",
      "Epoch 1/1\n",
      "10128/10128 [==============================] - 38s - loss: 6.7680e-04    \n",
      "Epoch 1/1\n",
      "10128/10128 [==============================] - 38s - loss: 6.7901e-04    \n",
      "Epoch 1/1\n",
      "10128/10128 [==============================] - 38s - loss: 6.7057e-04    \n",
      "Epoch 1/1\n",
      "10128/10128 [==============================] - 38s - loss: 6.6411e-04    \n",
      "Epoch 1/1\n",
      "10128/10128 [==============================] - 38s - loss: 6.6009e-04    \n",
      "Epoch 1/1\n",
      "10128/10128 [==============================] - 38s - loss: 6.6181e-04    \n",
      "Epoch 1/1\n",
      "10128/10128 [==============================] - 38s - loss: 6.5958e-04    \n",
      "Epoch 1/1\n",
      "10128/10128 [==============================] - 38s - loss: 6.5808e-04    \n",
      "Epoch 1/1\n",
      "10128/10128 [==============================] - 38s - loss: 6.6551e-04    \n",
      "Epoch 1/1\n",
      "10128/10128 [==============================] - 39s - loss: 6.6437e-04    \n",
      "Epoch 1/1\n",
      "10128/10128 [==============================] - 38s - loss: 6.6545e-04    \n",
      "Epoch 1/1\n",
      "10128/10128 [==============================] - 38s - loss: 6.6423e-04    \n",
      "Epoch 1/1\n",
      "10128/10128 [==============================] - 38s - loss: 6.6552e-04    \n",
      "Epoch 1/1\n",
      "10128/10128 [==============================] - 38s - loss: 6.5844e-04    \n",
      "Epoch 1/1\n",
      "10128/10128 [==============================] - 38s - loss: 6.5367e-04    \n",
      "Epoch 1/1\n",
      "10128/10128 [==============================] - 38s - loss: 6.4958e-04    \n",
      "Epoch 1/1\n",
      "10128/10128 [==============================] - 38s - loss: 6.6013e-04    \n",
      "Epoch 1/1\n",
      "10128/10128 [==============================] - 38s - loss: 6.5868e-04    \n",
      "Epoch 1/1\n",
      "10128/10128 [==============================] - 38s - loss: 6.4629e-04    \n",
      "Epoch 1/1\n",
      "10128/10128 [==============================] - 38s - loss: 6.4340e-04    \n",
      "Epoch 1/1\n",
      "10128/10128 [==============================] - 37s - loss: 6.4682e-04    \n",
      "Epoch 1/1\n"
     ]
    },
    {
     "name": "stdout",
     "output_type": "stream",
     "text": [
      "10128/10128 [==============================] - 37s - loss: 6.5380e-04    \n",
      "Epoch 1/1\n",
      "10128/10128 [==============================] - 38s - loss: 6.4445e-04    \n",
      "Epoch 1/1\n",
      "10128/10128 [==============================] - 38s - loss: 6.4190e-04    \n",
      "Epoch 1/1\n",
      "10128/10128 [==============================] - 38s - loss: 6.4567e-04    \n",
      "Epoch 1/1\n",
      "10128/10128 [==============================] - 38s - loss: 6.5533e-04    \n",
      "Epoch 1/1\n",
      "10128/10128 [==============================] - 38s - loss: 6.6108e-04    \n",
      "Epoch 1/1\n",
      "10128/10128 [==============================] - 38s - loss: 6.4551e-04    \n",
      "Epoch 1/1\n",
      "10128/10128 [==============================] - 38s - loss: 6.4023e-04    \n",
      "Epoch 1/1\n",
      "10128/10128 [==============================] - 38s - loss: 6.6313e-04    \n",
      "Epoch 1/1\n",
      "10128/10128 [==============================] - 38s - loss: 6.4390e-04    \n",
      "Epoch 1/1\n",
      "10128/10128 [==============================] - 38s - loss: 6.3606e-04    \n",
      "Epoch 1/1\n",
      "10128/10128 [==============================] - 38s - loss: 6.2601e-04    \n",
      "Epoch 1/1\n",
      "10128/10128 [==============================] - 38s - loss: 6.2809e-04    \n",
      "Epoch 1/1\n",
      "10128/10128 [==============================] - 38s - loss: 6.4690e-04    \n",
      "Epoch 1/1\n",
      "10128/10128 [==============================] - 38s - loss: 6.4385e-04    \n",
      "Epoch 1/1\n",
      "10128/10128 [==============================] - 38s - loss: 6.4337e-04    \n",
      "Epoch 1/1\n",
      "10128/10128 [==============================] - 39s - loss: 6.3516e-04    \n",
      "Epoch 1/1\n",
      "10128/10128 [==============================] - 38s - loss: 6.2912e-04    \n",
      "Epoch 1/1\n",
      "10128/10128 [==============================] - 38s - loss: 6.4101e-04    \n",
      "Epoch 1/1\n",
      "10128/10128 [==============================] - 38s - loss: 6.6887e-04    \n",
      "Epoch 1/1\n",
      "10128/10128 [==============================] - 38s - loss: 6.9581e-04    \n",
      "Epoch 1/1\n",
      "10128/10128 [==============================] - 38s - loss: 6.4725e-04    \n",
      "Epoch 1/1\n",
      "10128/10128 [==============================] - 39s - loss: 6.3580e-04    \n",
      "Epoch 1/1\n",
      "10128/10128 [==============================] - 38s - loss: 6.5025e-04    \n",
      "Epoch 1/1\n",
      "10128/10128 [==============================] - 38s - loss: 6.3225e-04    \n",
      "Epoch 1/1\n",
      "10128/10128 [==============================] - 38s - loss: 6.2780e-04    \n",
      "Epoch 1/1\n",
      "10128/10128 [==============================] - 38s - loss: 6.1890e-04    \n",
      "Epoch 1/1\n",
      "10128/10128 [==============================] - 39s - loss: 6.1646e-04    \n",
      "Epoch 1/1\n",
      "10128/10128 [==============================] - 38s - loss: 6.1564e-04    \n",
      "Epoch 1/1\n",
      "10128/10128 [==============================] - 38s - loss: 6.1688e-04    \n",
      "Epoch 1/1\n",
      "10128/10128 [==============================] - 38s - loss: 6.2054e-04    \n",
      "Epoch 1/1\n",
      "10128/10128 [==============================] - 38s - loss: 6.3987e-04    \n",
      "Epoch 1/1\n",
      "10128/10128 [==============================] - 38s - loss: 6.4469e-04    \n",
      "Epoch 1/1\n",
      "10128/10128 [==============================] - 38s - loss: 6.4782e-04    \n",
      "Epoch 1/1\n",
      "10128/10128 [==============================] - 38s - loss: 6.3155e-04    \n",
      "Epoch 1/1\n",
      "10128/10128 [==============================] - 38s - loss: 6.2716e-04    \n",
      "Epoch 1/1\n",
      "10128/10128 [==============================] - 38s - loss: 6.2304e-04    \n",
      "Epoch 1/1\n",
      "10128/10128 [==============================] - 38s - loss: 6.2914e-04    \n",
      "Epoch 1/1\n",
      "10128/10128 [==============================] - 38s - loss: 6.2402e-04    \n",
      "Epoch 1/1\n",
      "10128/10128 [==============================] - 39s - loss: 6.1537e-04    \n",
      "Epoch 1/1\n",
      "10128/10128 [==============================] - 38s - loss: 6.1391e-04    \n",
      "Epoch 1/1\n",
      "10128/10128 [==============================] - 38s - loss: 6.1500e-04    \n",
      "Epoch 1/1\n",
      "10128/10128 [==============================] - 38s - loss: 6.2805e-04    \n",
      "Epoch 1/1\n",
      "10128/10128 [==============================] - 38s - loss: 6.1880e-04    \n",
      "Epoch 1/1\n",
      "10128/10128 [==============================] - 38s - loss: 6.1518e-04    \n",
      "Epoch 1/1\n",
      "10128/10128 [==============================] - 38s - loss: 6.1672e-04    \n",
      "Epoch 1/1\n",
      "10128/10128 [==============================] - 38s - loss: 6.2698e-04    \n",
      "Epoch 1/1\n",
      "10128/10128 [==============================] - 39s - loss: 6.4525e-04    \n",
      "Epoch 1/1\n",
      "10128/10128 [==============================] - 39s - loss: 6.3459e-04    \n",
      "Epoch 1/1\n",
      "10128/10128 [==============================] - 38s - loss: 6.1459e-04    \n",
      "Epoch 1/1\n",
      "10128/10128 [==============================] - 39s - loss: 6.0597e-04    \n",
      "Epoch 1/1\n",
      "10128/10128 [==============================] - 39s - loss: 6.0462e-04    \n",
      "Epoch 1/1\n",
      "10128/10128 [==============================] - 38s - loss: 6.0305e-04    \n",
      "Epoch 1/1\n",
      "10128/10128 [==============================] - 38s - loss: 6.2309e-04    \n",
      "Epoch 1/1\n",
      "10128/10128 [==============================] - 38s - loss: 6.2587e-04    \n",
      "Epoch 1/1\n",
      "10128/10128 [==============================] - 38s - loss: 6.0774e-04    \n",
      "Epoch 1/1\n",
      "10128/10128 [==============================] - 38s - loss: 6.0903e-04    \n",
      "Epoch 1/1\n",
      "10128/10128 [==============================] - 38s - loss: 6.5855e-04    \n",
      "Epoch 1/1\n",
      "10128/10128 [==============================] - 39s - loss: 6.3323e-04    \n",
      "Epoch 1/1\n",
      "10128/10128 [==============================] - 38s - loss: 6.1026e-04    \n",
      "Epoch 1/1\n",
      "10128/10128 [==============================] - 39s - loss: 6.2009e-04    \n",
      "Epoch 1/1\n",
      "10128/10128 [==============================] - 39s - loss: 6.0165e-04    \n",
      "Epoch 1/1\n",
      "10128/10128 [==============================] - 39s - loss: 6.0747e-04    \n",
      "Epoch 1/1\n",
      "10128/10128 [==============================] - 38s - loss: 6.1953e-04    \n",
      "Epoch 1/1\n",
      "10128/10128 [==============================] - 38s - loss: 6.1216e-04    \n",
      "Epoch 1/1\n",
      "10128/10128 [==============================] - 38s - loss: 5.9468e-04    \n",
      "Epoch 1/1\n",
      "10128/10128 [==============================] - 38s - loss: 5.9562e-04    \n",
      "Epoch 1/1\n",
      "10128/10128 [==============================] - 38s - loss: 5.9707e-04    \n",
      "Epoch 1/1\n",
      "10128/10128 [==============================] - 38s - loss: 5.9960e-04    \n",
      "Epoch 1/1\n",
      "10128/10128 [==============================] - 38s - loss: 6.1612e-04    \n",
      "Epoch 1/1\n",
      "10128/10128 [==============================] - 38s - loss: 6.0349e-04    \n",
      "Epoch 1/1\n",
      "10128/10128 [==============================] - 38s - loss: 5.9323e-04    \n",
      "Epoch 1/1\n",
      "10128/10128 [==============================] - 38s - loss: 5.9275e-04    \n",
      "Epoch 1/1\n",
      "10128/10128 [==============================] - 38s - loss: 6.0008e-04    \n",
      "Epoch 1/1\n",
      "10128/10128 [==============================] - 38s - loss: 5.9950e-04    \n",
      "Epoch 1/1\n",
      "10128/10128 [==============================] - 38s - loss: 6.2634e-04    \n",
      "Epoch 1/1\n",
      "10128/10128 [==============================] - 38s - loss: 6.4524e-04    \n",
      "Epoch 1/1\n",
      "10128/10128 [==============================] - 38s - loss: 6.1027e-04    \n",
      "Epoch 1/1\n",
      "10128/10128 [==============================] - 38s - loss: 6.2387e-04    \n",
      "Epoch 1/1\n",
      "10128/10128 [==============================] - 38s - loss: 6.2505e-04    \n",
      "Epoch 1/1\n",
      "10128/10128 [==============================] - 38s - loss: 6.2251e-04    \n",
      "Epoch 1/1\n",
      "10128/10128 [==============================] - 38s - loss: 6.1581e-04    \n",
      "Epoch 1/1\n",
      "10128/10128 [==============================] - 38s - loss: 5.9564e-04    \n",
      "Epoch 1/1\n",
      "10128/10128 [==============================] - 38s - loss: 5.8544e-04    \n",
      "Epoch 1/1\n",
      "10128/10128 [==============================] - 38s - loss: 5.8534e-04    \n",
      "Epoch 1/1\n",
      "10128/10128 [==============================] - 38s - loss: 5.9061e-04    \n",
      "Epoch 1/1\n",
      "10128/10128 [==============================] - 38s - loss: 5.9786e-04    \n",
      "Epoch 1/1\n",
      "10128/10128 [==============================] - 38s - loss: 5.9487e-04    \n",
      "Epoch 1/1\n",
      "10128/10128 [==============================] - 38s - loss: 5.8378e-04    \n",
      "Epoch 1/1\n",
      "10128/10128 [==============================] - 38s - loss: 5.8174e-04    \n",
      "Epoch 1/1\n",
      "10128/10128 [==============================] - 38s - loss: 5.7487e-04    \n",
      "Epoch 1/1\n",
      "10128/10128 [==============================] - 38s - loss: 5.7633e-04    \n",
      "Epoch 1/1\n",
      "10128/10128 [==============================] - 38s - loss: 5.9123e-04    \n",
      "Epoch 1/1\n",
      "10128/10128 [==============================] - 38s - loss: 5.9804e-04    \n",
      "Epoch 1/1\n",
      "10128/10128 [==============================] - 38s - loss: 6.1652e-04    \n",
      "Epoch 1/1\n",
      "10128/10128 [==============================] - 38s - loss: 5.8801e-04    \n",
      "Epoch 1/1\n",
      "10128/10128 [==============================] - 38s - loss: 5.8961e-04    \n",
      "Epoch 1/1\n",
      "10128/10128 [==============================] - 38s - loss: 5.7117e-04    \n",
      "Epoch 1/1\n",
      "10128/10128 [==============================] - 38s - loss: 5.7072e-04    \n",
      "Epoch 1/1\n",
      "10128/10128 [==============================] - 38s - loss: 5.7871e-04    \n",
      "Epoch 1/1\n",
      "10128/10128 [==============================] - 38s - loss: 6.1424e-04    \n",
      "Epoch 1/1\n",
      "10128/10128 [==============================] - 38s - loss: 6.1213e-04    \n",
      "Epoch 1/1\n",
      "10128/10128 [==============================] - 38s - loss: 6.0435e-04    \n",
      "Epoch 1/1\n",
      "10128/10128 [==============================] - 37s - loss: 5.7558e-04    \n",
      "Epoch 1/1\n",
      "10128/10128 [==============================] - 38s - loss: 5.6965e-04    \n",
      "Epoch 1/1\n",
      "10128/10128 [==============================] - 38s - loss: 5.6273e-04    \n",
      "Epoch 1/1\n",
      "10128/10128 [==============================] - 38s - loss: 5.6493e-04    \n",
      "Epoch 1/1\n",
      "10128/10128 [==============================] - 38s - loss: 5.6267e-04    \n",
      "Epoch 1/1\n",
      "10128/10128 [==============================] - 38s - loss: 5.7308e-04    \n",
      "Epoch 1/1\n",
      "10128/10128 [==============================] - 38s - loss: 6.0305e-04    \n",
      "Epoch 1/1\n",
      "10128/10128 [==============================] - 38s - loss: 5.8446e-04    \n",
      "Epoch 1/1\n",
      "10128/10128 [==============================] - 38s - loss: 5.6941e-04    \n"
     ]
    }
   ],
   "source": [
    "print(\"-- Building --\")\n",
    "model_differened_10min.compile(loss=\"mse\",\n",
    "                  optimizer = 'adam')\n",
    "\n",
    "print('-- Training --')\n",
    "for i in range(nb_epoch):\n",
    "    model_differened_10min.fit(X_train, Y_train, epochs=1, batch_size=batch_size, shuffle=False)\n",
    "    model_differened_10min.reset_states()"
   ]
  },
  {
   "cell_type": "code",
   "execution_count": 17,
   "metadata": {},
   "outputs": [],
   "source": [
    "# walk-forward validation on the test data\n",
    "pred_x_test = model_differened_10min.predict(X_test, batch_size)\n",
    "pred_x_test = np.reshape(pred_x_test, (pred_x_test.shape[0], pred_x_test.shape[1]))\n",
    "pred_test = inverse_transform(pred_x_test, traffic_scaler)\n",
    "\n",
    "y_test = np.float_(Y_test)\n",
    "y_test = np.reshape(y_test, (y_test.shape[0], y_test.shape[1]))\n",
    "y_test_inv = inverse_transform(y_test, traffic_scaler)"
   ]
  },
  {
   "cell_type": "code",
   "execution_count": 22,
   "metadata": {},
   "outputs": [
    {
     "data": {
      "image/png": "[encoded data removed]",
      "text/plain": [
       "<matplotlib.figure.Figure at 0x7fd51c757750>"
      ]
     },
     "metadata": {},
     "output_type": "display_data"
    }
   ],
   "source": [
    "#1 timestep ahead has good prediction\n",
    "\n",
    "pred_first = [item[0] for item in pred_x_test][:300]\n",
    "y_first = [item[0] for item in y_test][:300]\n",
    "\n",
    "# line_test_pred = np.reshape(pred_test, pred_test.shape[0])\n",
    "# line_test_real = np.reshape(y_test_inv, y_test_inv.shape[0])\n",
    "plt.figure(figsize=(20,10))\n",
    "plt.plot(pred_first, color='blue',label='Prediction', linewidth=1)\n",
    "plt.plot(y_first, color='red',label='Original', linewidth=1)\n",
    "plt.legend(loc='best')\n",
    "plt.title('Test - Comparison')\n",
    "plt.show()"
   ]
  },
  {
   "cell_type": "markdown",
   "metadata": {},
   "source": [
    "### Encoder/Decoder w/ features"
   ]
  },
  {
   "cell_type": "code",
   "execution_count": 46,
   "metadata": {},
   "outputs": [],
   "source": [
    "def train_test_features(df, pathway, split_proportion, seq_len_x, seq_len_y, scaler, \n",
    "                         traffic_scaler, print_shapes = True):\n",
    "    \n",
    "    #Split features from response variable\n",
    "    X = points_1767_chicstar[[\"CHIC--STAR\"]].as_matrix()\n",
    "    \n",
    "    #Normalize\n",
    "    #X = scaler.fit_transform(X)\n",
    "    #Y = traffic_scaler.fit_transform(Y)\n",
    "\n",
    "    result_X = []\n",
    "    result_Y = []\n",
    "    \n",
    "    sample_count = 0\n",
    "    for index in range(X.shape[0] - (seq_len_x + seq_len_y + 1)):\n",
    "        #result_X.append(X[index: index + seq_len_x]) #adding CHIC--STAR\n",
    "        X_seq = X[index: index + seq_len_x]\n",
    "        mean = np.mean(X_seq)\n",
    "        std = np.std(X_seq)**2\n",
    "        max_val = np.max(X_seq)\n",
    "        min_val = np.min(X_seq)\n",
    "        skewness = feature_calculators.skewness(pd.Series(X_seq.reshape(X_seq.shape[0])))\n",
    "        autocorrelation = feature_calculators.autocorrelation(pd.Series(X_seq.reshape(X_seq.shape[0])), 1)\n",
    "        for val in range(index, index + seq_len_x):\n",
    "            X_val = X[val]\n",
    "            X_val = np.vstack((X_val, [mean])) #mean\n",
    "            X_val = np.vstack((X_val, [std])) #variance\n",
    "            X_val = np.vstack((X_val, [max_val])) #max\n",
    "            X_val = np.vstack((X_val, [min_val])) #min\n",
    "            X_val = np.vstack((X_val, [skewness])) #skewness\n",
    "            X_val = np.vstack((X_val, [autocorrelation])) #1st order autocorr\n",
    "            result_X.append(X_val)\n",
    "        result_Y.append(X[index + seq_len_x: index + seq_len_x + seq_len_y])\n",
    "        sample_count += 1\n",
    "        \n",
    "    result_X = np.array(result_X)\n",
    "    result_Y = np.array(result_Y)\n",
    "    \n",
    "    #Normalize\n",
    "    result_X = scaler.fit_transform(np.reshape(result_X, (result_X.shape[0], result_X.shape[1])))\n",
    "    result_Y = traffic_scaler.fit_transform(np.reshape(result_Y, (result_Y.shape[0], result_Y.shape[1])))\n",
    "    \n",
    "    #Reshape\n",
    "    result_X = np.reshape(result_X, (sample_count, seq_len_x, 7))\n",
    "    result_Y = np.reshape(result_Y, (sample_count, seq_len_y, 1))\n",
    "    \n",
    "    #Train-test split\n",
    "    row = int(round(split_proportion * df.shape[0]))\n",
    "    X_train = result_X[:row]\n",
    "    Y_train = result_Y[:row]\n",
    "    X_test = result_X[row:]\n",
    "    Y_test = result_Y[row:]\n",
    "\n",
    "    #X_train = np.reshape(X_train, (row, seq_len_x, 7))\n",
    "    #X_test = np.reshape(X_test, (X_test.shape[0], seq_len_x, 7))\n",
    "    #X_train = X_train.reshape(X_train.shape[0], 1, X_train.shape[1])\n",
    "    #X_test = X_test.reshape(X_test.shape[0], 1, X_test.shape[1])\n",
    "\n",
    "    #Y_train = np.reshape(Y_train, (Y_train.shape[0], Y_train.shape[1], 1))\n",
    "    #Y_test = np.reshape(Y_test, (Y_test.shape[0], Y_test.shape[1], 1))\n",
    "    #Y_train = Y_train.reshape(Y_train.shape[0], 1, Y_train.shape[1])\n",
    "    #Y_test = Y_test.reshape(Y_test.shape[0], 1, Y_test.shape[1])\n",
    "\n",
    "    if print_shapes:\n",
    "        print(\"X_train shape: \", X_train.shape)\n",
    "        print(\"Y_train shape: \", Y_train.shape)\n",
    "        print(\"X_test shape: \", X_test.shape)\n",
    "        print(\"Y_test shape: \", Y_test.shape)\n",
    "    \n",
    "    return X_train, Y_train, X_test, Y_test"
   ]
  },
  {
   "cell_type": "code",
   "execution_count": 68,
   "metadata": {},
   "outputs": [],
   "source": [
    "def train_test_dates(df, pathway, split_proportion, seq_len_x, seq_len_y, scaler, \n",
    "                         traffic_scaler, print_shapes = True):\n",
    "    \n",
    "    #Split features from response variable\n",
    "    X = df.drop('Time', axis = 1).as_matrix() #drop time to get all features\n",
    "    Y = df[[pathway]].as_matrix()\n",
    "    \n",
    "    #Normalize\n",
    "    X = scaler.fit_transform(X)\n",
    "    Y = traffic_scaler.fit_transform(Y)\n",
    "\n",
    "    result_X = []\n",
    "    result_Y = []\n",
    "    \n",
    "    sample_count = 0\n",
    "    for index in range(X.shape[0] - (seq_len_x + seq_len_y + 1)):\n",
    "        #result_X.append(X[index: index + seq_len_x]) #adding CHIC--STAR\n",
    "        X_seq = X[index: index + seq_len_x]\n",
    "        for val in range(index, index + seq_len_x):\n",
    "            result_X.append(X[val])\n",
    "        result_Y.append(Y[index + seq_len_x: index + seq_len_x + seq_len_y])\n",
    "        sample_count += 1\n",
    "        \n",
    "    result_X = np.array(result_X)\n",
    "    result_Y = np.array(result_Y)\n",
    "    \n",
    "    #Normalize\n",
    "    #result_X = scaler.fit_transform(np.reshape(result_X, (result_X.shape[0], result_X.shape[1])))\n",
    "    #result_Y = traffic_scaler.fit_transform(np.reshape(result_Y, (result_Y.shape[0], result_Y.shape[1])))\n",
    "    \n",
    "    #Reshape\n",
    "    result_X = np.reshape(result_X, (sample_count, seq_len_x, X.shape[1]))\n",
    "    result_Y = np.reshape(result_Y, (sample_count, seq_len_y, 1))\n",
    "    \n",
    "    #Train-test split\n",
    "    row = int(round(split_proportion * df.shape[0]))\n",
    "    X_train = result_X[:row]\n",
    "    Y_train = result_Y[:row]\n",
    "    X_test = result_X[row:]\n",
    "    Y_test = result_Y[row:]\n",
    "\n",
    "    #X_train = np.reshape(X_train, (row, seq_len_x, 7))\n",
    "    #X_test = np.reshape(X_test, (X_test.shape[0], seq_len_x, 7))\n",
    "    #X_train = X_train.reshape(X_train.shape[0], 1, X_train.shape[1])\n",
    "    #X_test = X_test.reshape(X_test.shape[0], 1, X_test.shape[1])\n",
    "\n",
    "    #Y_train = np.reshape(Y_train, (Y_train.shape[0], Y_train.shape[1], 1))\n",
    "    #Y_test = np.reshape(Y_test, (Y_test.shape[0], Y_test.shape[1], 1))\n",
    "    #Y_train = Y_train.reshape(Y_train.shape[0], 1, Y_train.shape[1])\n",
    "    #Y_test = Y_test.reshape(Y_test.shape[0], 1, Y_test.shape[1])\n",
    "\n",
    "    if print_shapes:\n",
    "        print(\"X_train shape: \", X_train.shape)\n",
    "        print(\"Y_train shape: \", Y_train.shape)\n",
    "        print(\"X_test shape: \", X_test.shape)\n",
    "        print(\"Y_test shape: \", Y_test.shape)\n",
    "    \n",
    "    return X_train, Y_train, X_test, Y_test"
   ]
  },
  {
   "cell_type": "code",
   "execution_count": 69,
   "metadata": {},
   "outputs": [
    {
     "name": "stderr",
     "output_type": "stream",
     "text": [
      "/home/kvsingh/anaconda2/envs/carnd-term1/lib/python2.7/site-packages/ipykernel_launcher.py:5: FutureWarning: Method .as_matrix will be removed in a future version. Use .values instead.\n",
      "  \"\"\"\n",
      "/home/kvsingh/anaconda2/envs/carnd-term1/lib/python2.7/site-packages/ipykernel_launcher.py:6: FutureWarning: Method .as_matrix will be removed in a future version. Use .values instead.\n",
      "  \n"
     ]
    },
    {
     "name": "stdout",
     "output_type": "stream",
     "text": [
      "X_train shape:  (10128, 40, 5)\n",
      "Y_train shape:  (10128, 20, 1)\n",
      "X_test shape:  (1452, 40, 5)\n",
      "Y_test shape:  (1452, 20, 1)\n"
     ]
    }
   ],
   "source": [
    "scaler = MinMaxScaler(feature_range=(0,1))\n",
    "traffic_scaler = MinMaxScaler(feature_range=(0,1))\n",
    "X_train, Y_train, X_test, Y_test = train_test_dates(points_1767_chicstar, \n",
    "                                                            \"CHIC--STAR\", 0.87, 40, 20, scaler, traffic_scaler)"
   ]
  },
  {
   "cell_type": "code",
   "execution_count": 67,
   "metadata": {},
   "outputs": [
    {
     "name": "stderr",
     "output_type": "stream",
     "text": [
      "/home/kvsingh/anaconda2/envs/carnd-term1/lib/python2.7/site-packages/ipykernel_launcher.py:5: UserWarning: The `input_dim` and `input_length` arguments in recurrent layers are deprecated. Use `input_shape` instead.\n",
      "  \"\"\"\n",
      "/home/kvsingh/anaconda2/envs/carnd-term1/lib/python2.7/site-packages/ipykernel_launcher.py:5: UserWarning: Update your `LSTM` call to the Keras 2 API: `LSTM(units=128, return_sequences=False, input_shape=(None, 4))`\n",
      "  \"\"\"\n",
      "/home/kvsingh/anaconda2/envs/carnd-term1/lib/python2.7/site-packages/ipykernel_launcher.py:7: UserWarning: Update your `LSTM` call to the Keras 2 API: `LSTM(units=128, return_sequences=True)`\n",
      "  import sys\n",
      "/home/kvsingh/anaconda2/envs/carnd-term1/lib/python2.7/site-packages/ipykernel_launcher.py:8: UserWarning: Update your `LSTM` call to the Keras 2 API: `LSTM(units=128, return_sequences=True)`\n",
      "  \n"
     ]
    },
    {
     "name": "stdout",
     "output_type": "stream",
     "text": [
      "-- Building --\n",
      "-- Training --\n",
      "Epoch 1/1\n",
      " 5568/10128 [===============>..............] - ETA: 23s - loss: 0.0122"
     ]
    },
    {
     "ename": "KeyboardInterrupt",
     "evalue": "",
     "output_type": "error",
     "traceback": [
      "\u001b[0;31m---------------------------------------------------------------------------\u001b[0m",
      "\u001b[0;31mKeyboardInterrupt\u001b[0m                         Traceback (most recent call last)",
      "\u001b[0;32m<ipython-input-67-97709dae5e1b>\u001b[0m in \u001b[0;36m<module>\u001b[0;34m()\u001b[0m\n\u001b[1;32m     15\u001b[0m \u001b[0;32mprint\u001b[0m\u001b[0;34m(\u001b[0m\u001b[0;34m'-- Training --'\u001b[0m\u001b[0;34m)\u001b[0m\u001b[0;34m\u001b[0m\u001b[0m\n\u001b[1;32m     16\u001b[0m \u001b[0;32mfor\u001b[0m \u001b[0mi\u001b[0m \u001b[0;32min\u001b[0m \u001b[0mrange\u001b[0m\u001b[0;34m(\u001b[0m\u001b[0mnb_epoch\u001b[0m\u001b[0;34m)\u001b[0m\u001b[0;34m:\u001b[0m\u001b[0;34m\u001b[0m\u001b[0m\n\u001b[0;32m---> 17\u001b[0;31m     \u001b[0mmodel_multiple_features\u001b[0m\u001b[0;34m.\u001b[0m\u001b[0mfit\u001b[0m\u001b[0;34m(\u001b[0m\u001b[0mX_train\u001b[0m\u001b[0;34m,\u001b[0m \u001b[0mY_train\u001b[0m\u001b[0;34m,\u001b[0m \u001b[0mepochs\u001b[0m\u001b[0;34m=\u001b[0m\u001b[0;36m1\u001b[0m\u001b[0;34m,\u001b[0m \u001b[0mbatch_size\u001b[0m\u001b[0;34m=\u001b[0m\u001b[0mbatch_size\u001b[0m\u001b[0;34m,\u001b[0m \u001b[0mshuffle\u001b[0m\u001b[0;34m=\u001b[0m\u001b[0mFalse\u001b[0m\u001b[0;34m)\u001b[0m\u001b[0;34m\u001b[0m\u001b[0m\n\u001b[0m\u001b[1;32m     18\u001b[0m     \u001b[0mmodel_multiple_features\u001b[0m\u001b[0;34m.\u001b[0m\u001b[0mreset_states\u001b[0m\u001b[0;34m(\u001b[0m\u001b[0;34m)\u001b[0m\u001b[0;34m\u001b[0m\u001b[0m\n",
      "\u001b[0;32m/home/kvsingh/anaconda2/envs/carnd-term1/lib/python2.7/site-packages/keras/models.pyc\u001b[0m in \u001b[0;36mfit\u001b[0;34m(self, x, y, batch_size, epochs, verbose, callbacks, validation_split, validation_data, shuffle, class_weight, sample_weight, initial_epoch, **kwargs)\u001b[0m\n\u001b[1;32m    861\u001b[0m                               \u001b[0mclass_weight\u001b[0m\u001b[0;34m=\u001b[0m\u001b[0mclass_weight\u001b[0m\u001b[0;34m,\u001b[0m\u001b[0;34m\u001b[0m\u001b[0m\n\u001b[1;32m    862\u001b[0m                               \u001b[0msample_weight\u001b[0m\u001b[0;34m=\u001b[0m\u001b[0msample_weight\u001b[0m\u001b[0;34m,\u001b[0m\u001b[0;34m\u001b[0m\u001b[0m\n\u001b[0;32m--> 863\u001b[0;31m                               initial_epoch=initial_epoch)\n\u001b[0m\u001b[1;32m    864\u001b[0m \u001b[0;34m\u001b[0m\u001b[0m\n\u001b[1;32m    865\u001b[0m     def evaluate(self, x, y, batch_size=32, verbose=1,\n",
      "\u001b[0;32m/home/kvsingh/anaconda2/envs/carnd-term1/lib/python2.7/site-packages/keras/engine/training.pyc\u001b[0m in \u001b[0;36mfit\u001b[0;34m(self, x, y, batch_size, epochs, verbose, callbacks, validation_split, validation_data, shuffle, class_weight, sample_weight, initial_epoch, **kwargs)\u001b[0m\n\u001b[1;32m   1428\u001b[0m                               \u001b[0mval_f\u001b[0m\u001b[0;34m=\u001b[0m\u001b[0mval_f\u001b[0m\u001b[0;34m,\u001b[0m \u001b[0mval_ins\u001b[0m\u001b[0;34m=\u001b[0m\u001b[0mval_ins\u001b[0m\u001b[0;34m,\u001b[0m \u001b[0mshuffle\u001b[0m\u001b[0;34m=\u001b[0m\u001b[0mshuffle\u001b[0m\u001b[0;34m,\u001b[0m\u001b[0;34m\u001b[0m\u001b[0m\n\u001b[1;32m   1429\u001b[0m                               \u001b[0mcallback_metrics\u001b[0m\u001b[0;34m=\u001b[0m\u001b[0mcallback_metrics\u001b[0m\u001b[0;34m,\u001b[0m\u001b[0;34m\u001b[0m\u001b[0m\n\u001b[0;32m-> 1430\u001b[0;31m                               initial_epoch=initial_epoch)\n\u001b[0m\u001b[1;32m   1431\u001b[0m \u001b[0;34m\u001b[0m\u001b[0m\n\u001b[1;32m   1432\u001b[0m     \u001b[0;32mdef\u001b[0m \u001b[0mevaluate\u001b[0m\u001b[0;34m(\u001b[0m\u001b[0mself\u001b[0m\u001b[0;34m,\u001b[0m \u001b[0mx\u001b[0m\u001b[0;34m,\u001b[0m \u001b[0my\u001b[0m\u001b[0;34m,\u001b[0m \u001b[0mbatch_size\u001b[0m\u001b[0;34m=\u001b[0m\u001b[0;36m32\u001b[0m\u001b[0;34m,\u001b[0m \u001b[0mverbose\u001b[0m\u001b[0;34m=\u001b[0m\u001b[0;36m1\u001b[0m\u001b[0;34m,\u001b[0m \u001b[0msample_weight\u001b[0m\u001b[0;34m=\u001b[0m\u001b[0mNone\u001b[0m\u001b[0;34m)\u001b[0m\u001b[0;34m:\u001b[0m\u001b[0;34m\u001b[0m\u001b[0m\n",
      "\u001b[0;32m/home/kvsingh/anaconda2/envs/carnd-term1/lib/python2.7/site-packages/keras/engine/training.pyc\u001b[0m in \u001b[0;36m_fit_loop\u001b[0;34m(self, f, ins, out_labels, batch_size, epochs, verbose, callbacks, val_f, val_ins, shuffle, callback_metrics, initial_epoch)\u001b[0m\n\u001b[1;32m   1077\u001b[0m                 \u001b[0mbatch_logs\u001b[0m\u001b[0;34m[\u001b[0m\u001b[0;34m'size'\u001b[0m\u001b[0;34m]\u001b[0m \u001b[0;34m=\u001b[0m \u001b[0mlen\u001b[0m\u001b[0;34m(\u001b[0m\u001b[0mbatch_ids\u001b[0m\u001b[0;34m)\u001b[0m\u001b[0;34m\u001b[0m\u001b[0m\n\u001b[1;32m   1078\u001b[0m                 \u001b[0mcallbacks\u001b[0m\u001b[0;34m.\u001b[0m\u001b[0mon_batch_begin\u001b[0m\u001b[0;34m(\u001b[0m\u001b[0mbatch_index\u001b[0m\u001b[0;34m,\u001b[0m \u001b[0mbatch_logs\u001b[0m\u001b[0;34m)\u001b[0m\u001b[0;34m\u001b[0m\u001b[0m\n\u001b[0;32m-> 1079\u001b[0;31m                 \u001b[0mouts\u001b[0m \u001b[0;34m=\u001b[0m \u001b[0mf\u001b[0m\u001b[0;34m(\u001b[0m\u001b[0mins_batch\u001b[0m\u001b[0;34m)\u001b[0m\u001b[0;34m\u001b[0m\u001b[0m\n\u001b[0m\u001b[1;32m   1080\u001b[0m                 \u001b[0;32mif\u001b[0m \u001b[0;32mnot\u001b[0m \u001b[0misinstance\u001b[0m\u001b[0;34m(\u001b[0m\u001b[0mouts\u001b[0m\u001b[0;34m,\u001b[0m \u001b[0mlist\u001b[0m\u001b[0;34m)\u001b[0m\u001b[0;34m:\u001b[0m\u001b[0;34m\u001b[0m\u001b[0m\n\u001b[1;32m   1081\u001b[0m                     \u001b[0mouts\u001b[0m \u001b[0;34m=\u001b[0m \u001b[0;34m[\u001b[0m\u001b[0mouts\u001b[0m\u001b[0;34m]\u001b[0m\u001b[0;34m\u001b[0m\u001b[0m\n",
      "\u001b[0;32m/home/kvsingh/anaconda2/envs/carnd-term1/lib/python2.7/site-packages/keras/backend/tensorflow_backend.pyc\u001b[0m in \u001b[0;36m__call__\u001b[0;34m(self, inputs)\u001b[0m\n\u001b[1;32m   2266\u001b[0m         updated = session.run(self.outputs + [self.updates_op],\n\u001b[1;32m   2267\u001b[0m                               \u001b[0mfeed_dict\u001b[0m\u001b[0;34m=\u001b[0m\u001b[0mfeed_dict\u001b[0m\u001b[0;34m,\u001b[0m\u001b[0;34m\u001b[0m\u001b[0m\n\u001b[0;32m-> 2268\u001b[0;31m                               **self.session_kwargs)\n\u001b[0m\u001b[1;32m   2269\u001b[0m         \u001b[0;32mreturn\u001b[0m \u001b[0mupdated\u001b[0m\u001b[0;34m[\u001b[0m\u001b[0;34m:\u001b[0m\u001b[0mlen\u001b[0m\u001b[0;34m(\u001b[0m\u001b[0mself\u001b[0m\u001b[0;34m.\u001b[0m\u001b[0moutputs\u001b[0m\u001b[0;34m)\u001b[0m\u001b[0;34m]\u001b[0m\u001b[0;34m\u001b[0m\u001b[0m\n\u001b[1;32m   2270\u001b[0m \u001b[0;34m\u001b[0m\u001b[0m\n",
      "\u001b[0;32m/home/kvsingh/anaconda2/envs/carnd-term1/lib/python2.7/site-packages/tensorflow/python/client/session.pyc\u001b[0m in \u001b[0;36mrun\u001b[0;34m(self, fetches, feed_dict, options, run_metadata)\u001b[0m\n\u001b[1;32m    787\u001b[0m     \u001b[0;32mtry\u001b[0m\u001b[0;34m:\u001b[0m\u001b[0;34m\u001b[0m\u001b[0m\n\u001b[1;32m    788\u001b[0m       result = self._run(None, fetches, feed_dict, options_ptr,\n\u001b[0;32m--> 789\u001b[0;31m                          run_metadata_ptr)\n\u001b[0m\u001b[1;32m    790\u001b[0m       \u001b[0;32mif\u001b[0m \u001b[0mrun_metadata\u001b[0m\u001b[0;34m:\u001b[0m\u001b[0;34m\u001b[0m\u001b[0m\n\u001b[1;32m    791\u001b[0m         \u001b[0mproto_data\u001b[0m \u001b[0;34m=\u001b[0m \u001b[0mtf_session\u001b[0m\u001b[0;34m.\u001b[0m\u001b[0mTF_GetBuffer\u001b[0m\u001b[0;34m(\u001b[0m\u001b[0mrun_metadata_ptr\u001b[0m\u001b[0;34m)\u001b[0m\u001b[0;34m\u001b[0m\u001b[0m\n",
      "\u001b[0;32m/home/kvsingh/anaconda2/envs/carnd-term1/lib/python2.7/site-packages/tensorflow/python/client/session.pyc\u001b[0m in \u001b[0;36m_run\u001b[0;34m(self, handle, fetches, feed_dict, options, run_metadata)\u001b[0m\n\u001b[1;32m    995\u001b[0m     \u001b[0;32mif\u001b[0m \u001b[0mfinal_fetches\u001b[0m \u001b[0;32mor\u001b[0m \u001b[0mfinal_targets\u001b[0m\u001b[0;34m:\u001b[0m\u001b[0;34m\u001b[0m\u001b[0m\n\u001b[1;32m    996\u001b[0m       results = self._do_run(handle, final_targets, final_fetches,\n\u001b[0;32m--> 997\u001b[0;31m                              feed_dict_string, options, run_metadata)\n\u001b[0m\u001b[1;32m    998\u001b[0m     \u001b[0;32melse\u001b[0m\u001b[0;34m:\u001b[0m\u001b[0;34m\u001b[0m\u001b[0m\n\u001b[1;32m    999\u001b[0m       \u001b[0mresults\u001b[0m \u001b[0;34m=\u001b[0m \u001b[0;34m[\u001b[0m\u001b[0;34m]\u001b[0m\u001b[0;34m\u001b[0m\u001b[0m\n",
      "\u001b[0;32m/home/kvsingh/anaconda2/envs/carnd-term1/lib/python2.7/site-packages/tensorflow/python/client/session.pyc\u001b[0m in \u001b[0;36m_do_run\u001b[0;34m(self, handle, target_list, fetch_list, feed_dict, options, run_metadata)\u001b[0m\n\u001b[1;32m   1130\u001b[0m     \u001b[0;32mif\u001b[0m \u001b[0mhandle\u001b[0m \u001b[0;32mis\u001b[0m \u001b[0mNone\u001b[0m\u001b[0;34m:\u001b[0m\u001b[0;34m\u001b[0m\u001b[0m\n\u001b[1;32m   1131\u001b[0m       return self._do_call(_run_fn, self._session, feed_dict, fetch_list,\n\u001b[0;32m-> 1132\u001b[0;31m                            target_list, options, run_metadata)\n\u001b[0m\u001b[1;32m   1133\u001b[0m     \u001b[0;32melse\u001b[0m\u001b[0;34m:\u001b[0m\u001b[0;34m\u001b[0m\u001b[0m\n\u001b[1;32m   1134\u001b[0m       return self._do_call(_prun_fn, self._session, handle, feed_dict,\n",
      "\u001b[0;32m/home/kvsingh/anaconda2/envs/carnd-term1/lib/python2.7/site-packages/tensorflow/python/client/session.pyc\u001b[0m in \u001b[0;36m_do_call\u001b[0;34m(self, fn, *args)\u001b[0m\n\u001b[1;32m   1137\u001b[0m   \u001b[0;32mdef\u001b[0m \u001b[0m_do_call\u001b[0m\u001b[0;34m(\u001b[0m\u001b[0mself\u001b[0m\u001b[0;34m,\u001b[0m \u001b[0mfn\u001b[0m\u001b[0;34m,\u001b[0m \u001b[0;34m*\u001b[0m\u001b[0margs\u001b[0m\u001b[0;34m)\u001b[0m\u001b[0;34m:\u001b[0m\u001b[0;34m\u001b[0m\u001b[0m\n\u001b[1;32m   1138\u001b[0m     \u001b[0;32mtry\u001b[0m\u001b[0;34m:\u001b[0m\u001b[0;34m\u001b[0m\u001b[0m\n\u001b[0;32m-> 1139\u001b[0;31m       \u001b[0;32mreturn\u001b[0m \u001b[0mfn\u001b[0m\u001b[0;34m(\u001b[0m\u001b[0;34m*\u001b[0m\u001b[0margs\u001b[0m\u001b[0;34m)\u001b[0m\u001b[0;34m\u001b[0m\u001b[0m\n\u001b[0m\u001b[1;32m   1140\u001b[0m     \u001b[0;32mexcept\u001b[0m \u001b[0merrors\u001b[0m\u001b[0;34m.\u001b[0m\u001b[0mOpError\u001b[0m \u001b[0;32mas\u001b[0m \u001b[0me\u001b[0m\u001b[0;34m:\u001b[0m\u001b[0;34m\u001b[0m\u001b[0m\n\u001b[1;32m   1141\u001b[0m       \u001b[0mmessage\u001b[0m \u001b[0;34m=\u001b[0m \u001b[0mcompat\u001b[0m\u001b[0;34m.\u001b[0m\u001b[0mas_text\u001b[0m\u001b[0;34m(\u001b[0m\u001b[0me\u001b[0m\u001b[0;34m.\u001b[0m\u001b[0mmessage\u001b[0m\u001b[0;34m)\u001b[0m\u001b[0;34m\u001b[0m\u001b[0m\n",
      "\u001b[0;32m/home/kvsingh/anaconda2/envs/carnd-term1/lib/python2.7/site-packages/tensorflow/python/client/session.pyc\u001b[0m in \u001b[0;36m_run_fn\u001b[0;34m(session, feed_dict, fetch_list, target_list, options, run_metadata)\u001b[0m\n\u001b[1;32m   1119\u001b[0m         return tf_session.TF_Run(session, options,\n\u001b[1;32m   1120\u001b[0m                                  \u001b[0mfeed_dict\u001b[0m\u001b[0;34m,\u001b[0m \u001b[0mfetch_list\u001b[0m\u001b[0;34m,\u001b[0m \u001b[0mtarget_list\u001b[0m\u001b[0;34m,\u001b[0m\u001b[0;34m\u001b[0m\u001b[0m\n\u001b[0;32m-> 1121\u001b[0;31m                                  status, run_metadata)\n\u001b[0m\u001b[1;32m   1122\u001b[0m \u001b[0;34m\u001b[0m\u001b[0m\n\u001b[1;32m   1123\u001b[0m     \u001b[0;32mdef\u001b[0m \u001b[0m_prun_fn\u001b[0m\u001b[0;34m(\u001b[0m\u001b[0msession\u001b[0m\u001b[0;34m,\u001b[0m \u001b[0mhandle\u001b[0m\u001b[0;34m,\u001b[0m \u001b[0mfeed_dict\u001b[0m\u001b[0;34m,\u001b[0m \u001b[0mfetch_list\u001b[0m\u001b[0;34m)\u001b[0m\u001b[0;34m:\u001b[0m\u001b[0;34m\u001b[0m\u001b[0m\n",
      "\u001b[0;31mKeyboardInterrupt\u001b[0m: "
     ]
    }
   ],
   "source": [
    "batch_size = 24\n",
    "nb_epoch = 500\n",
    "\n",
    "model_multiple_features = Sequential()\n",
    "model_multiple_features.add(LSTM(input_dim = 5, output_dim=128, return_sequences=False))\n",
    "model_multiple_features.add(RepeatVector(20)) #seq_len_y\n",
    "model_multiple_features.add(LSTM(output_dim=128, return_sequences=True))\n",
    "model_multiple_features.add(LSTM(output_dim=128, return_sequences=True))\n",
    "model_multiple_features.add(TimeDistributed(Dense(1))) \n",
    "    \n",
    "print(\"-- Building --\")\n",
    "model_multiple_features.compile(loss=\"mse\",\n",
    "                  optimizer = 'adam')\n",
    "\n",
    "print('-- Training --')\n",
    "for i in range(nb_epoch):\n",
    "    model_multiple_features.fit(X_train, Y_train, epochs=1, batch_size=batch_size, shuffle=False)\n",
    "    model_multiple_features.reset_states()"
   ]
  },
  {
   "cell_type": "markdown",
   "metadata": {},
   "source": [
    "### Encoder/Decoder w/ Attention"
   ]
  },
  {
   "cell_type": "code",
   "execution_count": 16,
   "metadata": {},
   "outputs": [],
   "source": [
    "import seq2seq\n",
    "from seq2seq.models import SimpleSeq2Seq\n",
    "from seq2seq.models import Seq2Seq\n",
    "from seq2seq.models import AttentionSeq2Seq"
   ]
  },
  {
   "cell_type": "code",
   "execution_count": 21,
   "metadata": {},
   "outputs": [
    {
     "name": "stderr",
     "output_type": "stream",
     "text": [
      "/home/kvsingh/anaconda2/envs/carnd-term1/lib/python2.7/site-packages/ipykernel_launcher.py:21: FutureWarning: Method .as_matrix will be removed in a future version. Use .values instead.\n"
     ]
    },
    {
     "name": "stdout",
     "output_type": "stream",
     "text": [
      "X_train shape:  (51949, 10, 1)\n",
      "Y_train shape:  (51949, 5, 1)\n",
      "X_test shape:  (5756, 10, 1)\n",
      "Y_test shape:  (5756, 5, 1)\n",
      "-- Building --\n",
      "-- Training --\n",
      "Train on 41559 samples, validate on 10390 samples\n",
      "Epoch 1/1\n",
      "41559/41559 [==============================] - 110s - loss: 0.0036 - val_loss: 0.0029\n",
      "Train on 41559 samples, validate on 10390 samples\n",
      "Epoch 1/1\n",
      "41559/41559 [==============================] - 108s - loss: 0.0025 - val_loss: 0.0027\n",
      "Train on 41559 samples, validate on 10390 samples\n",
      "Epoch 1/1\n",
      "41559/41559 [==============================] - 109s - loss: 0.0023 - val_loss: 0.0027\n",
      "Train on 41559 samples, validate on 10390 samples\n",
      "Epoch 1/1\n",
      "41559/41559 [==============================] - 109s - loss: 0.0022 - val_loss: 0.0027\n",
      "Train on 41559 samples, validate on 10390 samples\n",
      "Epoch 1/1\n",
      "41559/41559 [==============================] - 108s - loss: 0.0022 - val_loss: 0.0028\n",
      "Train on 41559 samples, validate on 10390 samples\n",
      "Epoch 1/1\n",
      "41559/41559 [==============================] - 108s - loss: 0.0021 - val_loss: 0.0028\n",
      "Train on 41559 samples, validate on 10390 samples\n",
      "Epoch 1/1\n",
      "41559/41559 [==============================] - 108s - loss: 0.0021 - val_loss: 0.0028\n",
      "Train on 41559 samples, validate on 10390 samples\n",
      "Epoch 1/1\n",
      "41559/41559 [==============================] - 108s - loss: 0.0021 - val_loss: 0.0028\n",
      "Train on 41559 samples, validate on 10390 samples\n",
      "Epoch 1/1\n",
      "41559/41559 [==============================] - 108s - loss: 0.0021 - val_loss: 0.0028\n",
      "Train on 41559 samples, validate on 10390 samples\n",
      "Epoch 1/1\n",
      "41559/41559 [==============================] - 108s - loss: 0.0021 - val_loss: 0.0027\n",
      "Train on 41559 samples, validate on 10390 samples\n",
      "Epoch 1/1\n",
      "41559/41559 [==============================] - 108s - loss: 0.0021 - val_loss: 0.0027\n",
      "Train on 41559 samples, validate on 10390 samples\n",
      "Epoch 1/1\n",
      "41559/41559 [==============================] - 108s - loss: 0.0021 - val_loss: 0.0026\n",
      "Train on 41559 samples, validate on 10390 samples\n",
      "Epoch 1/1\n",
      "41559/41559 [==============================] - 107s - loss: 0.0021 - val_loss: 0.0026\n",
      "Train on 41559 samples, validate on 10390 samples\n",
      "Epoch 1/1\n",
      "41559/41559 [==============================] - 108s - loss: 0.0021 - val_loss: 0.0026\n",
      "Train on 41559 samples, validate on 10390 samples\n",
      "Epoch 1/1\n",
      "41559/41559 [==============================] - 110s - loss: 0.0021 - val_loss: 0.0026\n",
      "Train on 41559 samples, validate on 10390 samples\n",
      "Epoch 1/1\n",
      "41559/41559 [==============================] - 109s - loss: 0.0021 - val_loss: 0.0026\n",
      "Train on 41559 samples, validate on 10390 samples\n",
      "Epoch 1/1\n",
      "41559/41559 [==============================] - 109s - loss: 0.0021 - val_loss: 0.0026\n",
      "Train on 41559 samples, validate on 10390 samples\n",
      "Epoch 1/1\n",
      "41559/41559 [==============================] - 111s - loss: 0.0021 - val_loss: 0.0026\n",
      "Train on 41559 samples, validate on 10390 samples\n",
      "Epoch 1/1\n",
      "41559/41559 [==============================] - 109s - loss: 0.0021 - val_loss: 0.0026\n",
      "Train on 41559 samples, validate on 10390 samples\n",
      "Epoch 1/1\n",
      "41559/41559 [==============================] - 109s - loss: 0.0020 - val_loss: 0.0026\n",
      "Train on 41559 samples, validate on 10390 samples\n",
      "Epoch 1/1\n",
      "41559/41559 [==============================] - 108s - loss: 0.0020 - val_loss: 0.0026\n",
      "Train on 41559 samples, validate on 10390 samples\n",
      "Epoch 1/1\n",
      "41559/41559 [==============================] - 107s - loss: 0.0020 - val_loss: 0.0026\n",
      "Train on 41559 samples, validate on 10390 samples\n",
      "Epoch 1/1\n",
      "41559/41559 [==============================] - 109s - loss: 0.0020 - val_loss: 0.0026\n",
      "Train on 41559 samples, validate on 10390 samples\n",
      "Epoch 1/1\n",
      "41559/41559 [==============================] - 108s - loss: 0.0020 - val_loss: 0.0026\n",
      "Train on 41559 samples, validate on 10390 samples\n",
      "Epoch 1/1\n",
      "41559/41559 [==============================] - 108s - loss: 0.0020 - val_loss: 0.0026\n",
      "Train on 41559 samples, validate on 10390 samples\n",
      "Epoch 1/1\n",
      "41559/41559 [==============================] - 109s - loss: 0.0020 - val_loss: 0.0026\n",
      "Train on 41559 samples, validate on 10390 samples\n",
      "Epoch 1/1\n",
      "41559/41559 [==============================] - 108s - loss: 0.0020 - val_loss: 0.0026\n",
      "Train on 41559 samples, validate on 10390 samples\n",
      "Epoch 1/1\n",
      "41559/41559 [==============================] - 108s - loss: 0.0020 - val_loss: 0.0026\n",
      "Train on 41559 samples, validate on 10390 samples\n",
      "Epoch 1/1\n",
      "41559/41559 [==============================] - 108s - loss: 0.0020 - val_loss: 0.0026\n",
      "Train on 41559 samples, validate on 10390 samples\n",
      "Epoch 1/1\n",
      "41559/41559 [==============================] - 108s - loss: 0.0020 - val_loss: 0.0026\n",
      "Train on 41559 samples, validate on 10390 samples\n",
      "Epoch 1/1\n",
      "41559/41559 [==============================] - 108s - loss: 0.0020 - val_loss: 0.0025\n",
      "Train on 41559 samples, validate on 10390 samples\n",
      "Epoch 1/1\n",
      "41559/41559 [==============================] - 107s - loss: 0.0020 - val_loss: 0.0025\n",
      "Train on 41559 samples, validate on 10390 samples\n",
      "Epoch 1/1\n",
      "41559/41559 [==============================] - 109s - loss: 0.0020 - val_loss: 0.0025\n",
      "Train on 41559 samples, validate on 10390 samples\n",
      "Epoch 1/1\n",
      "41559/41559 [==============================] - 110s - loss: 0.0020 - val_loss: 0.0025\n",
      "Train on 41559 samples, validate on 10390 samples\n",
      "Epoch 1/1\n",
      "41559/41559 [==============================] - 108s - loss: 0.0020 - val_loss: 0.0024\n",
      "Train on 41559 samples, validate on 10390 samples\n",
      "Epoch 1/1\n",
      "41559/41559 [==============================] - 108s - loss: 0.0020 - val_loss: 0.0025\n",
      "Train on 41559 samples, validate on 10390 samples\n",
      "Epoch 1/1\n",
      "41559/41559 [==============================] - 108s - loss: 0.0020 - val_loss: 0.0024\n",
      "Train on 41559 samples, validate on 10390 samples\n",
      "Epoch 1/1\n",
      "41559/41559 [==============================] - 109s - loss: 0.0020 - val_loss: 0.0024\n",
      "Train on 41559 samples, validate on 10390 samples\n",
      "Epoch 1/1\n",
      "41559/41559 [==============================] - 108s - loss: 0.0019 - val_loss: 0.0024\n",
      "Train on 41559 samples, validate on 10390 samples\n",
      "Epoch 1/1\n",
      "41559/41559 [==============================] - 110s - loss: 0.0019 - val_loss: 0.0024\n",
      "Train on 41559 samples, validate on 10390 samples\n",
      "Epoch 1/1\n",
      "41559/41559 [==============================] - 109s - loss: 0.0019 - val_loss: 0.0024\n",
      "Train on 41559 samples, validate on 10390 samples\n",
      "Epoch 1/1\n",
      "41559/41559 [==============================] - 109s - loss: 0.0019 - val_loss: 0.0024\n",
      "Train on 41559 samples, validate on 10390 samples\n",
      "Epoch 1/1\n",
      "41559/41559 [==============================] - 108s - loss: 0.0019 - val_loss: 0.0024\n",
      "Train on 41559 samples, validate on 10390 samples\n",
      "Epoch 1/1\n",
      "41559/41559 [==============================] - 107s - loss: 0.0019 - val_loss: 0.0024\n",
      "Train on 41559 samples, validate on 10390 samples\n",
      "Epoch 1/1\n",
      "41559/41559 [==============================] - 108s - loss: 0.0019 - val_loss: 0.0024\n",
      "Train on 41559 samples, validate on 10390 samples\n",
      "Epoch 1/1\n",
      "41559/41559 [==============================] - 109s - loss: 0.0019 - val_loss: 0.0024\n",
      "Train on 41559 samples, validate on 10390 samples\n",
      "Epoch 1/1\n",
      "41559/41559 [==============================] - 110s - loss: 0.0019 - val_loss: 0.0023\n",
      "Train on 41559 samples, validate on 10390 samples\n",
      "Epoch 1/1\n",
      "41559/41559 [==============================] - 110s - loss: 0.0019 - val_loss: 0.0023\n",
      "Train on 41559 samples, validate on 10390 samples\n",
      "Epoch 1/1\n",
      "41559/41559 [==============================] - 109s - loss: 0.0019 - val_loss: 0.0023\n",
      "Train on 41559 samples, validate on 10390 samples\n",
      "Epoch 1/1\n",
      "12752/41559 [========>.....................] - ETA: 70s - loss: 0.0012"
     ]
    },
    {
     "name": "stderr",
     "output_type": "stream",
     "text": [
      "IOPub message rate exceeded.\n",
      "The notebook server will temporarily stop sending output\n",
      "to the client in order to avoid crashing it.\n",
      "To change this limit, set the config variable\n",
      "`--NotebookApp.iopub_msg_rate_limit`.\n",
      "\n",
      "Current values:\n",
      "NotebookApp.iopub_msg_rate_limit=1000.0 (msgs/sec)\n",
      "NotebookApp.rate_limit_window=3.0 (secs)\n",
      "\n"
     ]
    }
   ],
   "source": [
    "batch_size = 16\n",
    "nb_epoch = 100\n",
    "\n",
    "#input sequence must be same length as output sequence in the attention scheme\n",
    "seq_len_x = 10\n",
    "seq_len_y = 5\n",
    "\n",
    "scaler = MinMaxScaler(feature_range=(0,1))\n",
    "traffic_scaler = MinMaxScaler(feature_range=(0,1))\n",
    "X_train, Y_train, X_test, Y_test = train_test_multistep(points_1767_chicstar, \"CHIC--STAR\", 0.9, seq_len_x, \n",
    "                                                        seq_len_y, scaler, traffic_scaler)\n",
    "\n",
    "# define model\n",
    "model_attention = AttentionSeq2Seq(input_dim=1, input_length=10, hidden_dim=10, output_length=5, output_dim=1, depth=1)\n",
    "\n",
    "\n",
    "print(\"-- Building --\")\n",
    "model_attention.compile(loss='mse', \n",
    "                        optimizer='adam')\n",
    "\n",
    "print('-- Training --')\n",
    "for i in range(nb_epoch):\n",
    "    model_attention.fit(X_train, Y_train, epochs=1, batch_size=batch_size, validation_split = 0.2, shuffle=False)\n",
    "    model_attention.reset_states()"
   ]
  },
  {
   "cell_type": "code",
   "execution_count": 24,
   "metadata": {},
   "outputs": [],
   "source": [
    "# walk-forward validation on the test data\n",
    "pred_x_test = model_attention.predict(X_test, batch_size)\n",
    "pred_x_test = np.reshape(pred_x_test, (pred_x_test.shape[0], pred_x_test.shape[1]))\n",
    "pred_test = inverse_transform(pred_x_test, traffic_scaler)\n",
    "\n",
    "y_test = np.float_(Y_test)\n",
    "y_test = np.reshape(y_test, (y_test.shape[0], y_test.shape[1]))\n",
    "y_test_inv = inverse_transform(y_test, traffic_scaler)"
   ]
  },
  {
   "cell_type": "code",
   "execution_count": 27,
   "metadata": {},
   "outputs": [
    {
     "data": {
      "image/png": "[encoded data removed]",
      "text/plain": [
       "<matplotlib.figure.Figure at 0x7fa463db90d0>"
      ]
     },
     "metadata": {},
     "output_type": "display_data"
    }
   ],
   "source": [
    "#1 timestep ahead has good prediction\n",
    "\n",
    "pred_first = [item[0] for item in pred_x_test][1:300]\n",
    "y_first = [item[0] for item in y_test][:300]\n",
    "\n",
    "# line_test_pred = np.reshape(pred_test, pred_test.shape[0])\n",
    "# line_test_real = np.reshape(y_test_inv, y_test_inv.shape[0])\n",
    "plt.figure(figsize=(20,10))\n",
    "plt.plot(pred_first, color='blue',label='Prediction', linewidth=1)\n",
    "plt.plot(y_first, color='red',label='Original', linewidth=1)\n",
    "plt.legend(loc='best')\n",
    "plt.title('Test - Comparison')\n",
    "plt.show()"
   ]
  },
  {
   "cell_type": "markdown",
   "metadata": {},
   "source": [
    "### Another Encoder/Decoder (Error Buildup)"
   ]
  },
  {
   "cell_type": "code",
   "execution_count": 16,
   "metadata": {},
   "outputs": [],
   "source": [
    "def train_test_diffseq2seq(df, pathway, split_proportion, seq_len_x, seq_len_y, scaler, \n",
    "                         traffic_scaler, print_shapes = True):\n",
    "    \n",
    "    #Split features from response variable\n",
    "    X = df[[pathway]].as_matrix()\n",
    "    X = scaler.fit_transform(X)\n",
    "    \n",
    "    result_X1 = []\n",
    "    result_X2 = []\n",
    "    result_Y = []\n",
    "\n",
    "    for index in range(X.shape[0] - (seq_len_x + seq_len_y + 1)):\n",
    "        result_X1.append(X[index: index + seq_len_x]) #adding CHIC--STAR\n",
    "        target = X[index + seq_len_x: index + seq_len_x + seq_len_y] #target sequence\n",
    "        result_Y.append(target) \n",
    "        \n",
    "        result_X2.append(np.vstack((X[index + seq_len_x - 1], target[:-1]))) #mock target sequence (shifted back by 1)\n",
    "\n",
    "    result_X1 = np.array(result_X1)\n",
    "    result_X1 = result_X1.reshape(result_X1.shape[0], result_X1[0].shape[0])\n",
    "    result_Y = np.array(result_Y)\n",
    "    result_Y = result_Y.reshape(result_Y.shape[0], result_Y[0].shape[0])\n",
    "    \n",
    "    result_X2 = np.array(result_X2)\n",
    "    result_X2 = result_X2.reshape(result_X2.shape[0], result_X2[0].shape[0])\n",
    "\n",
    "    #Train-test split\n",
    "    row = int(round(split_proportion * df.shape[0]))\n",
    "    X1_train = result_X1[:row]\n",
    "    Y_train = result_Y[:row]\n",
    "    X1_test = result_X1[row:]\n",
    "    Y_test = result_Y[row:]\n",
    "    \n",
    "    X2_train = result_X2[:row]\n",
    "    X2_test = result_X2[row:]\n",
    "    \n",
    "\n",
    "    X1_train = np.reshape(X1_train, (X1_train.shape[0], X1_train.shape[1], 1))\n",
    "    X1_test = np.reshape(X1_test, (X1_test.shape[0], X1_test.shape[1], 1))\n",
    "    \n",
    "    X2_train = np.reshape(X2_train, (X2_train.shape[0], X2_train.shape[1], 1))\n",
    "    X2_test = np.reshape(X2_test, (X2_test.shape[0], X2_test.shape[1], 1))\n",
    "    #X_train = X_train.reshape(X_train.shape[0], 1, X_train.shape[1])\n",
    "    #X_test = X_test.reshape(X_test.shape[0], 1, X_test.shape[1])\n",
    "\n",
    "    Y_train = np.reshape(Y_train, (Y_train.shape[0], Y_train.shape[1], 1))\n",
    "    Y_test = np.reshape(Y_test, (Y_test.shape[0], Y_test.shape[1], 1))\n",
    "    #Y_train = Y_train.reshape(Y_train.shape[0], 1, Y_train.shape[1])\n",
    "    #Y_test = Y_test.reshape(Y_test.shape[0], 1, Y_test.shape[1])\n",
    "\n",
    "    if print_shapes:\n",
    "        print(\"X1_train shape: \", X1_train.shape)\n",
    "        print(\"X2_train shape: \", X2_train.shape)\n",
    "        print(\"Y_train shape: \", Y_train.shape)\n",
    "        print(\"X1_test shape: \", X1_test.shape)\n",
    "        print(\"X2_test shape: \", X2_test.shape)\n",
    "        print(\"Y_test shape: \", Y_test.shape)\n",
    "    \n",
    "    return X1_train, X2_train, Y_train, X1_test, X2_test, Y_test"
   ]
  },
  {
   "cell_type": "code",
   "execution_count": 17,
   "metadata": {},
   "outputs": [
    {
     "name": "stderr",
     "output_type": "stream",
     "text": [
      "/home/kvsingh/anaconda2/envs/carnd-term1/lib/python2.7/site-packages/ipykernel_launcher.py:5: FutureWarning: Method .as_matrix will be removed in a future version. Use .values instead.\n",
      "  \"\"\"\n"
     ]
    },
    {
     "name": "stdout",
     "output_type": "stream",
     "text": [
      "X1_train shape:  (51949, 10, 1)\n",
      "X2_train shape:  (51949, 5, 1)\n",
      "Y_train shape:  (51949, 5, 1)\n",
      "X1_test shape:  (5756, 10, 1)\n",
      "X2_test shape:  (5756, 5, 1)\n",
      "Y_test shape:  (5756, 5, 1)\n"
     ]
    }
   ],
   "source": [
    "scaler = MinMaxScaler(feature_range=(0,1))\n",
    "traffic_scaler = MinMaxScaler(feature_range=(0,1))\n",
    "X1_train, X2_train, Y_train, X1_test, X2_test, Y_test = train_test_diffseq2seq(points_1767_chicstar, \n",
    "                                                            \"CHIC--STAR\", 0.9, 10, 5, scaler, traffic_scaler)"
   ]
  },
  {
   "cell_type": "code",
   "execution_count": 18,
   "metadata": {},
   "outputs": [],
   "source": [
    "batch_size = 21\n",
    "num_encoder_tokens = X1_train.shape[2]\n",
    "nb_epoch = 100\n",
    "\n",
    "# define training encoder\n",
    "encoder_inputs = Input(shape=(None, num_encoder_tokens))\n",
    "encoder = LSTM(10, return_state=True)\n",
    "encoder_outputs, state_h, state_c = encoder(encoder_inputs)\n",
    "encoder_states = [state_h, state_c]\n",
    "\n",
    "# define training decoder\n",
    "decoder_inputs = Input(shape=(None, 1))\n",
    "decoder_lstm = LSTM(10, return_sequences=True, return_state=True)\n",
    "decoder_outputs, _, _ = decoder_lstm(decoder_inputs, initial_state=encoder_states)\n",
    "decoder_dense = TimeDistributed(Dense(1))\n",
    "decoder_outputs = decoder_dense(decoder_outputs)\n",
    "model = Model([encoder_inputs, decoder_inputs], decoder_outputs)\n",
    "\n",
    "# define inference encoder\n",
    "encoder_model = Model(encoder_inputs, encoder_states)\n",
    "\n",
    "# define inference decoder\n",
    "decoder_state_input_h = Input(shape=(10,))\n",
    "decoder_state_input_c = Input(shape=(10,))\n",
    "decoder_states_inputs = [decoder_state_input_h, decoder_state_input_c]\n",
    "decoder_outputs, state_h, state_c = decoder_lstm(decoder_inputs, initial_state=decoder_states_inputs)\n",
    "decoder_states = [state_h, state_c]\n",
    "decoder_outputs = decoder_dense(decoder_outputs)\n",
    "decoder_model = Model([decoder_inputs] + decoder_states_inputs, [decoder_outputs] + decoder_states)"
   ]
  },
  {
   "cell_type": "code",
   "execution_count": 75,
   "metadata": {},
   "outputs": [
    {
     "ename": "ValueError",
     "evalue": "Input 0 is incompatible with layer lstm_50: expected ndim=3, found ndim=4",
     "output_type": "error",
     "traceback": [
      "\u001b[0;31m---------------------------------------------------------------------------\u001b[0m",
      "\u001b[0;31mValueError\u001b[0m                                Traceback (most recent call last)",
      "\u001b[0;32m<ipython-input-75-cdc59c7d917b>\u001b[0m in \u001b[0;36m<module>\u001b[0;34m()\u001b[0m\n\u001b[1;32m      6\u001b[0m \u001b[0mencoder_inputs\u001b[0m \u001b[0;34m=\u001b[0m \u001b[0mInput\u001b[0m\u001b[0;34m(\u001b[0m\u001b[0mshape\u001b[0m\u001b[0;34m=\u001b[0m\u001b[0;34m(\u001b[0m\u001b[0;36m20\u001b[0m\u001b[0;34m,\u001b[0m \u001b[0mnum_encoder_tokens\u001b[0m\u001b[0;34m)\u001b[0m\u001b[0;34m)\u001b[0m\u001b[0;34m\u001b[0m\u001b[0m\n\u001b[1;32m      7\u001b[0m \u001b[0minputs\u001b[0m \u001b[0;34m=\u001b[0m \u001b[0mLambda\u001b[0m\u001b[0;34m(\u001b[0m\u001b[0;32mlambda\u001b[0m \u001b[0mx\u001b[0m\u001b[0;34m:\u001b[0m \u001b[0mkeras\u001b[0m\u001b[0;34m.\u001b[0m\u001b[0mbackend\u001b[0m\u001b[0;34m.\u001b[0m\u001b[0mexpand_dims\u001b[0m\u001b[0;34m(\u001b[0m\u001b[0mx\u001b[0m\u001b[0;34m,\u001b[0m \u001b[0;34m-\u001b[0m\u001b[0;36m1\u001b[0m\u001b[0;34m)\u001b[0m\u001b[0;34m)\u001b[0m\u001b[0;34m(\u001b[0m\u001b[0mencoder_inputs\u001b[0m\u001b[0;34m)\u001b[0m\u001b[0;34m\u001b[0m\u001b[0m\n\u001b[0;32m----> 8\u001b[0;31m \u001b[0mencoder\u001b[0m \u001b[0;34m=\u001b[0m \u001b[0mLSTM\u001b[0m\u001b[0;34m(\u001b[0m\u001b[0;36m128\u001b[0m\u001b[0;34m)\u001b[0m\u001b[0;34m(\u001b[0m\u001b[0minputs\u001b[0m\u001b[0;34m)\u001b[0m\u001b[0;34m\u001b[0m\u001b[0m\n\u001b[0m\u001b[1;32m      9\u001b[0m \u001b[0;31m#encoder_outputs, state_h, state_c = encoder(encoder_inputs)\u001b[0m\u001b[0;34m\u001b[0m\u001b[0;34m\u001b[0m\u001b[0m\n\u001b[1;32m     10\u001b[0m \u001b[0;31m#encoder_states = [state_h, state_c]\u001b[0m\u001b[0;34m\u001b[0m\u001b[0;34m\u001b[0m\u001b[0m\n",
      "\u001b[0;32m/home/kvsingh/anaconda2/envs/carnd-term1/lib/python2.7/site-packages/keras/layers/recurrent.pyc\u001b[0m in \u001b[0;36m__call__\u001b[0;34m(self, inputs, initial_state, **kwargs)\u001b[0m\n\u001b[1;32m    260\u001b[0m         \u001b[0;31m# modify the input spec to include the state.\u001b[0m\u001b[0;34m\u001b[0m\u001b[0;34m\u001b[0m\u001b[0m\n\u001b[1;32m    261\u001b[0m         \u001b[0;32mif\u001b[0m \u001b[0minitial_state\u001b[0m \u001b[0;32mis\u001b[0m \u001b[0mNone\u001b[0m\u001b[0;34m:\u001b[0m\u001b[0;34m\u001b[0m\u001b[0m\n\u001b[0;32m--> 262\u001b[0;31m             \u001b[0;32mreturn\u001b[0m \u001b[0msuper\u001b[0m\u001b[0;34m(\u001b[0m\u001b[0mRecurrent\u001b[0m\u001b[0;34m,\u001b[0m \u001b[0mself\u001b[0m\u001b[0;34m)\u001b[0m\u001b[0;34m.\u001b[0m\u001b[0m__call__\u001b[0m\u001b[0;34m(\u001b[0m\u001b[0minputs\u001b[0m\u001b[0;34m,\u001b[0m \u001b[0;34m**\u001b[0m\u001b[0mkwargs\u001b[0m\u001b[0;34m)\u001b[0m\u001b[0;34m\u001b[0m\u001b[0m\n\u001b[0m\u001b[1;32m    263\u001b[0m \u001b[0;34m\u001b[0m\u001b[0m\n\u001b[1;32m    264\u001b[0m         \u001b[0;32mif\u001b[0m \u001b[0;32mnot\u001b[0m \u001b[0misinstance\u001b[0m\u001b[0;34m(\u001b[0m\u001b[0minitial_state\u001b[0m\u001b[0;34m,\u001b[0m \u001b[0;34m(\u001b[0m\u001b[0mlist\u001b[0m\u001b[0;34m,\u001b[0m \u001b[0mtuple\u001b[0m\u001b[0;34m)\u001b[0m\u001b[0;34m)\u001b[0m\u001b[0;34m:\u001b[0m\u001b[0;34m\u001b[0m\u001b[0m\n",
      "\u001b[0;32m/home/kvsingh/anaconda2/envs/carnd-term1/lib/python2.7/site-packages/keras/engine/topology.pyc\u001b[0m in \u001b[0;36m__call__\u001b[0;34m(self, inputs, **kwargs)\u001b[0m\n\u001b[1;32m    550\u001b[0m                 \u001b[0;31m# Raise exceptions in case the input is not compatible\u001b[0m\u001b[0;34m\u001b[0m\u001b[0;34m\u001b[0m\u001b[0m\n\u001b[1;32m    551\u001b[0m                 \u001b[0;31m# with the input_spec specified in the layer constructor.\u001b[0m\u001b[0;34m\u001b[0m\u001b[0;34m\u001b[0m\u001b[0m\n\u001b[0;32m--> 552\u001b[0;31m                 \u001b[0mself\u001b[0m\u001b[0;34m.\u001b[0m\u001b[0massert_input_compatibility\u001b[0m\u001b[0;34m(\u001b[0m\u001b[0minputs\u001b[0m\u001b[0;34m)\u001b[0m\u001b[0;34m\u001b[0m\u001b[0m\n\u001b[0m\u001b[1;32m    553\u001b[0m \u001b[0;34m\u001b[0m\u001b[0m\n\u001b[1;32m    554\u001b[0m                 \u001b[0;31m# Collect input shapes to build layer.\u001b[0m\u001b[0;34m\u001b[0m\u001b[0;34m\u001b[0m\u001b[0m\n",
      "\u001b[0;32m/home/kvsingh/anaconda2/envs/carnd-term1/lib/python2.7/site-packages/keras/engine/topology.pyc\u001b[0m in \u001b[0;36massert_input_compatibility\u001b[0;34m(self, inputs)\u001b[0m\n\u001b[1;32m    449\u001b[0m                                      \u001b[0mself\u001b[0m\u001b[0;34m.\u001b[0m\u001b[0mname\u001b[0m \u001b[0;34m+\u001b[0m \u001b[0;34m': expected ndim='\u001b[0m \u001b[0;34m+\u001b[0m\u001b[0;34m\u001b[0m\u001b[0m\n\u001b[1;32m    450\u001b[0m                                      \u001b[0mstr\u001b[0m\u001b[0;34m(\u001b[0m\u001b[0mspec\u001b[0m\u001b[0;34m.\u001b[0m\u001b[0mndim\u001b[0m\u001b[0;34m)\u001b[0m \u001b[0;34m+\u001b[0m \u001b[0;34m', found ndim='\u001b[0m \u001b[0;34m+\u001b[0m\u001b[0;34m\u001b[0m\u001b[0m\n\u001b[0;32m--> 451\u001b[0;31m                                      str(K.ndim(x)))\n\u001b[0m\u001b[1;32m    452\u001b[0m             \u001b[0;32mif\u001b[0m \u001b[0mspec\u001b[0m\u001b[0;34m.\u001b[0m\u001b[0mmax_ndim\u001b[0m \u001b[0;32mis\u001b[0m \u001b[0;32mnot\u001b[0m \u001b[0mNone\u001b[0m\u001b[0;34m:\u001b[0m\u001b[0;34m\u001b[0m\u001b[0m\n\u001b[1;32m    453\u001b[0m                 \u001b[0mndim\u001b[0m \u001b[0;34m=\u001b[0m \u001b[0mK\u001b[0m\u001b[0;34m.\u001b[0m\u001b[0mndim\u001b[0m\u001b[0;34m(\u001b[0m\u001b[0mx\u001b[0m\u001b[0;34m)\u001b[0m\u001b[0;34m\u001b[0m\u001b[0m\n",
      "\u001b[0;31mValueError\u001b[0m: Input 0 is incompatible with layer lstm_50: expected ndim=3, found ndim=4"
     ]
    }
   ],
   "source": [
    "batch_size = 32\n",
    "num_encoder_tokens = X1_train.shape[2]\n",
    "nb_epoch = 500\n",
    "\n",
    "# define training encoder\n",
    "encoder_inputs = Input(shape=(20, num_encoder_tokens))\n",
    "inputs = Lambda(lambda x: keras.backend.expand_dims(x, -1))(encoder_inputs)\n",
    "encoder = LSTM(128)(inputs)\n",
    "#encoder_outputs, state_h, state_c = encoder(encoder_inputs)\n",
    "#encoder_states = [state_h, state_c]\n",
    "\n",
    "# define training decoder\n",
    "#decoder_inputs = Input(shape=(None, 1))\n",
    "decoded = RepeatVector(20)(encoder)\n",
    "decoded = LSTM(1, return_sequences=True)(decoded)\n",
    "decoded = Lambda(lambda x: keras.backend.squeeze(x, -1))(decoded)\n",
    "#decoder_outputs, _, _ = decoder_lstm(decoder_inputs, initial_state=encoder_states)\n",
    "#decoder_dense = TimeDistributed(Dense(1))\n",
    "#decoder_outputs = decoder_dense(decoder_outputs)\n",
    "sequence_autoencoder = Model(inputs, decoded)\n",
    "encoder = Model(inputs, encoder)\n",
    "\n",
    "# define inference encoder\n",
    "#encoder_model = Model(encoder_inputs, encoder_states)\n",
    "\n",
    "# define inference decoder\n",
    "#decoder_state_input_h = Input(shape=(128,))\n",
    "#decoder_state_input_c = Input(shape=(128,))\n",
    "#decoder_states_inputs = [decoder_state_input_h, decoder_state_input_c]\n",
    "#decoder_outputs, state_h, state_c = decoder_lstm(decoder_inputs, initial_state=decoder_states_inputs)\n",
    "#decoder_states = [state_h, state_c]\n",
    "#decoder_outputs = decoder_dense(decoder_outputs)\n",
    "#decoder_model = Model([decoder_inputs] + decoder_states_inputs, [decoder_outputs] + decoder_states)"
   ]
  },
  {
   "cell_type": "code",
   "execution_count": 41,
   "metadata": {},
   "outputs": [
    {
     "name": "stdout",
     "output_type": "stream",
     "text": [
      "-- Building --\n",
      "-- Training --\n",
      "Train on 41559 samples, validate on 10390 samples\n",
      "Epoch 1/1\n",
      "41559/41559 [==============================] - 56s - loss: 0.0017 - val_loss: 0.0015\n",
      "Train on 41559 samples, validate on 10390 samples\n",
      "Epoch 1/1\n",
      "41559/41559 [==============================] - 54s - loss: 0.0012 - val_loss: 0.0015\n",
      "Train on 41559 samples, validate on 10390 samples\n",
      "Epoch 1/1\n",
      "41559/41559 [==============================] - 55s - loss: 0.0011 - val_loss: 0.0014\n",
      "Train on 41559 samples, validate on 10390 samples\n",
      "Epoch 1/1\n",
      "41559/41559 [==============================] - 54s - loss: 0.0011 - val_loss: 0.0014\n",
      "Train on 41559 samples, validate on 10390 samples\n",
      "Epoch 1/1\n",
      "41559/41559 [==============================] - 54s - loss: 0.0011 - val_loss: 0.0014\n",
      "Train on 41559 samples, validate on 10390 samples\n",
      "Epoch 1/1\n",
      "41559/41559 [==============================] - 55s - loss: 0.0011 - val_loss: 0.0014\n",
      "Train on 41559 samples, validate on 10390 samples\n",
      "Epoch 1/1\n",
      "41559/41559 [==============================] - 55s - loss: 0.0011 - val_loss: 0.0014\n",
      "Train on 41559 samples, validate on 10390 samples\n",
      "Epoch 1/1\n",
      "41559/41559 [==============================] - 54s - loss: 0.0011 - val_loss: 0.0015\n",
      "Train on 41559 samples, validate on 10390 samples\n",
      "Epoch 1/1\n",
      "41559/41559 [==============================] - 55s - loss: 0.0011 - val_loss: 0.0015\n",
      "Train on 41559 samples, validate on 10390 samples\n",
      "Epoch 1/1\n",
      "41559/41559 [==============================] - 54s - loss: 0.0010 - val_loss: 0.0015\n",
      "Train on 41559 samples, validate on 10390 samples\n",
      "Epoch 1/1\n",
      "41559/41559 [==============================] - 55s - loss: 0.0010 - val_loss: 0.0015\n",
      "Train on 41559 samples, validate on 10390 samples\n",
      "Epoch 1/1\n",
      "41559/41559 [==============================] - 55s - loss: 0.0010 - val_loss: 0.0015\n",
      "Train on 41559 samples, validate on 10390 samples\n",
      "Epoch 1/1\n",
      "41559/41559 [==============================] - 54s - loss: 0.0010 - val_loss: 0.0015\n",
      "Train on 41559 samples, validate on 10390 samples\n",
      "Epoch 1/1\n",
      "41559/41559 [==============================] - 55s - loss: 0.0010 - val_loss: 0.0014\n",
      "Train on 41559 samples, validate on 10390 samples\n",
      "Epoch 1/1\n",
      "41559/41559 [==============================] - 55s - loss: 0.0010 - val_loss: 0.0014\n",
      "Train on 41559 samples, validate on 10390 samples\n",
      "Epoch 1/1\n",
      "41559/41559 [==============================] - 54s - loss: 0.0010 - val_loss: 0.0014\n",
      "Train on 41559 samples, validate on 10390 samples\n",
      "Epoch 1/1\n",
      "41559/41559 [==============================] - 55s - loss: 0.0010 - val_loss: 0.0014\n",
      "Train on 41559 samples, validate on 10390 samples\n",
      "Epoch 1/1\n",
      "41559/41559 [==============================] - 55s - loss: 0.0010 - val_loss: 0.0014\n",
      "Train on 41559 samples, validate on 10390 samples\n",
      "Epoch 1/1\n",
      "41559/41559 [==============================] - 55s - loss: 0.0010 - val_loss: 0.0014\n",
      "Train on 41559 samples, validate on 10390 samples\n",
      "Epoch 1/1\n",
      "41559/41559 [==============================] - 54s - loss: 0.0010 - val_loss: 0.0014\n",
      "Train on 41559 samples, validate on 10390 samples\n",
      "Epoch 1/1\n",
      "41559/41559 [==============================] - 55s - loss: 0.0010 - val_loss: 0.0014\n",
      "Train on 41559 samples, validate on 10390 samples\n",
      "Epoch 1/1\n",
      "41559/41559 [==============================] - 55s - loss: 0.0010 - val_loss: 0.0014\n",
      "Train on 41559 samples, validate on 10390 samples\n",
      "Epoch 1/1\n",
      "41559/41559 [==============================] - 55s - loss: 0.0010 - val_loss: 0.0014\n",
      "Train on 41559 samples, validate on 10390 samples\n",
      "Epoch 1/1\n",
      "41559/41559 [==============================] - 55s - loss: 0.0010 - val_loss: 0.0014\n",
      "Train on 41559 samples, validate on 10390 samples\n",
      "Epoch 1/1\n",
      "41559/41559 [==============================] - 55s - loss: 0.0010 - val_loss: 0.0014\n",
      "Train on 41559 samples, validate on 10390 samples\n",
      "Epoch 1/1\n",
      "41559/41559 [==============================] - 56s - loss: 0.0010 - val_loss: 0.0014\n",
      "Train on 41559 samples, validate on 10390 samples\n",
      "Epoch 1/1\n",
      "41559/41559 [==============================] - 56s - loss: 0.0010 - val_loss: 0.0014\n",
      "Train on 41559 samples, validate on 10390 samples\n",
      "Epoch 1/1\n",
      "41559/41559 [==============================] - 56s - loss: 0.0010 - val_loss: 0.0014\n",
      "Train on 41559 samples, validate on 10390 samples\n",
      "Epoch 1/1\n",
      "41559/41559 [==============================] - 56s - loss: 0.0010 - val_loss: 0.0014\n",
      "Train on 41559 samples, validate on 10390 samples\n",
      "Epoch 1/1\n",
      "41559/41559 [==============================] - 56s - loss: 0.0010 - val_loss: 0.0014\n",
      "Train on 41559 samples, validate on 10390 samples\n",
      "Epoch 1/1\n",
      "41559/41559 [==============================] - 55s - loss: 0.0010 - val_loss: 0.0014\n",
      "Train on 41559 samples, validate on 10390 samples\n",
      "Epoch 1/1\n",
      "41559/41559 [==============================] - 55s - loss: 0.0010 - val_loss: 0.0014\n",
      "Train on 41559 samples, validate on 10390 samples\n",
      "Epoch 1/1\n",
      "41559/41559 [==============================] - 55s - loss: 0.0010 - val_loss: 0.0014\n",
      "Train on 41559 samples, validate on 10390 samples\n",
      "Epoch 1/1\n",
      "41559/41559 [==============================] - 55s - loss: 0.0010 - val_loss: 0.0014\n",
      "Train on 41559 samples, validate on 10390 samples\n",
      "Epoch 1/1\n",
      "41559/41559 [==============================] - 54s - loss: 0.0010 - val_loss: 0.0014\n",
      "Train on 41559 samples, validate on 10390 samples\n",
      "Epoch 1/1\n",
      "41559/41559 [==============================] - 55s - loss: 0.0010 - val_loss: 0.0014\n",
      "Train on 41559 samples, validate on 10390 samples\n",
      "Epoch 1/1\n",
      "41559/41559 [==============================] - 55s - loss: 0.0010 - val_loss: 0.0014\n",
      "Train on 41559 samples, validate on 10390 samples\n",
      "Epoch 1/1\n",
      "41559/41559 [==============================] - 54s - loss: 0.0010 - val_loss: 0.0014\n",
      "Train on 41559 samples, validate on 10390 samples\n",
      "Epoch 1/1\n",
      "41559/41559 [==============================] - 56s - loss: 0.0010 - val_loss: 0.0014\n",
      "Train on 41559 samples, validate on 10390 samples\n",
      "Epoch 1/1\n",
      "41559/41559 [==============================] - 56s - loss: 0.0010 - val_loss: 0.0014\n",
      "Train on 41559 samples, validate on 10390 samples\n",
      "Epoch 1/1\n",
      "41559/41559 [==============================] - 57s - loss: 0.0010 - val_loss: 0.0014\n",
      "Train on 41559 samples, validate on 10390 samples\n",
      "Epoch 1/1\n",
      "41559/41559 [==============================] - 56s - loss: 0.0010 - val_loss: 0.0014\n",
      "Train on 41559 samples, validate on 10390 samples\n",
      "Epoch 1/1\n",
      "41559/41559 [==============================] - 55s - loss: 0.0010 - val_loss: 0.0014\n",
      "Train on 41559 samples, validate on 10390 samples\n",
      "Epoch 1/1\n",
      "41559/41559 [==============================] - 56s - loss: 0.0010 - val_loss: 0.0014\n",
      "Train on 41559 samples, validate on 10390 samples\n",
      "Epoch 1/1\n",
      "41559/41559 [==============================] - 55s - loss: 9.9910e-04 - val_loss: 0.0014\n",
      "Train on 41559 samples, validate on 10390 samples\n",
      "Epoch 1/1\n",
      "41559/41559 [==============================] - 56s - loss: 9.9741e-04 - val_loss: 0.0014\n",
      "Train on 41559 samples, validate on 10390 samples\n",
      "Epoch 1/1\n",
      "41559/41559 [==============================] - 57s - loss: 9.9629e-04 - val_loss: 0.0014\n",
      "Train on 41559 samples, validate on 10390 samples\n",
      "Epoch 1/1\n",
      "41559/41559 [==============================] - 55s - loss: 9.9483e-04 - val_loss: 0.0014\n",
      "Train on 41559 samples, validate on 10390 samples\n",
      "Epoch 1/1\n",
      "41559/41559 [==============================] - 56s - loss: 9.9351e-04 - val_loss: 0.0014\n",
      "Train on 41559 samples, validate on 10390 samples\n",
      "Epoch 1/1\n",
      "41559/41559 [==============================] - 55s - loss: 9.9220e-04 - val_loss: 0.0014\n",
      "Train on 41559 samples, validate on 10390 samples\n",
      "Epoch 1/1\n",
      "41559/41559 [==============================] - 55s - loss: 9.9063e-04 - val_loss: 0.0014\n",
      "Train on 41559 samples, validate on 10390 samples\n",
      "Epoch 1/1\n",
      "41559/41559 [==============================] - 56s - loss: 9.8847e-04 - val_loss: 0.0013\n",
      "Train on 41559 samples, validate on 10390 samples\n",
      "Epoch 1/1\n",
      "41559/41559 [==============================] - 55s - loss: 9.8590e-04 - val_loss: 0.0013\n",
      "Train on 41559 samples, validate on 10390 samples\n",
      "Epoch 1/1\n",
      "41559/41559 [==============================] - 55s - loss: 9.8356e-04 - val_loss: 0.0013\n",
      "Train on 41559 samples, validate on 10390 samples\n",
      "Epoch 1/1\n",
      "41559/41559 [==============================] - 55s - loss: 9.8179e-04 - val_loss: 0.0013\n",
      "Train on 41559 samples, validate on 10390 samples\n",
      "Epoch 1/1\n",
      "41559/41559 [==============================] - 55s - loss: 9.8050e-04 - val_loss: 0.0014\n",
      "Train on 41559 samples, validate on 10390 samples\n",
      "Epoch 1/1\n",
      "41559/41559 [==============================] - 54s - loss: 9.7963e-04 - val_loss: 0.0014\n",
      "Train on 41559 samples, validate on 10390 samples\n",
      "Epoch 1/1\n",
      "41559/41559 [==============================] - 55s - loss: 9.7925e-04 - val_loss: 0.0014\n",
      "Train on 41559 samples, validate on 10390 samples\n",
      "Epoch 1/1\n",
      "41559/41559 [==============================] - 54s - loss: 9.7892e-04 - val_loss: 0.0014\n",
      "Train on 41559 samples, validate on 10390 samples\n",
      "Epoch 1/1\n",
      "41559/41559 [==============================] - 54s - loss: 9.7834e-04 - val_loss: 0.0013\n",
      "Train on 41559 samples, validate on 10390 samples\n",
      "Epoch 1/1\n",
      "41559/41559 [==============================] - 55s - loss: 9.7786e-04 - val_loss: 0.0013\n",
      "Train on 41559 samples, validate on 10390 samples\n",
      "Epoch 1/1\n",
      "41559/41559 [==============================] - 55s - loss: 9.7614e-04 - val_loss: 0.0013\n",
      "Train on 41559 samples, validate on 10390 samples\n",
      "Epoch 1/1\n",
      "41559/41559 [==============================] - 56s - loss: 9.7631e-04 - val_loss: 0.0013\n",
      "Train on 41559 samples, validate on 10390 samples\n",
      "Epoch 1/1\n",
      "41559/41559 [==============================] - 54s - loss: 9.7459e-04 - val_loss: 0.0013\n",
      "Train on 41559 samples, validate on 10390 samples\n",
      "Epoch 1/1\n",
      "41559/41559 [==============================] - 55s - loss: 9.7161e-04 - val_loss: 0.0013\n",
      "Train on 41559 samples, validate on 10390 samples\n",
      "Epoch 1/1\n",
      "41559/41559 [==============================] - 56s - loss: 9.7087e-04 - val_loss: 0.0013\n",
      "Train on 41559 samples, validate on 10390 samples\n",
      "Epoch 1/1\n",
      "41559/41559 [==============================] - 54s - loss: 9.7058e-04 - val_loss: 0.0013\n",
      "Train on 41559 samples, validate on 10390 samples\n",
      "Epoch 1/1\n",
      "39312/41559 [===========================>..] - ETA: 2s - loss: 9.4251e-04"
     ]
    },
    {
     "name": "stderr",
     "output_type": "stream",
     "text": [
      "IOPub message rate exceeded.\n",
      "The notebook server will temporarily stop sending output\n",
      "to the client in order to avoid crashing it.\n",
      "To change this limit, set the config variable\n",
      "`--NotebookApp.iopub_msg_rate_limit`.\n",
      "\n",
      "Current values:\n",
      "NotebookApp.iopub_msg_rate_limit=1000.0 (msgs/sec)\n",
      "NotebookApp.rate_limit_window=3.0 (secs)\n",
      "\n"
     ]
    },
    {
     "name": "stdout",
     "output_type": "stream",
     "text": [
      "41559/41559 [==============================] - 55s - loss: 9.7063e-04 - val_loss: 0.0013\n",
      "Train on 41559 samples, validate on 10390 samples\n",
      "Epoch 1/1\n",
      "41559/41559 [==============================] - 55s - loss: 9.7088e-04 - val_loss: 0.0013\n",
      "Train on 41559 samples, validate on 10390 samples\n",
      "Epoch 1/1\n",
      "41559/41559 [==============================] - 56s - loss: 9.7080e-04 - val_loss: 0.0013\n",
      "Train on 41559 samples, validate on 10390 samples\n",
      "Epoch 1/1\n",
      "26229/41559 [=================>............] - ETA: 19s - loss: 8.8442e-04"
     ]
    },
    {
     "name": "stderr",
     "output_type": "stream",
     "text": [
      "IOPub message rate exceeded.\n",
      "The notebook server will temporarily stop sending output\n",
      "to the client in order to avoid crashing it.\n",
      "To change this limit, set the config variable\n",
      "`--NotebookApp.iopub_msg_rate_limit`.\n",
      "\n",
      "Current values:\n",
      "NotebookApp.iopub_msg_rate_limit=1000.0 (msgs/sec)\n",
      "NotebookApp.rate_limit_window=3.0 (secs)\n",
      "\n"
     ]
    },
    {
     "name": "stdout",
     "output_type": "stream",
     "text": [
      "41559/41559 [==============================] - 57s - loss: 9.7065e-04 - val_loss: 0.0013\n",
      "Train on 41559 samples, validate on 10390 samples\n",
      "Epoch 1/1\n",
      "41559/41559 [==============================] - 55s - loss: 9.7004e-04 - val_loss: 0.0013\n",
      "Train on 41559 samples, validate on 10390 samples\n",
      "Epoch 1/1\n",
      "41559/41559 [==============================] - 55s - loss: 9.7007e-04 - val_loss: 0.0013\n",
      "Train on 41559 samples, validate on 10390 samples\n",
      "Epoch 1/1\n",
      "41559/41559 [==============================] - 55s - loss: 9.7017e-04 - val_loss: 0.0013\n",
      "Train on 41559 samples, validate on 10390 samples\n",
      "Epoch 1/1\n",
      "41559/41559 [==============================] - 55s - loss: 9.6952e-04 - val_loss: 0.0013\n",
      "Train on 41559 samples, validate on 10390 samples\n",
      "Epoch 1/1\n",
      "41559/41559 [==============================] - 55s - loss: 9.6907e-04 - val_loss: 0.0013\n",
      "Train on 41559 samples, validate on 10390 samples\n",
      "Epoch 1/1\n",
      "41559/41559 [==============================] - 55s - loss: 9.6846e-04 - val_loss: 0.0013\n",
      "Train on 41559 samples, validate on 10390 samples\n",
      "Epoch 1/1\n",
      "41559/41559 [==============================] - 55s - loss: 9.6782e-04 - val_loss: 0.0013\n",
      "Train on 41559 samples, validate on 10390 samples\n",
      "Epoch 1/1\n",
      "41559/41559 [==============================] - 55s - loss: 9.6806e-04 - val_loss: 0.0013\n",
      "Train on 41559 samples, validate on 10390 samples\n",
      "Epoch 1/1\n",
      "41559/41559 [==============================] - 55s - loss: 9.6886e-04 - val_loss: 0.0013\n",
      "Train on 41559 samples, validate on 10390 samples\n",
      "Epoch 1/1\n",
      "41559/41559 [==============================] - 55s - loss: 9.6778e-04 - val_loss: 0.0013\n",
      "Train on 41559 samples, validate on 10390 samples\n",
      "Epoch 1/1\n",
      "41559/41559 [==============================] - 55s - loss: 9.6686e-04 - val_loss: 0.0013\n",
      "Train on 41559 samples, validate on 10390 samples\n",
      "Epoch 1/1\n",
      "41559/41559 [==============================] - 55s - loss: 9.6653e-04 - val_loss: 0.0013\n",
      "Train on 41559 samples, validate on 10390 samples\n",
      "Epoch 1/1\n",
      "41559/41559 [==============================] - 55s - loss: 9.6609e-04 - val_loss: 0.0013\n",
      "Train on 41559 samples, validate on 10390 samples\n",
      "Epoch 1/1\n",
      "41559/41559 [==============================] - 55s - loss: 9.6568e-04 - val_loss: 0.0013\n",
      "Train on 41559 samples, validate on 10390 samples\n",
      "Epoch 1/1\n",
      "41559/41559 [==============================] - 54s - loss: 9.6565e-04 - val_loss: 0.0013\n",
      "Train on 41559 samples, validate on 10390 samples\n",
      "Epoch 1/1\n",
      "41559/41559 [==============================] - 55s - loss: 9.6553e-04 - val_loss: 0.0013\n",
      "Train on 41559 samples, validate on 10390 samples\n",
      "Epoch 1/1\n",
      "41559/41559 [==============================] - 55s - loss: 9.6527e-04 - val_loss: 0.0013\n",
      "Train on 41559 samples, validate on 10390 samples\n",
      "Epoch 1/1\n",
      "41559/41559 [==============================] - 55s - loss: 9.6513e-04 - val_loss: 0.0013\n",
      "Train on 41559 samples, validate on 10390 samples\n",
      "Epoch 1/1\n",
      "41559/41559 [==============================] - 55s - loss: 9.6552e-04 - val_loss: 0.0013\n",
      "Train on 41559 samples, validate on 10390 samples\n",
      "Epoch 1/1\n",
      "41559/41559 [==============================] - 55s - loss: 9.6583e-04 - val_loss: 0.0013\n",
      "Train on 41559 samples, validate on 10390 samples\n",
      "Epoch 1/1\n",
      "41559/41559 [==============================] - 55s - loss: 9.6630e-04 - val_loss: 0.0013\n",
      "Train on 41559 samples, validate on 10390 samples\n",
      "Epoch 1/1\n",
      "41559/41559 [==============================] - 55s - loss: 9.6686e-04 - val_loss: 0.0013\n",
      "Train on 41559 samples, validate on 10390 samples\n",
      "Epoch 1/1\n",
      "41559/41559 [==============================] - 55s - loss: 9.6717e-04 - val_loss: 0.0013\n",
      "Train on 41559 samples, validate on 10390 samples\n",
      "Epoch 1/1\n",
      "41559/41559 [==============================] - 54s - loss: 9.6660e-04 - val_loss: 0.0013\n"
     ]
    }
   ],
   "source": [
    "print(\"-- Building --\")\n",
    "model.compile(loss=\"mse\",\n",
    "                  optimizer = 'adam')\n",
    "\n",
    "print('-- Training --')\n",
    "for i in range(nb_epoch):\n",
    "    model.fit([X1_train, X2_train], Y_train, \n",
    "              epochs=1, \n",
    "              batch_size=batch_size, \n",
    "              validation_split=0.2,\n",
    "              shuffle=False)"
   ]
  },
  {
   "cell_type": "markdown",
   "metadata": {},
   "source": [
    "Saving/Loading"
   ]
  },
  {
   "cell_type": "code",
   "execution_count": 12,
   "metadata": {},
   "outputs": [],
   "source": [
    "from keras.models import load_model"
   ]
  },
  {
   "cell_type": "code",
   "execution_count": 42,
   "metadata": {},
   "outputs": [],
   "source": [
    "model.save('model_encdec.h5')\n",
    "encoder_model.save('encoder_model.h5')\n",
    "decoder_model.save('decoder_model.h5')"
   ]
  },
  {
   "cell_type": "code",
   "execution_count": 19,
   "metadata": {},
   "outputs": [],
   "source": [
    "# returns a compiled model\n",
    "# identical to the previous one\n",
    "model.load_weights('model_encdec.h5')\n",
    "encoder_model.load_weights('encoder_model.h5')\n",
    "decoder_model.load_weights('decoder_model.h5')"
   ]
  },
  {
   "cell_type": "code",
   "execution_count": 119,
   "metadata": {},
   "outputs": [],
   "source": [
    "def predict_sequence(infenc, infdec, source, n_steps, cardinality):\n",
    "    # encode\n",
    "    state = infenc.predict(source)\n",
    "    # start of sequence input\n",
    "    target_seq = np.array(source[0][source.shape[1] - cardinality:]).reshape(1, cardinality, 1)\n",
    "    # collect predictions\n",
    "    output = list()\n",
    "    for t in range(n_steps):\n",
    "        # predict next char\n",
    "        yhat, h, c = infdec.predict([target_seq] + state)\n",
    "        # store prediction\n",
    "        output.append(yhat[0,-1:,:])\n",
    "        # update target sequence\n",
    "        #target_seq = np.concatenate((source[:,1:,:], [[yhat[0,0,:]]]), axis = 1) \n",
    "        target_seq = source[:,1:,:]\n",
    "        # update state\n",
    "        state = infenc.predict(target_seq)\n",
    "    return np.array(output)"
   ]
  },
  {
   "cell_type": "code",
   "execution_count": 127,
   "metadata": {},
   "outputs": [],
   "source": [
    "predictions = []\n",
    "for i in range(20,100):\n",
    "    prediction = predict_sequence(encoder_model, decoder_model, X1_test[i].reshape(1, 10, 1), 5, 1)\n",
    "    predictions.append(prediction)"
   ]
  },
  {
   "cell_type": "code",
   "execution_count": 128,
   "metadata": {},
   "outputs": [],
   "source": [
    "pred_x_test = np.reshape(predictions, (len(predictions), len(predictions[0])))\n",
    "#pred_test = inverse_transform(pred_x_test, scaler)\n",
    "\n",
    "y_test = np.float_(Y_test)\n",
    "y_test = np.reshape(y_test, (y_test.shape[0], y_test.shape[1]))\n",
    "#y_test_inv = inverse_transform(y_test, traffic_scaler)"
   ]
  },
  {
   "cell_type": "code",
   "execution_count": 168,
   "metadata": {},
   "outputs": [
    {
     "name": "stdout",
     "output_type": "stream",
     "text": [
      "Predicted: \n",
      "[  1.13859881e+10   1.28293704e+10   1.48374835e+10   1.68898796e+10\n",
      "   1.78931978e+10   1.81812142e+10   1.82731244e+10   1.83032238e+10\n",
      "   1.83131628e+10   1.83164539e+10   1.83175414e+10   1.83179018e+10\n",
      "   1.83180227e+10   1.83180595e+10   1.83180718e+10   1.83180780e+10\n",
      "   1.83180800e+10   1.83180800e+10   1.83180800e+10   1.83180800e+10]\n",
      "Truth: \n",
      "[  1.09601279e+10   1.04230149e+10   9.80011016e+09   1.13466452e+10\n",
      "   1.42833052e+10   1.23739100e+10   1.21605770e+10   1.60745160e+10\n",
      "   1.03953253e+10   1.04252255e+10   1.23324522e+10   1.46597231e+10\n",
      "   8.15605503e+09   9.13608943e+09   1.04815991e+10   8.85708707e+09\n",
      "   9.35315194e+09   9.42771950e+09   1.17577699e+10   9.59385411e+09]\n",
      "Predicted: \n",
      "[  1.21612452e+10   1.26049393e+10   1.31931402e+10   1.39868877e+10\n",
      "   1.50872760e+10   1.63646116e+10   1.73479567e+10   1.79510088e+10\n",
      "   1.83224402e+10   1.85163039e+10   1.86010644e+10   1.86383380e+10\n",
      "   1.86547732e+10   1.86620252e+10   1.86652324e+10   1.86666455e+10\n",
      "   1.86672681e+10   1.86675425e+10   1.86676654e+10   1.86677207e+10]\n",
      "Truth: \n",
      "[  1.04230149e+10   9.80011016e+09   1.13466452e+10   1.42833052e+10\n",
      "   1.23739100e+10   1.21605770e+10   1.60745160e+10   1.03953253e+10\n",
      "   1.04252255e+10   1.23324522e+10   1.46597231e+10   8.15605503e+09\n",
      "   9.13608943e+09   1.04815991e+10   8.85708707e+09   9.35315194e+09\n",
      "   9.42771950e+09   1.17577699e+10   9.59385411e+09   8.69697576e+09]\n",
      "Predicted: \n",
      "[  1.07001303e+10   1.37679124e+10   1.70568376e+10   2.00860836e+10\n",
      "   2.19543839e+10   2.31791698e+10   2.41240371e+10   2.47465288e+10\n",
      "   2.50168033e+10   2.51301949e+10   2.51769979e+10   2.51961795e+10\n",
      "   2.52040212e+10   2.52072202e+10   2.52085228e+10   2.52090573e+10\n",
      "   2.52092764e+10   2.52093624e+10   2.52093993e+10   2.52094157e+10]\n",
      "Truth: \n",
      "[  9.80011016e+09   1.13466452e+10   1.42833052e+10   1.23739100e+10\n",
      "   1.21605770e+10   1.60745160e+10   1.03953253e+10   1.04252255e+10\n",
      "   1.23324522e+10   1.46597231e+10   8.15605503e+09   9.13608943e+09\n",
      "   1.04815991e+10   8.85708707e+09   9.35315194e+09   9.42771950e+09\n",
      "   1.17577699e+10   9.59385411e+09   8.69697576e+09   9.76345961e+09]\n",
      "Predicted: \n",
      "[  1.26873037e+10   1.61520200e+10   1.97083525e+10   2.29870592e+10\n",
      "   2.63396844e+10   2.82877972e+10   2.72580403e+10   2.79850803e+10\n",
      "   2.74766807e+10   2.78354043e+10   2.75837727e+10   2.77618852e+10\n",
      "   2.76367872e+10   2.77254349e+10   2.76634481e+10   2.77070868e+10\n",
      "   2.76768584e+10   2.76978545e+10   2.76833976e+10   2.76933468e+10]\n",
      "Truth: \n",
      "[  1.13466452e+10   1.42833052e+10   1.23739100e+10   1.21605770e+10\n",
      "   1.60745160e+10   1.03953253e+10   1.04252255e+10   1.23324522e+10\n",
      "   1.46597231e+10   8.15605503e+09   9.13608943e+09   1.04815991e+10\n",
      "   8.85708707e+09   9.35315194e+09   9.42771950e+09   1.17577699e+10\n",
      "   9.59385411e+09   8.69697576e+09   9.76345961e+09   1.00005254e+10]\n",
      "Predicted: \n",
      "[  1.44168991e+10   1.42073498e+10   1.40882934e+10   1.40217057e+10\n",
      "   1.39837532e+10   1.39562086e+10   1.39362437e+10   1.39217756e+10\n",
      "   1.39113052e+10   1.39037235e+10   1.38982369e+10   1.38942669e+10\n",
      "   1.38913976e+10   1.38893189e+10   1.38878218e+10   1.38867364e+10\n",
      "   1.38859479e+10   1.38853632e+10   1.38849331e+10   1.38846147e+10]\n",
      "Truth: \n",
      "[  1.42833052e+10   1.23739100e+10   1.21605770e+10   1.60745160e+10\n",
      "   1.03953253e+10   1.04252255e+10   1.23324522e+10   1.46597231e+10\n",
      "   8.15605503e+09   9.13608943e+09   1.04815991e+10   8.85708707e+09\n",
      "   9.35315194e+09   9.42771950e+09   1.17577699e+10   9.59385411e+09\n",
      "   8.69697576e+09   9.76345961e+09   1.00005254e+10   1.10330820e+10]\n",
      "Predicted: \n",
      "[  1.41585357e+10   1.36656548e+10   1.32811725e+10   1.30304502e+10\n",
      "   1.29005076e+10   1.28374927e+10   1.28068649e+10   1.27919688e+10\n",
      "   1.27847209e+10   1.27811973e+10   1.27794790e+10   1.27786291e+10\n",
      "   1.27781786e+10   1.27779410e+10   1.27778120e+10   1.27777454e+10\n",
      "   1.27777096e+10   1.27776891e+10   1.27776778e+10   1.27776748e+10]\n",
      "Truth: \n",
      "[  1.23739100e+10   1.21605770e+10   1.60745160e+10   1.03953253e+10\n",
      "   1.04252255e+10   1.23324522e+10   1.46597231e+10   8.15605503e+09\n",
      "   9.13608943e+09   1.04815991e+10   8.85708707e+09   9.35315194e+09\n",
      "   9.42771950e+09   1.17577699e+10   9.59385411e+09   8.69697576e+09\n",
      "   9.76345961e+09   1.00005254e+10   1.10330820e+10   1.30761013e+10]\n",
      "Predicted: \n",
      "[  1.25829714e+10   1.35056015e+10   1.43857213e+10   1.51396116e+10\n",
      "   1.55615980e+10   1.57631068e+10   1.58559037e+10   1.58978253e+10\n",
      "   1.59165972e+10   1.59249644e+10   1.59286866e+10   1.59303414e+10\n",
      "   1.59310787e+10   1.59314033e+10   1.59315497e+10   1.59316142e+10\n",
      "   1.59316429e+10   1.59316552e+10   1.59316613e+10   1.59316644e+10]\n",
      "Truth: \n",
      "[  1.21605770e+10   1.60745160e+10   1.03953253e+10   1.04252255e+10\n",
      "   1.23324522e+10   1.46597231e+10   8.15605503e+09   9.13608943e+09\n",
      "   1.04815991e+10   8.85708707e+09   9.35315194e+09   9.42771950e+09\n",
      "   1.17577699e+10   9.59385411e+09   8.69697576e+09   9.76345961e+09\n",
      "   1.00005254e+10   1.10330820e+10   1.30761013e+10   9.25085758e+09]\n",
      "Predicted: \n",
      "[  1.31933676e+10   1.70016860e+10   1.96272701e+10   2.04770673e+10\n",
      "   2.05045166e+10   2.05074637e+10   2.05077832e+10   2.05078200e+10\n",
      "   2.05078221e+10   2.05078262e+10   2.05078221e+10   2.05078262e+10\n",
      "   2.05078221e+10   2.05078262e+10   2.05078221e+10   2.05078262e+10\n",
      "   2.05078221e+10   2.05078262e+10   2.05078221e+10   2.05078262e+10]\n",
      "Truth: \n",
      "[  1.60745160e+10   1.03953253e+10   1.04252255e+10   1.23324522e+10\n",
      "   1.46597231e+10   8.15605503e+09   9.13608943e+09   1.04815991e+10\n",
      "   8.85708707e+09   9.35315194e+09   9.42771950e+09   1.17577699e+10\n",
      "   9.59385411e+09   8.69697576e+09   9.76345961e+09   1.00005254e+10\n",
      "   1.10330820e+10   1.30761013e+10   9.25085758e+09   8.40314379e+09]\n",
      "Predicted: \n",
      "[  1.89331354e+10   1.27023258e+10   1.05109125e+10   1.14857288e+10\n",
      "   1.12426772e+10   1.13512653e+10   1.13039063e+10   1.13247898e+10\n",
      "   1.13156239e+10   1.13196554e+10   1.13178849e+10   1.13186611e+10\n",
      "   1.13183201e+10   1.13184727e+10   1.13184031e+10   1.13184348e+10\n",
      "   1.13184195e+10   1.13184276e+10   1.13184205e+10   1.13184266e+10]\n",
      "Truth: \n",
      "[  1.03953253e+10   1.04252255e+10   1.23324522e+10   1.46597231e+10\n",
      "   8.15605503e+09   9.13608943e+09   1.04815991e+10   8.85708707e+09\n",
      "   9.35315194e+09   9.42771950e+09   1.17577699e+10   9.59385411e+09\n",
      "   8.69697576e+09   9.76345961e+09   1.00005254e+10   1.10330820e+10\n",
      "   1.30761013e+10   9.25085758e+09   8.40314379e+09   9.83023787e+09]\n",
      "Predicted: \n",
      "[  1.16454584e+10   1.39257825e+10   1.57586862e+10   1.64093880e+10\n",
      "   1.64828682e+10   1.64905206e+10   1.64913091e+10   1.64913889e+10\n",
      "   1.64913992e+10   1.64914002e+10   1.64913971e+10   1.64914002e+10\n",
      "   1.64913971e+10   1.64914002e+10   1.64913971e+10   1.64914002e+10\n",
      "   1.64913971e+10   1.64914002e+10   1.64913971e+10   1.64914002e+10]\n",
      "Truth: \n",
      "[  1.04252255e+10   1.23324522e+10   1.46597231e+10   8.15605503e+09\n",
      "   9.13608943e+09   1.04815991e+10   8.85708707e+09   9.35315194e+09\n",
      "   9.42771950e+09   1.17577699e+10   9.59385411e+09   8.69697576e+09\n",
      "   9.76345961e+09   1.00005254e+10   1.10330820e+10   1.30761013e+10\n",
      "   9.25085758e+09   8.40314379e+09   9.83023787e+09   1.08897617e+10]\n"
     ]
    }
   ],
   "source": [
    "for i in range(10):\n",
    "    print(\"Predicted: \")\n",
    "    print(pred_test[i])\n",
    "    print(\"Truth: \")\n",
    "    print(y_test_inv[i])"
   ]
  },
  {
   "cell_type": "code",
   "execution_count": 133,
   "metadata": {},
   "outputs": [
    {
     "data": {
      "image/png": "[encoded data removed]",
      "text/plain": [
       "<matplotlib.figure.Figure at 0x7fabe8012550>"
      ]
     },
     "metadata": {},
     "output_type": "display_data"
    }
   ],
   "source": [
    "#1 timestep ahead has good prediction\n",
    "\n",
    "pred_first = [item[0] for item in pred_x_test][1:]\n",
    "y_first = [item[0] for item in y_test][20:100]\n",
    "\n",
    "# line_test_pred = np.reshape(pred_test, pred_test.shape[0])\n",
    "# line_test_real = np.reshape(y_test_inv, y_test_inv.shape[0])\n",
    "plt.figure(figsize=(20,10))\n",
    "plt.plot(pred_first, color='blue',label='Prediction', linewidth=1)\n",
    "plt.plot(y_first, color='red',label='Original', linewidth=1)\n",
    "plt.legend(loc='best')\n",
    "plt.title('Test - Comparison')\n",
    "plt.show()"
   ]
  },
  {
   "cell_type": "markdown",
   "metadata": {},
   "source": [
    "## Generalization"
   ]
  },
  {
   "cell_type": "code",
   "execution_count": null,
   "metadata": {},
   "outputs": [],
   "source": []
  },
  {
   "cell_type": "markdown",
   "metadata": {},
   "source": [
    "## Amount of Training Data"
   ]
  },
  {
   "cell_type": "code",
   "execution_count": null,
   "metadata": {},
   "outputs": [],
   "source": [
    "for i in range()\n",
    "\n",
    "edge_1767_more = query_edge('1767', \"2018-05-01T18:22:53.253Z\", \"2018-05-21T18:22:53.253Z\")\n",
    "points_1767_more = clean_edge_data(edge_1767_more)\n",
    "pathway = points_1767_more.columns.values[1]\n",
    "points_1767_features = edge_features(points_1767_more, pathway)"
   ]
  },
  {
   "cell_type": "code",
   "execution_count": null,
   "metadata": {},
   "outputs": [],
   "source": [
    "scaler = MinMaxScaler(feature_range=(0,1))\n",
    "traffic_scaler = MinMaxScaler(feature_range=(0,1))\n",
    "X_train, Y_train, X_test, Y_test = train_test_multistep(points_1767_chicstar, \"CHIC--STAR\", 0.9, seq_len_x, \n",
    "                                                        seq_len_y, scaler, traffic_scaler)"
   ]
  },
  {
   "cell_type": "code",
   "execution_count": null,
   "metadata": {},
   "outputs": [],
   "source": [
    "batch_size = 128\n",
    "nb_epoch = 100\n",
    "\n",
    "model_multiple_10min = Sequential()\n",
    "model_multiple_10min.add(LSTM(input_dim=1, output_dim=30, return_sequences=False))\n",
    "model_multiple_10min.add(RepeatVector(20)) #seq_len_y\n",
    "model_multiple_10min.add(LSTM(output_dim=30, return_sequences=True))\n",
    "model_multiple_10min.add(LSTM(output_dim=30, return_sequences=True))\n",
    "model_multiple_10min.add(TimeDistributed(Dense(1))) \n",
    "    \n",
    "print(\"-- Building --\")\n",
    "model_multiple_10min.compile(loss=\"mse\",\n",
    "                  optimizer = 'adam')\n",
    "\n",
    "print('-- Training --')\n",
    "for i in range(nb_epoch):\n",
    "    model_multiple_10min.fit(X_train, Y_train, nb_epoch=1, batch_size=batch_size, shuffle=False)\n",
    "    model_multiple_10min.reset_states()"
   ]
  },
  {
   "cell_type": "code",
   "execution_count": null,
   "metadata": {},
   "outputs": [],
   "source": [
    "#Less data\n",
    "\n",
    "edge_1767_less = query_edge('1767', \"2018-05-18T18:22:53.253Z\", \"2018-05-21T18:22:53.253Z\")\n",
    "points_1767_less = clean_edge_data(edge_1767_less)\n",
    "pathway = points_1767_less.columns.values[1]\n",
    "points_1767_features = edge_features(points_1767_less, pathway)"
   ]
  }
 ],
 "metadata": {
  "kernelspec": {
   "display_name": "Python 2",
   "language": "python",
   "name": "python2"
  },
  "language_info": {
   "codemirror_mode": {
    "name": "ipython",
    "version": 2
   },
   "file_extension": ".py",
   "mimetype": "text/x-python",
   "name": "python",
   "nbconvert_exporter": "python",
   "pygments_lexer": "ipython2",
   "version": "2.7.13"
  },
  "widgets": {
   "state": {},
   "version": "1.1.2"
  }
 },
 "nbformat": 4,
 "nbformat_minor": 2
}

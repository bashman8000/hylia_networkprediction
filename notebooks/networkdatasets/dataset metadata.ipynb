add details of data

graph of each data

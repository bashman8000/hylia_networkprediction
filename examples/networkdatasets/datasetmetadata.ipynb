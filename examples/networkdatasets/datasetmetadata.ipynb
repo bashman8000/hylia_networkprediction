Adding each details on how each data is generated.


Add graph of data
